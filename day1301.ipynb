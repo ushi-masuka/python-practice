{
  "cells": [
    {
      "cell_type": "markdown",
      "metadata": {
        "id": "6WdKdPGx-tnY"
      },
      "source": [
        "**Note: In Data Science googling is a very important skill. If you find some difficulties to solve the problem, google it and try to find some clues to solve.**"
      ]
    },
    {
      "cell_type": "code",
      "execution_count": 2,
      "metadata": {
        "id": "-J4F1ysN4mLk"
      },
      "outputs": [],
      "source": [
        "import numpy as np"
      ]
    },
    {
      "cell_type": "markdown",
      "metadata": {
        "id": "a_K8IH-C6HDK"
      },
      "source": [
        "###`Q-1` Create a null vector of size 10 but the fifth value which is 1.\n",
        "\n"
      ]
    },
    {
      "cell_type": "code",
      "execution_count": 6,
      "metadata": {},
      "outputs": [
        {
          "data": {
            "text/plain": [
              "array([0., 0., 0., 0., 1., 0., 0., 0., 0., 0.])"
            ]
          },
          "execution_count": 6,
          "metadata": {},
          "output_type": "execute_result"
        }
      ],
      "source": [
        "null_array=np.zeros(10)\n",
        "null_array[4]=1\n",
        "null_array"
      ]
    },
    {
      "cell_type": "code",
      "execution_count": 5,
      "metadata": {
        "id": "sTF03KsZ6QUI"
      },
      "outputs": [
        {
          "data": {
            "text/plain": [
              "array([nan, nan, nan, nan,  1., nan, nan, nan, nan, nan])"
            ]
          },
          "execution_count": 5,
          "metadata": {},
          "output_type": "execute_result"
        }
      ],
      "source": [
        "null_array=np.full(10,np.nan)\n",
        "null_array[4]=1\n",
        "null_array"
      ]
    },
    {
      "cell_type": "markdown",
      "metadata": {
        "id": "TEiG25rS6S1i"
      },
      "source": [
        "###`Q-2` Ask user to input two numbers a, b. Write a program to generate a random array of shape (a, b) and print the array and avg of the array."
      ]
    },
    {
      "cell_type": "code",
      "execution_count": 13,
      "metadata": {
        "id": "ihwn4oOH6Vh7"
      },
      "outputs": [
        {
          "name": "stdout",
          "output_type": "stream",
          "text": [
            "[[0.74403945 0.92723296 0.06639463 0.27472796]\n",
            " [0.11738868 0.36588863 0.81623918 0.89765492]\n",
            " [0.6302575  0.36243786 0.71148715 0.62769628]]\n",
            "0.5451204324408595\n"
          ]
        }
      ],
      "source": [
        "a,b=int(input(\"please enter a: \")),int(input(\"please enter b: \"))\n",
        "abrand=np.random.random((a,b))\n",
        "print(abrand)\n",
        "print(np.mean(abrand))"
      ]
    },
    {
      "cell_type": "markdown",
      "metadata": {
        "id": "2iEeybS06ZSq"
      },
      "source": [
        "###`Q-3`Write a function to create a 2d array with 1 on the border and 0 inside. Take 2-D array shape as (a,b) as parameter to function.\n",
        "\n",
        "Eg.-\n",
        "```\n",
        "[[1,1,1,1],\n",
        "[1,0,0,1],\n",
        "[1,0,0,1],\n",
        "[1,1,1,1]]\n",
        "```"
      ]
    },
    {
      "cell_type": "code",
      "execution_count": null,
      "metadata": {
        "id": "gEKndkDU6ZSs"
      },
      "outputs": [],
      "source": [
        "'''def onesq(a,b):\n",
        "    tb=np.ones(b)\n",
        "    ins=np.zeros(b)\n",
        "    ins[0]=1\n",
        "    ins[-1]=1\n",
        "    return np.array([tb,ins,tb])\n",
        "''' #firsat approach, struggling with getting multiple ins rows"
      ]
    },
    {
      "cell_type": "code",
      "execution_count": null,
      "metadata": {},
      "outputs": [],
      "source": [
        "'''def onesq(a,b):\n",
        "    ans=np.zeros((a,b))\n",
        "    ans[0]=1\n",
        "    ans[-1]=1\n",
        "    ans=ans.transpose()\n",
        "    ans[0]=1\n",
        "    ans[-1]=1\n",
        "    ans=ans.transpose()\n",
        "    return ans''' #did this when ans[:][0] and ans[:][-1] didnt work."
      ]
    },
    {
      "cell_type": "code",
      "execution_count": 36,
      "metadata": {},
      "outputs": [],
      "source": [
        "def onesq(a,b):\n",
        "    ans=np.zeros((a,b))\n",
        "    ans[0]=1\n",
        "    ans[-1]=1\n",
        "    ans[:,0]=1\n",
        "    ans[:,-1]=1\n",
        "    return ans"
      ]
    },
    {
      "cell_type": "code",
      "execution_count": 37,
      "metadata": {},
      "outputs": [
        {
          "data": {
            "text/plain": [
              "array([[1., 1., 1., 1., 1., 1.],\n",
              "       [1., 0., 0., 0., 0., 1.],\n",
              "       [1., 0., 0., 0., 0., 1.],\n",
              "       [1., 0., 0., 0., 0., 1.],\n",
              "       [1., 1., 1., 1., 1., 1.]])"
            ]
          },
          "execution_count": 37,
          "metadata": {},
          "output_type": "execute_result"
        }
      ],
      "source": [
        "onesq(5,6)"
      ]
    },
    {
      "cell_type": "code",
      "execution_count": 35,
      "metadata": {},
      "outputs": [
        {
          "data": {
            "text/plain": [
              "array([[1., 1., 1., 1., 1.],\n",
              "       [1., 0., 0., 0., 1.],\n",
              "       [1., 0., 0., 0., 1.],\n",
              "       [1., 1., 1., 1., 1.]])"
            ]
          },
          "execution_count": 35,
          "metadata": {},
          "output_type": "execute_result"
        }
      ],
      "source": [
        "onesq(4,5)"
      ]
    },
    {
      "cell_type": "code",
      "execution_count": 33,
      "metadata": {},
      "outputs": [
        {
          "data": {
            "text/plain": [
              "array([[1., 1., 1., 1.],\n",
              "       [1., 0., 0., 1.],\n",
              "       [1., 1., 1., 1.]])"
            ]
          },
          "execution_count": 33,
          "metadata": {},
          "output_type": "execute_result"
        }
      ],
      "source": [
        "onesq(3,4)"
      ]
    },
    {
      "cell_type": "markdown",
      "metadata": {
        "id": "QRJicQ8j6ZlE"
      },
      "source": [
        "###`Q-4` Create a vector of size 10 with values ranging from 0 to 1, both excluded.\n"
      ]
    },
    {
      "cell_type": "code",
      "execution_count": 40,
      "metadata": {
        "id": "eC4XLhDq6ZlF"
      },
      "outputs": [
        {
          "data": {
            "text/plain": [
              "array([0.09090909, 0.18181818, 0.27272727, 0.36363636, 0.45454545,\n",
              "       0.54545455, 0.63636364, 0.72727273, 0.81818182, 0.90909091])"
            ]
          },
          "execution_count": 40,
          "metadata": {},
          "output_type": "execute_result"
        }
      ],
      "source": [
        "vec=np.linspace(0,1,12)[1:11]\n",
        "vec"
      ]
    },
    {
      "cell_type": "code",
      "execution_count": 43,
      "metadata": {},
      "outputs": [
        {
          "data": {
            "text/plain": [
              "array([0.09090909, 0.18181818, 0.27272727, 0.36363636, 0.45454545,\n",
              "       0.54545455, 0.63636364, 0.72727273, 0.81818182, 0.90909091])"
            ]
          },
          "execution_count": 43,
          "metadata": {},
          "output_type": "execute_result"
        }
      ],
      "source": [
        "#or\n",
        "\n",
        "vec=np.arange(1,11)/11\n",
        "vec"
      ]
    },
    {
      "cell_type": "markdown",
      "metadata": {
        "id": "vb4jK4yQ6Zs2"
      },
      "source": [
        "###`Q-5` Can you create a identity mattrix of shape (3,4). If yes write code for it."
      ]
    },
    {
      "cell_type": "code",
      "execution_count": null,
      "metadata": {
        "id": "DTV_AbMS6Zs4"
      },
      "outputs": [],
      "source": [
        "#no since an identity matrix is always square with all diagonal elements equal 1 and others equal 0. 3,4 matrix isnt square."
      ]
    },
    {
      "cell_type": "markdown",
      "metadata": {
        "id": "QtjAFm5PEntK"
      },
      "source": [
        "###`Q-6:` Create a 5x5 matrix with row values ranging from 0 to 4."
      ]
    },
    {
      "cell_type": "code",
      "execution_count": 45,
      "metadata": {
        "id": "z2WGxRjvEuRS"
      },
      "outputs": [
        {
          "data": {
            "text/plain": [
              "array([[0.        , 0.16666667, 0.33333333, 0.5       , 0.66666667],\n",
              "       [0.83333333, 1.        , 1.16666667, 1.33333333, 1.5       ],\n",
              "       [1.66666667, 1.83333333, 2.        , 2.16666667, 2.33333333],\n",
              "       [2.5       , 2.66666667, 2.83333333, 3.        , 3.16666667],\n",
              "       [3.33333333, 3.5       , 3.66666667, 3.83333333, 4.        ]])"
            ]
          },
          "execution_count": 45,
          "metadata": {},
          "output_type": "execute_result"
        }
      ],
      "source": [
        "(np.linspace(0,4,25)).reshape(5,5)"
      ]
    },
    {
      "cell_type": "markdown",
      "metadata": {
        "id": "KPpvxKjVHnyx"
      },
      "source": [
        "###`Q-7:`  Consider a random integer (in range 1 to 100) vector with shape `(10,2)` representing coordinates, and coordinates of a point as array is given. Create an array of distance of each point in the random vectros from the given point. Distance array should be interger type.\n",
        "\n",
        "```\n",
        "point = np.array([2,3])\n",
        "```\n"
      ]
    },
    {
      "cell_type": "code",
      "execution_count": 69,
      "metadata": {
        "id": "X7KGnWLNIM6f"
      },
      "outputs": [
        {
          "data": {
            "text/plain": [
              "array([[75, 48],\n",
              "       [94, 94],\n",
              "       [61, 47],\n",
              "       ...,\n",
              "       [20, 75],\n",
              "       [ 6, 31],\n",
              "       [45, 41]], shape=(1000, 2), dtype=int32)"
            ]
          },
          "execution_count": 69,
          "metadata": {},
          "output_type": "execute_result"
        }
      ],
      "source": [
        "randar=np.random.randint(100,size=(1000,2))\n",
        "randar"
      ]
    },
    {
      "cell_type": "code",
      "execution_count": 70,
      "metadata": {},
      "outputs": [
        {
          "name": "stdout",
          "output_type": "stream",
          "text": [
            "[ 85 129  73  43  79  95  40 131 101  57  28  63  69  45  80  77 114  83\n",
            "  27 111 103 105  76  86  66  82  46 107  85  93  79  32  92  65  64  70\n",
            "  71  81  59 102  42 114  22  53  52  96 118  71 112  76  59  44 101  70\n",
            "  86  62  15  99  62  60  69  92  19  85  20  67  86  95  76  59  43  72\n",
            "  95  98 122 105  20  89 130  78  84  95  53  88  91  82 117  36  90 107\n",
            "  95 110  46  60  59  80  96  68  89  43  84 109  94  39  82   3 106  57\n",
            "  92  78  78 115  69  29  37  88  65  47  70  99  90  70  71  77  57 111\n",
            "  99 109  37  40 103  34  97  68  96  17  80  60  62  98  21  84  84  87\n",
            "  99  54  16  95  71 127  90  83  36 120  72  83  55  62  16 116  85  27\n",
            "  51  65  86 127  95  36  37  68  79  41  61  90  26  96  50  92  95  31\n",
            "  97  24  66  89  53  50  70 100  81 123  97  28  44  59  67  96  85  87\n",
            "  82  24  57  69  90  81  89  64  39  73  15  50  63  45 109 102  67  50\n",
            "  42  84  76  88 115  34  51  55  94  63  71  35  35  44  78  95  29 100\n",
            "  92  70 112 108 119  42  89  48  91  25  63  46  73  23  78  84  66 120\n",
            "  94  55  92  47  64 101  92  35  79  93  73 108  89  97  55  32  53  54\n",
            "  38  54  95  93  76 105  42 109  22  83  24  37 116  94  72  66  99 106\n",
            "  58  10  95  79  71  75  87  52  99  23  35  60  21  86  49  77  95  75\n",
            " 122  53  85  61  68  68  90  85  52  37  75  95 105  70  93  95  97  52\n",
            "  55  66  32  92  96  48  95 115  71  70 119 120  72  39 112  51  46  72\n",
            " 118  55 107  35  49  17  66  67 128 119  75  52  86  59 108 130 104  91\n",
            "  38  90  56  82  84  88  95  42  81  59  63  16  90  46  16  66  59  81\n",
            "  37  96  56  87  75  96  43  88  71  55  92  44  47 120  91  98  43  90\n",
            "  65 128  94 115  79  48  40  78  17  85  86  50  62  87  79  97  60  86\n",
            "  96  81  77  68  50  48  43  69 111  63  45  94  86  79  86 115  76  36\n",
            "  24  40 118   3   6 106  65  79  83  91  42  71  32  98 103  63  20  38\n",
            "  55   9  78  63  89  89   3  68  40  38  36  73  47  99  82  51  93  79\n",
            "  83  27 100  86  70  84  96  92  79 118  80  75  64  21  60 112  71  72\n",
            "  92  72  65  55  48  18  33  56  14  61  95  63  76  31  36  97  80  12\n",
            "  67  95  71  71  67  81  80  35 109  48  79  95 112 122 109  85   7  21\n",
            "  34  28  92  77  67  53 107  74  81  64   6  57  48  85  99  57 110  54\n",
            "  68 120  67  40  60  49 109  73  58  95  92  29  67  98  91  73  82  38\n",
            " 119  25  37   9 106  91  84  76  93  76  88 115  82  61  25  46  13  89\n",
            "  74  52 121  72  95 108  85  72 108  70   3  97  56  92   8  87  75 108\n",
            " 104  77  70  61  84  91  92   6  45 102  65 107  94  67  76  73  26  74\n",
            " 102 110  87  65  47  94  41  79  36  96  61  88  77  83  52  97  15  98\n",
            "  96  88  99  34  98  97   5  50 106  22  58   8  79  87  99 101  35  20\n",
            "  78  80  86  70  38  70  14  36  42  96 115  77 101  66  32 100  52  69\n",
            "  76  84  62   3  93  83  99  37  44  95 121 104 118 119  57  60 100  75\n",
            "  56 118  69  97  24  52 107  49  94  32  93  65  49  72  35  75  50  70\n",
            "  38  75  63  73   3  68  77  50  75 104  14  95  82   8  99  39  97  65\n",
            "  87  71  48  51  49  28  65  34  72  76  13  97  37  38  36  68  45 103\n",
            " 103  85  80  34  66  56  69  96  52  77  72  48  91 109  46  51  97  86\n",
            "  94  49  83  55  75  34  51  59 117  38  47  47  83  24   5  30  52  20\n",
            "  89  73  73  66  41  92 125  55  66  87  82  53  90  59  69  92 122 123\n",
            "  66 113  93  82  88  15  68  55  62 110  28 108  92  57  90  70  55  33\n",
            "  17 103  87  42  96 112  84  84  77 110  94  86  82  95  56  30  51  82\n",
            "  82  60  99  85  85  98  65  27  30 105 102  23  66  82 116 114  83  84\n",
            "  96  40  42  34  37  98  32  67  17  48  88 100  48  89  60 123  97  82\n",
            "  64  92  66  59 118 108  38  73  80  75  80  21  66  23  12  70  96  79\n",
            "  37  44  28 115  67  60  86  39 125  56  64  64  31  82  72   8 112  83\n",
            " 127 108  96 124  11  44   8  27  37  64  97 102  45 123  76  31  97  64\n",
            "  72  75  98  64 104  34  99  57  90  80   2  45  86 102 105  94  62 105\n",
            "  75 100  65 107  68  95  93  95  97  86  21 104  95 117  88  96  68  31\n",
            "  41 106  93  62  17 100  42  28  80  84 110  72  73 104 104   6  68  98\n",
            " 131  72  97  23 118  44  21  62  42  84  63  95  98  41 111  85  67  76\n",
            "  43  86 105  86  99  92  86  74  28  57] 0.003237485885620117\n"
          ]
        }
      ],
      "source": [
        "#original approah, correct answer but not the most efficient use of numpy\n",
        "import time\n",
        "t1=time.time()\n",
        "point=np.array([2,3])\n",
        "distar=np.array([int(((randar[i,0]-point[0])**2+(randar[i,1]-point[1])**2)**(0.5)) for i in range(0,1000)])\n",
        "t2=time.time()\n",
        "print(distar,t2-t1)"
      ]
    },
    {
      "cell_type": "code",
      "execution_count": 71,
      "metadata": {},
      "outputs": [
        {
          "name": "stdout",
          "output_type": "stream",
          "text": [
            "[ 85 129  73  43  79  95  40 131 101  57  28  63  69  45  80  77 114  83\n",
            "  27 111 103 105  76  86  66  82  46 107  85  93  79  32  92  65  64  70\n",
            "  71  81  59 102  42 114  22  53  52  96 118  71 112  76  59  44 101  70\n",
            "  86  62  15  99  62  60  69  92  19  85  20  67  86  95  76  59  43  72\n",
            "  95  98 122 105  20  89 130  78  84  95  53  88  91  82 117  36  90 107\n",
            "  95 110  46  60  59  80  96  68  89  43  84 109  94  39  82   3 106  57\n",
            "  92  78  78 115  69  29  37  88  65  47  70  99  90  70  71  77  57 111\n",
            "  99 109  37  40 103  34  97  68  96  17  80  60  62  98  21  84  84  87\n",
            "  99  54  16  95  71 127  90  83  36 120  72  83  55  62  16 116  85  27\n",
            "  51  65  86 127  95  36  37  68  79  41  61  90  26  96  50  92  95  31\n",
            "  97  24  66  89  53  50  70 100  81 123  97  28  44  59  67  96  85  87\n",
            "  82  24  57  69  90  81  89  64  39  73  15  50  63  45 109 102  67  50\n",
            "  42  84  76  88 115  34  51  55  94  63  71  35  35  44  78  95  29 100\n",
            "  92  70 112 108 119  42  89  48  91  25  63  46  73  23  78  84  66 120\n",
            "  94  55  92  47  64 101  92  35  79  93  73 108  89  97  55  32  53  54\n",
            "  38  54  95  93  76 105  42 109  22  83  24  37 116  94  72  66  99 106\n",
            "  58  10  95  79  71  75  87  52  99  23  35  60  21  86  49  77  95  75\n",
            " 122  53  85  61  68  68  90  85  52  37  75  95 105  70  93  95  97  52\n",
            "  55  66  32  92  96  48  95 115  71  70 119 120  72  39 112  51  46  72\n",
            " 118  55 107  35  49  17  66  67 128 119  75  52  86  59 108 130 104  91\n",
            "  38  90  56  82  84  88  95  42  81  59  63  16  90  46  16  66  59  81\n",
            "  37  96  56  87  75  96  43  88  71  55  92  44  47 120  91  98  43  90\n",
            "  65 128  94 115  79  48  40  78  17  85  86  50  62  87  79  97  60  86\n",
            "  96  81  77  68  50  48  43  69 111  63  45  94  86  79  86 115  76  36\n",
            "  24  40 118   3   6 106  65  79  83  91  42  71  32  98 103  63  20  38\n",
            "  55   9  78  63  89  89   3  68  40  38  36  73  47  99  82  51  93  79\n",
            "  83  27 100  86  70  84  96  92  79 118  80  75  64  21  60 112  71  72\n",
            "  92  72  65  55  48  18  33  56  14  61  95  63  76  31  36  97  80  12\n",
            "  67  95  71  71  67  81  80  35 109  48  79  95 112 122 109  85   7  21\n",
            "  34  28  92  77  67  53 107  74  81  64   6  57  48  85  99  57 110  54\n",
            "  68 120  67  40  60  49 109  73  58  95  92  29  67  98  91  73  82  38\n",
            " 119  25  37   9 106  91  84  76  93  76  88 115  82  61  25  46  13  89\n",
            "  74  52 121  72  95 108  85  72 108  70   3  97  56  92   8  87  75 108\n",
            " 104  77  70  61  84  91  92   6  45 102  65 107  94  67  76  73  26  74\n",
            " 102 110  87  65  47  94  41  79  36  96  61  88  77  83  52  97  15  98\n",
            "  96  88  99  34  98  97   5  50 106  22  58   8  79  87  99 101  35  20\n",
            "  78  80  86  70  38  70  14  36  42  96 115  77 101  66  32 100  52  69\n",
            "  76  84  62   3  93  83  99  37  44  95 121 104 118 119  57  60 100  75\n",
            "  56 118  69  97  24  52 107  49  94  32  93  65  49  72  35  75  50  70\n",
            "  38  75  63  73   3  68  77  50  75 104  14  95  82   8  99  39  97  65\n",
            "  87  71  48  51  49  28  65  34  72  76  13  97  37  38  36  68  45 103\n",
            " 103  85  80  34  66  56  69  96  52  77  72  48  91 109  46  51  97  86\n",
            "  94  49  83  55  75  34  51  59 117  38  47  47  83  24   5  30  52  20\n",
            "  89  73  73  66  41  92 125  55  66  87  82  53  90  59  69  92 122 123\n",
            "  66 113  93  82  88  15  68  55  62 110  28 108  92  57  90  70  55  33\n",
            "  17 103  87  42  96 112  84  84  77 110  94  86  82  95  56  30  51  82\n",
            "  82  60  99  85  85  98  65  27  30 105 102  23  66  82 116 114  83  84\n",
            "  96  40  42  34  37  98  32  67  17  48  88 100  48  89  60 123  97  82\n",
            "  64  92  66  59 118 108  38  73  80  75  80  21  66  23  12  70  96  79\n",
            "  37  44  28 115  67  60  86  39 125  56  64  64  31  82  72   8 112  83\n",
            " 127 108  96 124  11  44   8  27  37  64  97 102  45 123  76  31  97  64\n",
            "  72  75  98  64 104  34  99  57  90  80   2  45  86 102 105  94  62 105\n",
            "  75 100  65 107  68  95  93  95  97  86  21 104  95 117  88  96  68  31\n",
            "  41 106  93  62  17 100  42  28  80  84 110  72  73 104 104   6  68  98\n",
            " 131  72  97  23 118  44  21  62  42  84  63  95  98  41 111  85  67  76\n",
            "  43  86 105  86  99  92  86  74  28  57] 0.0006437301635742188\n"
          ]
        }
      ],
      "source": [
        "#using numpy's vectortization features\n",
        "t1=time.time()\n",
        "dif=randar-point\n",
        "difsq=dif**2\n",
        "add=np.sum(difsq,axis=1)\n",
        "addsqrt=np.array(add**(0.5),dtype=int)\n",
        "t2=time.time()\n",
        "print(addsqrt,t2-t1)"
      ]
    },
    {
      "cell_type": "code",
      "execution_count": null,
      "metadata": {},
      "outputs": [],
      "source": [
        "#significant improvement can bve seen in the time taken "
      ]
    },
    {
      "cell_type": "markdown",
      "metadata": {
        "id": "tajOFJlCDwTr"
      },
      "source": [
        "###`Q-8:` Consider a (6,7,8) shape array, what is the index (x,y,z) of the 100th element?"
      ]
    },
    {
      "cell_type": "code",
      "execution_count": 79,
      "metadata": {
        "id": "qH4oxvs0D3Ra"
      },
      "outputs": [
        {
          "data": {
            "text/plain": [
              "(np.int64(1), np.int64(5), np.int64(3))"
            ]
          },
          "execution_count": 79,
          "metadata": {},
          "output_type": "execute_result"
        }
      ],
      "source": [
        "np.unravel_index(99,(6,7,8))"
      ]
    },
    {
      "cell_type": "markdown",
      "metadata": {
        "id": "9LxBAbT2Pw33"
      },
      "source": [
        "### `Q-9:` Arrays\n",
        "\n",
        "You are given a space separated list of numbers. Your task is to print a reversed NumPy array with the element type float.\n",
        "\n"
      ]
    },
    {
      "cell_type": "markdown",
      "metadata": {
        "id": "JJpqVms2Nq7L"
      },
      "source": [
        "**Input Format:**\n",
        "\n",
        "A single line of input containing space separated numbers.\n",
        "\n",
        "**Output Format:**\n",
        "\n",
        "Print the reverse NumPy array with type float.\n",
        "\n",
        "**Example 1:**\n",
        "\n",
        "Input:\n",
        "\n",
        "```bash\n",
        "1 2 3 4 -8 -10\n",
        "```\n",
        "\n",
        "Output:\n",
        "\n",
        "```bash\n",
        "[-10.  -8.   4.   3.   2.   1.]\n",
        "```"
      ]
    },
    {
      "cell_type": "code",
      "execution_count": 84,
      "metadata": {
        "id": "7iQyg6ChNl3j"
      },
      "outputs": [],
      "source": [
        "nums=str(input(\"please enter the numbers seperated by space\"))\n",
        "arr=np.array(nums.split(),dtype=float)[::-1]\n"
      ]
    },
    {
      "cell_type": "code",
      "execution_count": 85,
      "metadata": {},
      "outputs": [
        {
          "name": "stdout",
          "output_type": "stream",
          "text": [
            "[ 8.  7. 67.  5.  4.  3.  2.  1.]\n"
          ]
        }
      ],
      "source": [
        "print(arr)"
      ]
    },
    {
      "cell_type": "markdown",
      "metadata": {
        "id": "TPxD7jM8Sjz9"
      },
      "source": [
        "### `Q-10:` Elements count\n",
        "\n",
        "Count the number of elements of a numpy array.\n",
        "\n"
      ]
    },
    {
      "cell_type": "markdown",
      "metadata": {
        "id": "oHTiTz_jNkAU"
      },
      "source": [
        "**Example 1:**\n",
        "\n",
        "Input:\n",
        "```bash\n",
        "np.array([])\n",
        "```\n",
        "\n",
        "Output:\n",
        "```bash\n",
        "elements_count :  0\n",
        "```\n",
        "\n",
        "**Example 2:**\n",
        "\n",
        "Input:\n",
        "```bash\n",
        "np.array([1, 2])\n",
        "```\n",
        "\n",
        "Output:\n",
        "```bash\n",
        "elements_count :  2\n",
        "```"
      ]
    },
    {
      "cell_type": "code",
      "execution_count": 91,
      "metadata": {
        "id": "RG0H2I-TNeGN"
      },
      "outputs": [
        {
          "data": {
            "text/plain": [
              "4"
            ]
          },
          "execution_count": 91,
          "metadata": {},
          "output_type": "execute_result"
        }
      ],
      "source": [
        "arr=np.array([1,2,3,4])\n",
        "arr.size"
      ]
    },
    {
      "cell_type": "markdown",
      "metadata": {
        "id": "pwgPz-3l5ic5"
      },
      "source": [
        "### `Q-11:` Softmax function\n",
        "\n",
        "Create a Python function to calculate the Softmax of the given numpy 1D array. The function only accepts the numpy 1D array, otherwise raise error.\n",
        "\n",
        "$$\\Large \\sigma(\\vec z)_i = \\frac{e^{z_i}}{\\sum_{j=i}^{K}{e^{z_j}}}$$\n",
        "\n",
        "https://en.wikipedia.org/wiki/Softmax_function\n",
        "\n"
      ]
    },
    {
      "cell_type": "markdown",
      "metadata": {
        "id": "eZ3WJt6UM1ul"
      },
      "source": [
        "**Example 1:**\n",
        "\n",
        "Input:\n",
        "```bash\n",
        "[86.03331084 37.7285648  48.64908087 87.16563062 38.40852563 37.20006318]\n",
        "```\n",
        "\n",
        "Output:\n",
        "```bash\n",
        "[2.43733249e-01, 2.56112115e-22, 1.41628284e-17, 7.56266751e-01,\n",
        "       5.05514197e-22, 1.50974911e-22]\n",
        "```\n",
        "\n",
        "**Example 2:**\n",
        "\n",
        "Input:\n",
        "```bash\n",
        "[33.17344305 45.61961654 82.05405781 80.9647098  68.82830233 91.52064278]\n",
        "```\n",
        "\n",
        "Output:\n",
        "```bash\n",
        "[4.57181035e-26, 1.16249923e-20, 7.73872596e-05, 2.60358426e-05,\n",
        "       1.39571531e-10, 9.99896577e-01]\n",
        "```"
      ]
    },
    {
      "cell_type": "code",
      "execution_count": null,
      "metadata": {
        "id": "VNzj05lkNaNi"
      },
      "outputs": [],
      "source": [
        "def softmax(arr):\n",
        "    if np.ndim(arr)!=1:\n",
        "        raise Exception(\"please provide a 1d array\")\n",
        "\n",
        "    else: \n",
        "        return((np.exp(arr))/np.sum(np.exp(arr)))\n"
      ]
    },
    {
      "cell_type": "code",
      "execution_count": 100,
      "metadata": {},
      "outputs": [
        {
          "data": {
            "text/plain": [
              "array([2.43733248e-01, 2.56112114e-22, 1.41628283e-17, 7.56266752e-01,\n",
              "       5.05514197e-22, 1.50974911e-22])"
            ]
          },
          "execution_count": 100,
          "metadata": {},
          "output_type": "execute_result"
        }
      ],
      "source": [
        "a=np.array([86.03331084, 37.7285648 , 48.64908087 ,87.16563062 ,38.40852563 ,37.20006318])\n",
        "softmax(a)"
      ]
    },
    {
      "cell_type": "code",
      "execution_count": 109,
      "metadata": {},
      "outputs": [
        {
          "ename": "Exception",
          "evalue": "please provide a 1d array",
          "output_type": "error",
          "traceback": [
            "\u001b[31m---------------------------------------------------------------------------\u001b[39m",
            "\u001b[31mException\u001b[39m                                 Traceback (most recent call last)",
            "\u001b[36mCell\u001b[39m\u001b[36m \u001b[39m\u001b[32mIn[109]\u001b[39m\u001b[32m, line 3\u001b[39m\n\u001b[32m      1\u001b[39m b=np.array([[\u001b[32m86.03331084\u001b[39m, \u001b[32m37.7285648\u001b[39m , \u001b[32m48.64908087\u001b[39m ,\u001b[32m87.16563062\u001b[39m ,\u001b[32m38.40852563\u001b[39m ,\u001b[32m37.20006318\u001b[39m],[\u001b[32m1\u001b[39m, \u001b[32m2\u001b[39m , \u001b[32m46.64908087\u001b[39m ,\u001b[32m87.16563062\u001b[39m ,\u001b[32m38.40852563\u001b[39m ,\u001b[32m37.20006318\u001b[39m]])\n\u001b[32m----> \u001b[39m\u001b[32m3\u001b[39m \u001b[43msoftmax\u001b[49m\u001b[43m(\u001b[49m\u001b[43mb\u001b[49m\u001b[43m)\u001b[49m\n",
            "\u001b[36mCell\u001b[39m\u001b[36m \u001b[39m\u001b[32mIn[99]\u001b[39m\u001b[32m, line 3\u001b[39m, in \u001b[36msoftmax\u001b[39m\u001b[34m(arr)\u001b[39m\n\u001b[32m      1\u001b[39m \u001b[38;5;28;01mdef\u001b[39;00m\u001b[38;5;250m \u001b[39m\u001b[34msoftmax\u001b[39m(arr):\n\u001b[32m      2\u001b[39m     \u001b[38;5;28;01mif\u001b[39;00m np.ndim(arr)!=\u001b[32m1\u001b[39m:\n\u001b[32m----> \u001b[39m\u001b[32m3\u001b[39m         \u001b[38;5;28;01mraise\u001b[39;00m \u001b[38;5;167;01mException\u001b[39;00m(\u001b[33m\"\u001b[39m\u001b[33mplease provide a 1d array\u001b[39m\u001b[33m\"\u001b[39m)\n\u001b[32m      5\u001b[39m     \u001b[38;5;28;01melse\u001b[39;00m:\n\u001b[32m      6\u001b[39m         \u001b[38;5;28;01mreturn\u001b[39;00m((np.exp(arr))/np.sum(np.exp(arr)))\n",
            "\u001b[31mException\u001b[39m: please provide a 1d array"
          ]
        }
      ],
      "source": [
        "b=np.array([[86.03331084, 37.7285648 , 48.64908087 ,87.16563062 ,38.40852563 ,37.20006318],[1, 2 , 46.64908087 ,87.16563062 ,38.40852563 ,37.20006318]])\n",
        "\n",
        "softmax(b)"
      ]
    },
    {
      "cell_type": "markdown",
      "metadata": {
        "id": "k4JWSwWu_HXg"
      },
      "source": [
        "### `Q-12:` Vertical stack\n",
        "\n",
        "Write a python function that accepts infinite number of numpy arrays and do the vertical stack to them. Then return that new array as result. The function only accepts the numpy array, otherwise raise error.\n",
        "\n"
      ]
    },
    {
      "cell_type": "markdown",
      "metadata": {
        "id": "XhhV3mraNAWr"
      },
      "source": [
        "**Example 1:**\n",
        "\n",
        "Input:\n",
        "```bash\n",
        "a= [[0 1 2 3 4]\n",
        " [5 6 7 8 9]]\n",
        "\n",
        "b= [[1 1 1 1 1]\n",
        " [1 1 1 1 1]]\n",
        "```\n",
        "\n",
        "Output:\n",
        "\n",
        "```bash\n",
        "[[0 1 2 3 4]\n",
        " [5 6 7 8 9]\n",
        " [1 1 1 1 1]\n",
        " [1 1 1 1 1]]\n",
        "```\n",
        "\n",
        "**Example 2:**\n",
        "\n",
        "Input:\n",
        "```bash\n",
        "a= [[0 1 2 3 4]\n",
        " [5 6 7 8 9]]\n",
        "\n",
        "b= [[1 1 1 1 1]\n",
        " [1 1 1 1 1]]\n",
        "\n",
        "c= [[0.10117373 0.1677244  0.73764059 0.83166097 0.48985695]\n",
        " [0.44581567 0.13502419 0.55692335 0.16479622 0.61193593]]\n",
        "```\n",
        "\n",
        "Output:\n",
        "```bash\n",
        "[[0.         1.         2.         3.         4.        ]\n",
        " [5.         6.         7.         8.         9.        ]\n",
        " [1.         1.         1.         1.         1.        ]\n",
        " [1.         1.         1.         1.         1.        ]\n",
        " [0.10117373 0.1677244  0.73764059 0.83166097 0.48985695]\n",
        " [0.44581567 0.13502419 0.55692335 0.16479622 0.61193593]]\n",
        "```"
      ]
    },
    {
      "cell_type": "code",
      "execution_count": 124,
      "metadata": {
        "id": "dhtnbSj6NP8z"
      },
      "outputs": [],
      "source": [
        "a=np.array([[0, 1, 2, 3, 4],[5 ,6 ,7 ,8 ,9]])\n",
        "\n",
        "b=np.array([[1, 1, 1, 1, 1],[1, 1 ,1, 1, 1]])\n",
        "\n",
        "c=np.array([[0.10117373, 0.1677244,  0.73764059, 0.83166097, 0.48985695],[0.44581567 ,0.13502419, 0.55692335 ,0.16479622, 0.61193593,]])\n",
        " \n",
        "\n",
        "def infvstack(*args):\n",
        "    for arg in args:\n",
        "        if type(arg)!=np.ndarray:\n",
        "            raise TypeError(\"please pass np arrays as arguments\")\n",
        "    \n",
        "    return(np.vstack(args))\n"
      ]
    },
    {
      "cell_type": "code",
      "execution_count": 125,
      "metadata": {},
      "outputs": [
        {
          "data": {
            "text/plain": [
              "array([[0.        , 1.        , 2.        , 3.        , 4.        ],\n",
              "       [5.        , 6.        , 7.        , 8.        , 9.        ],\n",
              "       [1.        , 1.        , 1.        , 1.        , 1.        ],\n",
              "       [1.        , 1.        , 1.        , 1.        , 1.        ],\n",
              "       [0.10117373, 0.1677244 , 0.73764059, 0.83166097, 0.48985695],\n",
              "       [0.44581567, 0.13502419, 0.55692335, 0.16479622, 0.61193593]])"
            ]
          },
          "execution_count": 125,
          "metadata": {},
          "output_type": "execute_result"
        }
      ],
      "source": [
        "infvstack(a,b,c)"
      ]
    },
    {
      "cell_type": "code",
      "execution_count": 126,
      "metadata": {},
      "outputs": [
        {
          "ename": "TypeError",
          "evalue": "please pass np arrays as arguments",
          "output_type": "error",
          "traceback": [
            "\u001b[31m---------------------------------------------------------------------------\u001b[39m",
            "\u001b[31mTypeError\u001b[39m                                 Traceback (most recent call last)",
            "\u001b[36mCell\u001b[39m\u001b[36m \u001b[39m\u001b[32mIn[126]\u001b[39m\u001b[32m, line 2\u001b[39m\n\u001b[32m      1\u001b[39m d=[\u001b[32m1\u001b[39m,\u001b[32m2\u001b[39m,\u001b[32m3\u001b[39m,\u001b[32m4\u001b[39m,\u001b[32m5\u001b[39m]\n\u001b[32m----> \u001b[39m\u001b[32m2\u001b[39m \u001b[43minfvstack\u001b[49m\u001b[43m(\u001b[49m\u001b[43ma\u001b[49m\u001b[43m,\u001b[49m\u001b[43mb\u001b[49m\u001b[43m,\u001b[49m\u001b[43mc\u001b[49m\u001b[43m,\u001b[49m\u001b[43md\u001b[49m\u001b[43m)\u001b[49m\n",
            "\u001b[36mCell\u001b[39m\u001b[36m \u001b[39m\u001b[32mIn[124]\u001b[39m\u001b[32m, line 11\u001b[39m, in \u001b[36minfvstack\u001b[39m\u001b[34m(*args)\u001b[39m\n\u001b[32m      9\u001b[39m \u001b[38;5;28;01mfor\u001b[39;00m arg \u001b[38;5;129;01min\u001b[39;00m args:\n\u001b[32m     10\u001b[39m     \u001b[38;5;28;01mif\u001b[39;00m \u001b[38;5;28mtype\u001b[39m(arg)!=np.ndarray:\n\u001b[32m---> \u001b[39m\u001b[32m11\u001b[39m         \u001b[38;5;28;01mraise\u001b[39;00m \u001b[38;5;167;01mTypeError\u001b[39;00m(\u001b[33m\"\u001b[39m\u001b[33mplease pass np arrays as arguments\u001b[39m\u001b[33m\"\u001b[39m)\n\u001b[32m     13\u001b[39m \u001b[38;5;28;01mreturn\u001b[39;00m(np.vstack(args))\n",
            "\u001b[31mTypeError\u001b[39m: please pass np arrays as arguments"
          ]
        }
      ],
      "source": [
        "d=[1,2,3,4,5]\n",
        "infvstack(a,b,c,d)"
      ]
    },
    {
      "cell_type": "markdown",
      "metadata": {
        "id": "3mk8T6CuC2DP"
      },
      "source": [
        "### `Q-13:` Dates\n",
        "\n",
        "Create a python function named **date_array** that accepts two dates as string format and returns a numpy array of dates between those 2 dates. The function only accept 2 strings, otherwise raise error. The date format should be like this only: `2022-12-6`. The end date should be included and for simplicity, choose dates from a same year.\n",
        "\n"
      ]
    },
    {
      "cell_type": "markdown",
      "metadata": {
        "id": "E3IgjnTTNFEk"
      },
      "source": [
        "**Example 1:**\n",
        "\n",
        "Input:\n",
        "```bash\n",
        "date_array(start = '2020-09-15', end = '2020-09-25')\n",
        "```\n",
        "\n",
        "Output:\n",
        "```bash\n",
        "['2020-09-15', '2020-09-16', '2020-09-17', '2020-09-18',\n",
        " '2020-09-19', '2020-09-20', '2020-09-21', '2020-09-22',\n",
        " '2020-09-23', '2020-09-24', '2020-09-25']\n",
        "```\n",
        "\n",
        "**Example 2:**\n",
        "\n",
        "Input:\n",
        "```bash\n",
        "date_array(start = '2022-12-01', end = '2022-12-06')\n",
        "```\n",
        "\n",
        "Output:\n",
        "```bash\n",
        "['2022-12-01', '2022-12-02', '2022-12-03', '2022-12-04', '2022-12-05', '2022-12-06']\n",
        "```\n",
        "\n",
        "**Example 3:**\n",
        "\n",
        "Input:\n",
        "```bash\n",
        "date_array(start = '2020-11-25', end = '2020-11-30')\n",
        "```\n",
        "\n",
        "Output:\n",
        "```bash\n",
        "['2020-11-25', '2020-11-26', '2020-11-27', '2020-11-28',\n",
        " '2020-11-29', '2020-11-30']\n",
        "```"
      ]
    },
    {
      "cell_type": "code",
      "execution_count": 147,
      "metadata": {
        "id": "Yj5PBfQQNTnL"
      },
      "outputs": [],
      "source": [
        "import datetime\n",
        "\n",
        "d1=datetime.date(2020,12,4)\n",
        "d1=np.datetime64(d1)\n",
        "d2=np.datetime64(\"2020-12-06\")\n",
        "\n",
        "#was initially having trouble with data types for date. just confirmed after multiple trial and error.\n",
        "\n",
        "def date_array(d1,d2):\n",
        "    if not(isinstance(d1,str) and isinstance(d2,str)):\n",
        "        raise TypeError(\"please enter dates as str in 'yyyy/mm/dd' format\")\n",
        "    else:\n",
        "        d1=np.datetime64(d1)\n",
        "        d2=np.datetime64(d2)\n",
        "        return(np.arange(d1,d2+1,dtype=np.datetime64))\n"
      ]
    },
    {
      "cell_type": "code",
      "execution_count": 150,
      "metadata": {},
      "outputs": [
        {
          "ename": "TypeError",
          "evalue": "please enter dates as str in 'yyyy/mm/dd' format",
          "output_type": "error",
          "traceback": [
            "\u001b[31m---------------------------------------------------------------------------\u001b[39m",
            "\u001b[31mTypeError\u001b[39m                                 Traceback (most recent call last)",
            "\u001b[36mCell\u001b[39m\u001b[36m \u001b[39m\u001b[32mIn[150]\u001b[39m\u001b[32m, line 1\u001b[39m\n\u001b[32m----> \u001b[39m\u001b[32m1\u001b[39m \u001b[43mdate_array\u001b[49m\u001b[43m(\u001b[49m\u001b[32;43m1\u001b[39;49m\u001b[43m,\u001b[49m\u001b[33;43m\"\u001b[39;49m\u001b[33;43m2\u001b[39;49m\u001b[33;43m\"\u001b[39;49m\u001b[43m)\u001b[49m\n",
            "\u001b[36mCell\u001b[39m\u001b[36m \u001b[39m\u001b[32mIn[147]\u001b[39m\u001b[32m, line 11\u001b[39m, in \u001b[36mdate_array\u001b[39m\u001b[34m(d1, d2)\u001b[39m\n\u001b[32m      9\u001b[39m \u001b[38;5;28;01mdef\u001b[39;00m\u001b[38;5;250m \u001b[39m\u001b[34mdate_array\u001b[39m(d1,d2):\n\u001b[32m     10\u001b[39m     \u001b[38;5;28;01mif\u001b[39;00m \u001b[38;5;129;01mnot\u001b[39;00m(\u001b[38;5;28misinstance\u001b[39m(d1,\u001b[38;5;28mstr\u001b[39m) \u001b[38;5;129;01mand\u001b[39;00m \u001b[38;5;28misinstance\u001b[39m(d2,\u001b[38;5;28mstr\u001b[39m)):\n\u001b[32m---> \u001b[39m\u001b[32m11\u001b[39m         \u001b[38;5;28;01mraise\u001b[39;00m \u001b[38;5;167;01mTypeError\u001b[39;00m(\u001b[33m\"\u001b[39m\u001b[33mplease enter dates as str in \u001b[39m\u001b[33m'\u001b[39m\u001b[33myyyy/mm/dd\u001b[39m\u001b[33m'\u001b[39m\u001b[33m format\u001b[39m\u001b[33m\"\u001b[39m)\n\u001b[32m     12\u001b[39m     \u001b[38;5;28;01melse\u001b[39;00m:\n\u001b[32m     13\u001b[39m         d1=np.datetime64(d1)\n",
            "\u001b[31mTypeError\u001b[39m: please enter dates as str in 'yyyy/mm/dd' format"
          ]
        }
      ],
      "source": [
        "date_array(1,\"2\")"
      ]
    },
    {
      "cell_type": "code",
      "execution_count": 148,
      "metadata": {},
      "outputs": [
        {
          "data": {
            "text/plain": [
              "array(['2020-04-01', '2020-04-02', '2020-04-03', '2020-04-04',\n",
              "       '2020-04-05', '2020-04-06', '2020-04-07', '2020-04-08',\n",
              "       '2020-04-09', '2020-04-10'], dtype='datetime64[D]')"
            ]
          },
          "execution_count": 148,
          "metadata": {},
          "output_type": "execute_result"
        }
      ],
      "source": [
        "date_array(\"2020-04-01\",\"2020-04-10\")"
      ]
    },
    {
      "cell_type": "markdown",
      "metadata": {
        "id": "bcEp0wTWQijK"
      },
      "source": [
        "###`Q-14:` Subtract the mean of each row from a matrix."
      ]
    },
    {
      "cell_type": "code",
      "execution_count": 154,
      "metadata": {
        "id": "rpILVGcgQzMo"
      },
      "outputs": [
        {
          "data": {
            "text/plain": [
              "array([[-1.02040816e+00, -8.16326531e-01, -6.12244898e-01,\n",
              "        -4.08163265e-01, -2.04081633e-01,  2.22044605e-16,\n",
              "         2.04081633e-01,  4.08163265e-01,  6.12244898e-01,\n",
              "         8.16326531e-01,  1.02040816e+00],\n",
              "       [-1.02040816e+00, -8.16326531e-01, -6.12244898e-01,\n",
              "        -4.08163265e-01, -2.04081633e-01,  4.44089210e-16,\n",
              "         2.04081633e-01,  4.08163265e-01,  6.12244898e-01,\n",
              "         8.16326531e-01,  1.02040816e+00],\n",
              "       [-1.02040816e+00, -8.16326531e-01, -6.12244898e-01,\n",
              "        -4.08163265e-01, -2.04081633e-01,  8.88178420e-16,\n",
              "         2.04081633e-01,  4.08163265e-01,  6.12244898e-01,\n",
              "         8.16326531e-01,  1.02040816e+00],\n",
              "       [-1.02040816e+00, -8.16326531e-01, -6.12244898e-01,\n",
              "        -4.08163265e-01, -2.04081633e-01,  1.77635684e-15,\n",
              "         2.04081633e-01,  4.08163265e-01,  6.12244898e-01,\n",
              "         8.16326531e-01,  1.02040816e+00],\n",
              "       [-1.02040816e+00, -8.16326531e-01, -6.12244898e-01,\n",
              "        -4.08163265e-01, -2.04081633e-01,  0.00000000e+00,\n",
              "         2.04081633e-01,  4.08163265e-01,  6.12244898e-01,\n",
              "         8.16326531e-01,  1.02040816e+00],\n",
              "       [-1.02040816e+00, -8.16326531e-01, -6.12244898e-01,\n",
              "        -4.08163265e-01, -2.04081633e-01,  0.00000000e+00,\n",
              "         2.04081633e-01,  4.08163265e-01,  6.12244898e-01,\n",
              "         8.16326531e-01,  1.02040816e+00],\n",
              "       [-1.02040816e+00, -8.16326531e-01, -6.12244898e-01,\n",
              "        -4.08163265e-01, -2.04081633e-01,  0.00000000e+00,\n",
              "         2.04081633e-01,  4.08163265e-01,  6.12244898e-01,\n",
              "         8.16326531e-01,  1.02040816e+00],\n",
              "       [-1.02040816e+00, -8.16326531e-01, -6.12244898e-01,\n",
              "        -4.08163265e-01, -2.04081633e-01,  0.00000000e+00,\n",
              "         2.04081633e-01,  4.08163265e-01,  6.12244898e-01,\n",
              "         8.16326531e-01,  1.02040816e+00],\n",
              "       [-1.02040816e+00, -8.16326531e-01, -6.12244898e-01,\n",
              "        -4.08163265e-01, -2.04081633e-01,  0.00000000e+00,\n",
              "         2.04081633e-01,  4.08163265e-01,  6.12244898e-01,\n",
              "         8.16326531e-01,  1.02040816e+00]])"
            ]
          },
          "execution_count": 154,
          "metadata": {},
          "output_type": "execute_result"
        }
      ],
      "source": [
        "arr=(np.linspace(0,20,99)).reshape(9,11)\n",
        "arr-np.mean(arr,axis=1,keepdims=True)"
      ]
    },
    {
      "cell_type": "markdown",
      "metadata": {
        "id": "A-dMVlPPSBTT"
      },
      "source": [
        "###`Q-15:` Swap column-1 of array with column-2 in the array."
      ]
    },
    {
      "cell_type": "code",
      "execution_count": 156,
      "metadata": {
        "id": "3RtngM9-Q6S7"
      },
      "outputs": [
        {
          "data": {
            "text/plain": [
              "array([[ 0,  1,  2,  3,  4],\n",
              "       [ 5,  6,  7,  8,  9],\n",
              "       [10, 11, 12, 13, 14],\n",
              "       [15, 16, 17, 18, 19]])"
            ]
          },
          "execution_count": 156,
          "metadata": {},
          "output_type": "execute_result"
        }
      ],
      "source": [
        "arr=(np.arange(0,20)).reshape(4,5)\n",
        "arr"
      ]
    },
    {
      "cell_type": "code",
      "execution_count": 157,
      "metadata": {
        "id": "ueoMV_LlSnGU"
      },
      "outputs": [
        {
          "data": {
            "text/plain": [
              "array([[ 1,  0,  2,  3,  4],\n",
              "       [ 6,  5,  7,  8,  9],\n",
              "       [11, 10, 12, 13, 14],\n",
              "       [16, 15, 17, 18, 19]])"
            ]
          },
          "execution_count": 157,
          "metadata": {},
          "output_type": "execute_result"
        }
      ],
      "source": [
        "arr[:,[0]],arr[:,[1]]=arr[:,[1]],arr[:,[0]]\n",
        "arr"
      ]
    },
    {
      "cell_type": "markdown",
      "metadata": {
        "id": "cB4VMexvS6Zi"
      },
      "source": [
        "###`Q-16:` Replace odd elements in arrays with -1."
      ]
    },
    {
      "cell_type": "code",
      "execution_count": 158,
      "metadata": {
        "id": "Bt83nXEVS5O4"
      },
      "outputs": [
        {
          "data": {
            "text/plain": [
              "array([[ 1,  0,  2,  3,  4],\n",
              "       [ 6,  5,  7,  8,  9],\n",
              "       [11, 10, 12, 13, 14],\n",
              "       [16, 15, 17, 18, 19]])"
            ]
          },
          "execution_count": 158,
          "metadata": {},
          "output_type": "execute_result"
        }
      ],
      "source": [
        "arr"
      ]
    },
    {
      "cell_type": "code",
      "execution_count": 159,
      "metadata": {
        "id": "1ZlvMaXLVyoW"
      },
      "outputs": [
        {
          "data": {
            "text/plain": [
              "array([[-1,  0,  2, -1,  4],\n",
              "       [ 6, -1, -1,  8, -1],\n",
              "       [-1, 10, 12, -1, 14],\n",
              "       [16, -1, -1, 18, -1]])"
            ]
          },
          "execution_count": 159,
          "metadata": {},
          "output_type": "execute_result"
        }
      ],
      "source": [
        "arr[arr%2!=0]=-1\n",
        "arr"
      ]
    },
    {
      "cell_type": "markdown",
      "metadata": {
        "id": "kf_qvmBxWIT_"
      },
      "source": [
        "###`Q-17:` Given two arrays of same shape make an array of max out of two arrays. (Numpy way)\n",
        "```\n",
        "a=np.array([6,3,1,5,8])\n",
        "b=np.array([3,2,1,7,2])\n",
        "\n",
        "Result-> [6 3 1 7 8]\n",
        "```"
      ]
    },
    {
      "cell_type": "code",
      "execution_count": 161,
      "metadata": {
        "id": "TB9ZvF-EZSfu"
      },
      "outputs": [
        {
          "data": {
            "text/plain": [
              "array([6, 3, 1, 7, 8])"
            ]
          },
          "execution_count": 161,
          "metadata": {},
          "output_type": "execute_result"
        }
      ],
      "source": [
        "a=np.array([6,3,1,5,8])\n",
        "b=np.array([3,2,1,7,2])\n",
        "\n",
        "res=np.max([a,b],axis=0)\n",
        "res"
      ]
    },
    {
      "cell_type": "code",
      "execution_count": 162,
      "metadata": {},
      "outputs": [
        {
          "data": {
            "text/plain": [
              "array([6, 3, 1, 7, 8])"
            ]
          },
          "execution_count": 162,
          "metadata": {},
          "output_type": "execute_result"
        }
      ],
      "source": [
        "np.maximum(a,b)"
      ]
    },
    {
      "cell_type": "markdown",
      "metadata": {
        "id": "iOQLUIeGc3zA"
      },
      "source": [
        "###`Q-18` Answer below asked questions on given array:\n",
        "1. Fetch Every alternate column of the array\n",
        "2. Normalise the given array\n",
        "\n",
        "https://en.wikipedia.org/wiki/Normalization_(statistics)\n",
        "\n",
        "There are different form of normalisation for this question use below formula.\n",
        "\n",
        "$$\\large X_{normalized} = \\frac{X - X_{min}}{X_{max} - X_{min}}$$\n",
        "\n",
        "```python\n",
        "arr1=np.random.randint(low=1, high=10000, size=40).reshape(8,5)\n",
        "```\n"
      ]
    },
    {
      "cell_type": "code",
      "execution_count": 164,
      "metadata": {
        "colab": {
          "base_uri": "https://localhost:8080/"
        },
        "id": "vjSm18k3d_1p",
        "outputId": "83d23b61-d2ae-41bc-e91e-0e0722667521"
      },
      "outputs": [
        {
          "data": {
            "text/plain": [
              "array([[9281, 3445, 5997, 4319, 9684],\n",
              "       [6667, 7430, 3677, 3068, 2171],\n",
              "       [1652, 9414, 4502,  317, 9522],\n",
              "       [6338, 9665, 8862, 7475, 2826],\n",
              "       [1123, 2057, 9519, 1983,  441],\n",
              "       [3909, 9186, 9168, 4305, 8745],\n",
              "       [8215, 1285, 5683, 9287, 8608],\n",
              "       [ 575, 2788, 9387, 6050,  168]], dtype=int32)"
            ]
          },
          "execution_count": 164,
          "metadata": {},
          "output_type": "execute_result"
        }
      ],
      "source": [
        "# Given\n",
        "arr1=np.random.randint(low=1, high=10000, size=40).reshape(8,5)\n",
        "arr1"
      ]
    },
    {
      "cell_type": "code",
      "execution_count": 167,
      "metadata": {
        "id": "d7u8DB47eBfQ"
      },
      "outputs": [
        {
          "data": {
            "text/plain": [
              "array([[9281, 5997, 9684],\n",
              "       [6667, 3677, 2171],\n",
              "       [1652, 4502, 9522],\n",
              "       [6338, 8862, 2826],\n",
              "       [1123, 9519,  441],\n",
              "       [3909, 9168, 8745],\n",
              "       [8215, 5683, 8608],\n",
              "       [ 575, 9387,  168]], dtype=int32)"
            ]
          },
          "execution_count": 167,
          "metadata": {},
          "output_type": "execute_result"
        }
      ],
      "source": [
        "#1\n",
        "arr1=arr1[:,::2]\n",
        "\n",
        "arr1\n"
      ]
    },
    {
      "cell_type": "code",
      "execution_count": 168,
      "metadata": {},
      "outputs": [
        {
          "data": {
            "text/plain": [
              "array([[0.95765027, 0.61254729, 1.        ],\n",
              "       [0.68295502, 0.36874737, 0.2104876 ],\n",
              "       [0.15594788, 0.45544346, 0.98297604],\n",
              "       [0.64838167, 0.91361917, 0.27931904],\n",
              "       [0.10035729, 0.98266078, 0.02868852],\n",
              "       [0.39312736, 0.94577554, 0.90132409],\n",
              "       [0.84562842, 0.57955023, 0.88692728],\n",
              "       [0.04277007, 0.96878941, 0.        ]])"
            ]
          },
          "execution_count": 168,
          "metadata": {},
          "output_type": "execute_result"
        }
      ],
      "source": [
        "#2\n",
        "arr1norm=(arr1-np.min(arr1))/(np.max(arr1)-np.min(arr1))\n",
        "arr1norm\n"
      ]
    },
    {
      "cell_type": "markdown",
      "metadata": {
        "id": "jCzsVEKLgGNo"
      },
      "source": [
        "###`Q-19:` Write a function which will accept 2 arguments.\n",
        "First: A 1D numpy array arr\n",
        "\n",
        "Second: An integer n {Please make sure n<=len(arr)}\n",
        "\n",
        "Output: The output should be the nth largest item out of the array\n",
        "```\n",
        "# Example1 : arr=(12,34,40,7,1,0) and n=3, the output should be 12\n",
        "# Example2 : arr=(12,34,40,7,1,0) and n=1, the output should be 40\n",
        "```"
      ]
    },
    {
      "cell_type": "code",
      "execution_count": 170,
      "metadata": {
        "id": "J4AzkDk7gXSG"
      },
      "outputs": [],
      "source": [
        "def nlar(arr,n):\n",
        "    if n>arr.size or not isinstance(arr,np.ndarray)or np.ndim(arr)!=1:\n",
        "        raise Exception(\"make sure the n<=size or array and array is 1d\")\n",
        "    else:\n",
        "        arr=np.sort(arr)\n",
        "        return(arr[-n])\n",
        "\n",
        "        \n"
      ]
    },
    {
      "cell_type": "code",
      "execution_count": 172,
      "metadata": {},
      "outputs": [
        {
          "data": {
            "text/plain": [
              "np.int64(12)"
            ]
          },
          "execution_count": 172,
          "metadata": {},
          "output_type": "execute_result"
        }
      ],
      "source": [
        "nlar(np.array([12,34,40,7,1,0]),3)"
      ]
    },
    {
      "cell_type": "markdown",
      "metadata": {
        "id": "ja0xPCgjhBsg"
      },
      "source": [
        "###`Q-20:` Create the following pattern without hardcoding. Use only numpy functions and the below input array a.\n",
        "```\n",
        "# Input: a = np.array([1,2,3])\n",
        "# Output: array([1, 1, 1, 2, 2, 2, 3, 3, 3, 1, 2, 3, 1, 2, 3, 1, 2, 3])\n",
        "```"
      ]
    },
    {
      "cell_type": "code",
      "execution_count": null,
      "metadata": {
        "id": "CndS8TTNhG0F"
      },
      "outputs": [
        {
          "data": {
            "text/plain": [
              "(9,)"
            ]
          },
          "execution_count": 180,
          "metadata": {},
          "output_type": "execute_result"
        }
      ],
      "source": [
        "a=np.array([1,2,3])\n",
        "a1=np.repeat(a,a.size)\n",
        "a2=np.tile(a,a.size)\n"
      ]
    },
    {
      "cell_type": "code",
      "execution_count": 184,
      "metadata": {},
      "outputs": [
        {
          "data": {
            "text/plain": [
              "array([1, 1, 1, 2, 2, 2, 3, 3, 3, 1, 2, 3, 1, 2, 3, 1, 2, 3])"
            ]
          },
          "execution_count": 184,
          "metadata": {},
          "output_type": "execute_result"
        }
      ],
      "source": [
        "res=np.concatenate((a1,a2))\n",
        "res"
      ]
    },
    {
      "cell_type": "code",
      "execution_count": 95,
      "metadata": {},
      "outputs": [
        {
          "name": "stdout",
          "output_type": "stream",
          "text": [
            "a\n"
          ]
        },
        {
          "data": {
            "image/png": "[encoded data removed]",
            "text/plain": [
              "<Figure size 640x480 with 1 Axes>"
            ]
          },
          "metadata": {},
          "output_type": "display_data"
        }
      ],
      "source": [
        "import matplotlib.pyplot as plt\n",
        "\n",
        "x=np.linspace(0,10,100)\n",
        "y=x\n",
        "\n",
        "a=plt.plot(x,y)\n",
        "print(\"a\")"
      ]
    },
    {
      "cell_type": "code",
      "execution_count": null,
      "metadata": {},
      "outputs": [
        {
          "name": "stdout",
          "output_type": "stream",
          "text": [
            "[<matplotlib.lines.Line2D object at 0x0000021D01621450>]\n"
          ]
        }
      ],
      "source": []
    },
    {
      "cell_type": "code",
      "execution_count": null,
      "metadata": {},
      "outputs": [],
      "source": []
    }
  ],
  "metadata": {
    "colab": {
      "provenance": []
    },
    "kernelspec": {
      "display_name": ".venv (3.13.5)",
      "language": "python",
      "name": "python3"
    },
    "language_info": {
      "codemirror_mode": {
        "name": "ipython",
        "version": 3
      },
      "file_extension": ".py",
      "mimetype": "text/x-python",
      "name": "python",
      "nbconvert_exporter": "python",
      "pygments_lexer": "ipython3",
      "version": "3.13.5"
    }
  },
  "nbformat": 4,
  "nbformat_minor": 0
}
