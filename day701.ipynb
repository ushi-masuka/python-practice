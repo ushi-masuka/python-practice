{
  "cells": [
    {
      "cell_type": "markdown",
      "metadata": {
        "id": "FyUJ3PRAsPr4"
      },
      "source": [
        "##`Q-1:` Rectangle Class\n",
        "1. Write a Rectangle class in Python language, allowing you to build a rectangle with length and width attributes.\n",
        "\n",
        "2. Create a Perimeter() method to calculate the perimeter of the rectangle and a Area() method to calculate the area of ​​the rectangle.\n",
        "\n",
        "3. Create a method display() that display the length, width, perimeter and area of an object created using an instantiation on rectangle class."
      ]
    },
    {
      "cell_type": "markdown",
      "metadata": {
        "id": "GxUtOqJfssFK"
      },
      "source": [
        "Eg.\n",
        "After making above classes and methods, on executing below code:-\n",
        "```\n",
        "my_rectangle = Rectangle(3 , 4)\n",
        "my_rectangle.display()\n",
        "```\n",
        "\n",
        "`Output:`\n",
        "```\n",
        "The length of rectangle is:  3\n",
        "The width of rectangle is:  4\n",
        "The perimeter of rectangle is:  14\n",
        "The area of rectangle is:  12\n",
        "```\n"
      ]
    },
    {
      "cell_type": "code",
      "execution_count": 5,
      "metadata": {
        "id": "92_QT-Uj6NBg"
      },
      "outputs": [],
      "source": [
        "class rectangle:\n",
        "\n",
        "    def __init__(self,l,b):\n",
        "        self.l=l\n",
        "        self.b=b\n",
        "\n",
        "    def display(self):\n",
        "        s=f\"The length of rectangle is: {self.l} \\nThe width of rectangle is: {self.b} \\nThe perimeter of rectangle is: {self.perimeter()} \\nThe area of rectangle is: {self.area()}\"\n",
        "        return s\n",
        "    def perimeter(self):\n",
        "        return (self.l+self.b)*2\n",
        "\n",
        "    def area(self):\n",
        "        return self.l*self.b\n",
        "\n"
      ]
    },
    {
      "cell_type": "code",
      "execution_count": 6,
      "metadata": {},
      "outputs": [
        {
          "data": {
            "text/plain": [
              "'The length of rectangle is: 3 \\nThe width of rectangle is: 4 \\nThe perimeter of rectangle is: 14 \\nThe area of rectangle is: 12'"
            ]
          },
          "execution_count": 6,
          "metadata": {},
          "output_type": "execute_result"
        }
      ],
      "source": [
        "rect1=rectangle(3,4)\n",
        "rect1.display()"
      ]
    },
    {
      "cell_type": "markdown",
      "metadata": {
        "id": "r_GxrS0Vrdom"
      },
      "source": [
        "##`Q-2: Bank Class`\n",
        "\n",
        "1. Create a Python class called `BankAccount` which represents a bank account, having as attributes: `accountNumber` (numeric type), `name` (name of the account owner as string type), `balance`.\n",
        "2. Create a constructor with parameters: `accountNumber, name, balance`.\n",
        "3. Create a `Deposit()` method which manages the deposit actions.\n",
        "4. Create a `Withdrawal()` method  which manages withdrawals actions.\n",
        "5. Create an `bankFees()` method to apply the bank fees with a percentage of 5% of the balance account.\n",
        "6. Create a `display()` method to display account details.\n",
        "Give the complete code for the  BankAccount class."
      ]
    },
    {
      "cell_type": "markdown",
      "metadata": {
        "id": "qvVkOUJgvTV_"
      },
      "source": [
        "Eg.\n",
        "After making above classes and methods, on executing below code:-\n",
        "```\n",
        "newAccount = BankAccount(2178514584, \"Mandy\" , 2800)\n",
        "\n",
        "newAccount.Withdrawal(700)\n",
        "\n",
        "newAccount.Deposit(1000)\n",
        "\n",
        "newAccount.display()\n",
        "```\n",
        "\n",
        "`Output:`\n",
        "```\n",
        "Account Number :  2178514584\n",
        "Account Name :  Mandy\n",
        "Account Balance :  3100 ₹\n",
        "```"
      ]
    },
    {
      "cell_type": "code",
      "execution_count": 10,
      "metadata": {
        "id": "fUQOmQyA6YDR"
      },
      "outputs": [],
      "source": [
        "class BankAccount:\n",
        "\n",
        "    def __init__(self,actn,name,bal):\n",
        "        self.actn=actn\n",
        "        self.name=name\n",
        "        self.bal=bal\n",
        "\n",
        "\n",
        "    def Withdrawal(self,amt):\n",
        "        self.bal-=amt\n",
        "\n",
        "    def Deposit(self,amt):\n",
        "        self.bal+=amt\n",
        "\n",
        "    def BankFees(self):\n",
        "        self.bal=int(self.bal*(0.95))\n",
        "\n",
        "    def Display(self):\n",
        "        return f\"Account Number : {self.actn} Account Name : {self.name} Account Balance : {self.bal} ₹\""
      ]
    },
    {
      "cell_type": "code",
      "execution_count": 11,
      "metadata": {},
      "outputs": [
        {
          "data": {
            "text/plain": [
              "'Account Number : 123 Account Name : utks Account Balance : 380 ₹'"
            ]
          },
          "execution_count": 11,
          "metadata": {},
          "output_type": "execute_result"
        }
      ],
      "source": [
        "myact=BankAccount(123,\"utks\",300)\n",
        "myact.Deposit(300)\n",
        "myact.Withdrawal(200)\n",
        "myact.BankFees()\n",
        "myact.Display()"
      ]
    },
    {
      "cell_type": "markdown",
      "metadata": {
        "id": "QovcQAZTrgGU"
      },
      "source": [
        "##`Q-3:Computation class`\n",
        "\n",
        "1. Create a `Computation` class with a default constructor (without parameters) allowing to perform various calculations on integers numbers.\n",
        "2. Create a method called `Factorial()` which allows to calculate the factorial of an integer n. Integer n as parameter for this method\n",
        "\n",
        "3. Create a method called `naturalSum()` allowing to calculate the sum of the first n integers 1 + 2 + 3 + .. + n. Integer n as parameter for this method.\n",
        "\n",
        "4. Create a method called `testPrime()` in  the Calculation class to test the primality of a given integer n, n is Prime or Not? Integer n as parameter for this method.\n",
        "\n",
        "5. Create  a method called `testPrims()` allowing to test if two numbers are prime between them. Two integers are prime to one another if they have only `1` as their common divisor. Eg. 4 and 9 are prime to each other.\n",
        "\n",
        "5. Create a `tableMult()` method which creates and displays the multiplication table of a given integer. Then create an `allTablesMult()` method to display all the integer multiplication tables 1, 2, 3, ..., 9.\n",
        "\n",
        "6. Create a static `listDiv()` method that gets all the divisors of a given integer on new list called  Ldiv. Create another `listDivPrim()` method that gets all the prime divisors of a given integer."
      ]
    },
    {
      "cell_type": "code",
      "execution_count": 68,
      "metadata": {
        "id": "YEkPH70l6Z-o"
      },
      "outputs": [],
      "source": [
        "class computation:\n",
        "\n",
        "    def __init__(self):\n",
        "        pass\n",
        "\n",
        "    def factorial(self,n):\n",
        "        fact=1\n",
        "        for i in range(n,1,-1):\n",
        "            fact*=i\n",
        "\n",
        "        return fact\n",
        "\n",
        "    def naturalSum(self,n):\n",
        "        return n*(n+1)/2\n",
        "\n",
        "    def testPrime(self,n):\n",
        "        if n==2 or n==3:\n",
        "            return True\n",
        "        elif n%2==0 or n<=1:\n",
        "            return False\n",
        "        else:\n",
        "            for i in range(3,int(n**(0.5))+1,2):\n",
        "                if n%i==0:\n",
        "                    return False\n",
        "            else:\n",
        "                return True\n",
        "\n",
        "    def testPrims(self,a,b):\n",
        "        if self.hcf(a,b)==1:\n",
        "            return True\n",
        "        else:\n",
        "            return False\n",
        "    \n",
        "    def hcf(self,a,b):\n",
        "        m=max(a,b)\n",
        "        n=min(a,b)\n",
        "        if n==0:\n",
        "            return m\n",
        "        r=m%n\n",
        "        if r==0:\n",
        "            return n \n",
        "        else:\n",
        "            return self.hcf(n,r)\n",
        "\n",
        "    def tableMult(self,n):\n",
        "        for i in range(1,21):\n",
        "            print(f\"{n}*{i}={n*i}\")\n",
        "\n",
        "    def allTablesMult(self):\n",
        "        for i in range(1,10):\n",
        "            self.tableMult(i)\n",
        "\n",
        "    @staticmethod\n",
        "    def listDiv(n):\n",
        "        if n==1:\n",
        "            return [1]\n",
        "        ldiv=[1,n]\n",
        "        for i in range(2,int(n**(0.5))+1):\n",
        "            if n%i==0:\n",
        "                ldiv.append(i)\n",
        "                if n/i!=i:\n",
        "                    ldiv.append((n//i))\n",
        "        \n",
        "        return sorted(ldiv)\n",
        "    \n",
        "    def listDivPrim(self,n):\n",
        "        ldiv=self.listDiv(n)\n",
        "        priml=[i for i in ldiv if self.testPrime(i)] \n",
        "        return priml\n",
        "\n"
      ]
    },
    {
      "cell_type": "code",
      "execution_count": 69,
      "metadata": {},
      "outputs": [
        {
          "data": {
            "text/plain": [
              "[2, 3]"
            ]
          },
          "execution_count": 69,
          "metadata": {},
          "output_type": "execute_result"
        }
      ],
      "source": [
        "x=computation()\n",
        "x.factorial(3)\n",
        "x.testPrime(25)\n",
        "x.testPrims(54,53)\n",
        "x.listDivPrim(36)"
      ]
    },
    {
      "cell_type": "markdown",
      "metadata": {
        "id": "0yn23_oEriXa"
      },
      "source": [
        "##`Q-4`: Build flashcard using class in Python.\n",
        "\n",
        "Build a flashcard using class in python. A flashcard is a card having information on both sides, which can be used as an aid in memoization. Flashcards usually have a question on one side and an answer on the other.\n",
        "\n",
        "**Example 1:**\n",
        "\n",
        "Approach:\n",
        "\n",
        "- Create a class named FlashCard.\n",
        "- Initialize dictionary fruits using __init__() method. Here you have to define fruit name as key and it's color as value. E.g., {\"Banana\": \"yellow\", \"Strawberries\": \"pink\"}\n",
        "- Now randomly choose a pair from fruits by using _random_ module and store the key in variable _fruit_ and _value_ in variable color.\n",
        "- Now prompt the user to answer the color of the randomly chosen fruit.\n",
        "- If correct print correct else print wrong.\n",
        "\n",
        "Output:\n",
        "```bash\n",
        "welcome to fruit quiz\n",
        "What is the color of Strawberries\n",
        "pink\n",
        "Correct answer\n",
        "Enter 0, if you want to play again: 0\n",
        "What is the color of watermelon\n",
        "green\n",
        "Correct answer\n",
        "Enter 0, if you want to play again: 1\n",
        "```"
      ]
    },
    {
      "cell_type": "code",
      "execution_count": 100,
      "metadata": {
        "id": "vCrUF6VU6l6w"
      },
      "outputs": [],
      "source": [
        "import random\n",
        "\n",
        "class FlashCard:\n",
        "    \n",
        "    def __init__(self,**kwargs):\n",
        "        self.d={}\n",
        "        self.keyl=[]\n",
        "        self.CreateCards(**kwargs)\n",
        "        print(\"welcome to fruit quiz\")\n",
        "        self.quiz()\n",
        "\n",
        "    def CreateCards(self,**kwargs):\n",
        "        self.d.update({k:v for k,v in kwargs.items()})\n",
        "        self.keyl=list(self.d.keys())\n",
        "\n",
        "\n",
        "    def quiz(self):\n",
        "        k=self.keyl[random.randint(0,len(self.keyl)-1)]\n",
        "        val=input(f'what is the color of {k}: ')\n",
        "\n",
        "        if val==self.d[k]:\n",
        "            print(\"Correct\")\n",
        "        else:\n",
        "            print(\"wrong\")\n",
        "        \n",
        "        flag=int(input(\"enter 0 for next question. 1 to stop\"))\n",
        "        if flag==0:\n",
        "            self.quiz()\n",
        "        else:\n",
        "            return\n",
        "\n",
        "\n",
        "    def AnswerKey(self):\n",
        "        return self.d"
      ]
    },
    {
      "cell_type": "code",
      "execution_count": 101,
      "metadata": {},
      "outputs": [
        {
          "name": "stdout",
          "output_type": "stream",
          "text": [
            "welcome to fruit quiz\n",
            "Correct\n",
            "Correct\n",
            "Correct\n",
            "Correct\n",
            "wrong\n",
            "wrong\n",
            "wrong\n"
          ]
        },
        {
          "ename": "ValueError",
          "evalue": "invalid literal for int() with base 10: ''",
          "output_type": "error",
          "traceback": [
            "\u001b[31m---------------------------------------------------------------------------\u001b[39m",
            "\u001b[31mValueError\u001b[39m                                Traceback (most recent call last)",
            "\u001b[36mCell\u001b[39m\u001b[36m \u001b[39m\u001b[32mIn[101]\u001b[39m\u001b[32m, line 1\u001b[39m\n\u001b[32m----> \u001b[39m\u001b[32m1\u001b[39m f=\u001b[43mFlashCard\u001b[49m\u001b[43m(\u001b[49m\u001b[43mstrawberry\u001b[49m\u001b[43m=\u001b[49m\u001b[33;43m\"\u001b[39;49m\u001b[33;43mred\u001b[39;49m\u001b[33;43m\"\u001b[39;49m\u001b[43m,\u001b[49m\u001b[43mblackberry\u001b[49m\u001b[43m=\u001b[49m\u001b[33;43m\"\u001b[39;49m\u001b[33;43mblack\u001b[39;49m\u001b[33;43m\"\u001b[39;49m\u001b[43m,\u001b[49m\u001b[43mpineapple\u001b[49m\u001b[43m=\u001b[49m\u001b[33;43m\"\u001b[39;49m\u001b[33;43mbrown\u001b[39;49m\u001b[33;43m\"\u001b[39;49m\u001b[43m,\u001b[49m\u001b[43morange\u001b[49m\u001b[43m=\u001b[49m\u001b[33;43m\"\u001b[39;49m\u001b[33;43morange\u001b[39;49m\u001b[33;43m\"\u001b[39;49m\u001b[43m,\u001b[49m\u001b[43mbanana\u001b[49m\u001b[43m=\u001b[49m\u001b[33;43m\"\u001b[39;49m\u001b[33;43myellow\u001b[39;49m\u001b[33;43m\"\u001b[39;49m\u001b[43m)\u001b[49m\n",
            "\u001b[36mCell\u001b[39m\u001b[36m \u001b[39m\u001b[32mIn[100]\u001b[39m\u001b[32m, line 10\u001b[39m, in \u001b[36mFlashCard.__init__\u001b[39m\u001b[34m(self, **kwargs)\u001b[39m\n\u001b[32m      8\u001b[39m \u001b[38;5;28mself\u001b[39m.CreateCards(**kwargs)\n\u001b[32m      9\u001b[39m \u001b[38;5;28mprint\u001b[39m(\u001b[33m\"\u001b[39m\u001b[33mwelcome to fruit quiz\u001b[39m\u001b[33m\"\u001b[39m)\n\u001b[32m---> \u001b[39m\u001b[32m10\u001b[39m \u001b[38;5;28;43mself\u001b[39;49m\u001b[43m.\u001b[49m\u001b[43mquiz\u001b[49m\u001b[43m(\u001b[49m\u001b[43m)\u001b[49m\n",
            "\u001b[36mCell\u001b[39m\u001b[36m \u001b[39m\u001b[32mIn[100]\u001b[39m\u001b[32m, line 28\u001b[39m, in \u001b[36mFlashCard.quiz\u001b[39m\u001b[34m(self)\u001b[39m\n\u001b[32m     26\u001b[39m flag=\u001b[38;5;28mint\u001b[39m(\u001b[38;5;28minput\u001b[39m(\u001b[33m\"\u001b[39m\u001b[33menter 0 for next question. 1 to stop\u001b[39m\u001b[33m\"\u001b[39m))\n\u001b[32m     27\u001b[39m \u001b[38;5;28;01mif\u001b[39;00m flag==\u001b[32m0\u001b[39m:\n\u001b[32m---> \u001b[39m\u001b[32m28\u001b[39m     \u001b[38;5;28;43mself\u001b[39;49m\u001b[43m.\u001b[49m\u001b[43mquiz\u001b[49m\u001b[43m(\u001b[49m\u001b[43m)\u001b[49m\n\u001b[32m     29\u001b[39m \u001b[38;5;28;01melse\u001b[39;00m:\n\u001b[32m     30\u001b[39m     \u001b[38;5;28;01mreturn\u001b[39;00m\n",
            "\u001b[36mCell\u001b[39m\u001b[36m \u001b[39m\u001b[32mIn[100]\u001b[39m\u001b[32m, line 28\u001b[39m, in \u001b[36mFlashCard.quiz\u001b[39m\u001b[34m(self)\u001b[39m\n\u001b[32m     26\u001b[39m flag=\u001b[38;5;28mint\u001b[39m(\u001b[38;5;28minput\u001b[39m(\u001b[33m\"\u001b[39m\u001b[33menter 0 for next question. 1 to stop\u001b[39m\u001b[33m\"\u001b[39m))\n\u001b[32m     27\u001b[39m \u001b[38;5;28;01mif\u001b[39;00m flag==\u001b[32m0\u001b[39m:\n\u001b[32m---> \u001b[39m\u001b[32m28\u001b[39m     \u001b[38;5;28;43mself\u001b[39;49m\u001b[43m.\u001b[49m\u001b[43mquiz\u001b[49m\u001b[43m(\u001b[49m\u001b[43m)\u001b[49m\n\u001b[32m     29\u001b[39m \u001b[38;5;28;01melse\u001b[39;00m:\n\u001b[32m     30\u001b[39m     \u001b[38;5;28;01mreturn\u001b[39;00m\n",
            "    \u001b[31m[... skipping similar frames: FlashCard.quiz at line 28 (3 times)]\u001b[39m\n",
            "\u001b[36mCell\u001b[39m\u001b[36m \u001b[39m\u001b[32mIn[100]\u001b[39m\u001b[32m, line 28\u001b[39m, in \u001b[36mFlashCard.quiz\u001b[39m\u001b[34m(self)\u001b[39m\n\u001b[32m     26\u001b[39m flag=\u001b[38;5;28mint\u001b[39m(\u001b[38;5;28minput\u001b[39m(\u001b[33m\"\u001b[39m\u001b[33menter 0 for next question. 1 to stop\u001b[39m\u001b[33m\"\u001b[39m))\n\u001b[32m     27\u001b[39m \u001b[38;5;28;01mif\u001b[39;00m flag==\u001b[32m0\u001b[39m:\n\u001b[32m---> \u001b[39m\u001b[32m28\u001b[39m     \u001b[38;5;28;43mself\u001b[39;49m\u001b[43m.\u001b[49m\u001b[43mquiz\u001b[49m\u001b[43m(\u001b[49m\u001b[43m)\u001b[49m\n\u001b[32m     29\u001b[39m \u001b[38;5;28;01melse\u001b[39;00m:\n\u001b[32m     30\u001b[39m     \u001b[38;5;28;01mreturn\u001b[39;00m\n",
            "\u001b[36mCell\u001b[39m\u001b[36m \u001b[39m\u001b[32mIn[100]\u001b[39m\u001b[32m, line 26\u001b[39m, in \u001b[36mFlashCard.quiz\u001b[39m\u001b[34m(self)\u001b[39m\n\u001b[32m     23\u001b[39m \u001b[38;5;28;01melse\u001b[39;00m:\n\u001b[32m     24\u001b[39m     \u001b[38;5;28mprint\u001b[39m(\u001b[33m\"\u001b[39m\u001b[33mwrong\u001b[39m\u001b[33m\"\u001b[39m)\n\u001b[32m---> \u001b[39m\u001b[32m26\u001b[39m flag=\u001b[38;5;28;43mint\u001b[39;49m\u001b[43m(\u001b[49m\u001b[38;5;28;43minput\u001b[39;49m\u001b[43m(\u001b[49m\u001b[33;43m\"\u001b[39;49m\u001b[33;43menter 0 for next question. 1 to stop\u001b[39;49m\u001b[33;43m\"\u001b[39;49m\u001b[43m)\u001b[49m\u001b[43m)\u001b[49m\n\u001b[32m     27\u001b[39m \u001b[38;5;28;01mif\u001b[39;00m flag==\u001b[32m0\u001b[39m:\n\u001b[32m     28\u001b[39m     \u001b[38;5;28mself\u001b[39m.quiz()\n",
            "\u001b[31mValueError\u001b[39m: invalid literal for int() with base 10: ''"
          ]
        }
      ],
      "source": [
        "f=FlashCard(strawberry=\"red\",blackberry=\"black\",pineapple=\"brown\",orange=\"orange\",banana=\"yellow\")"
      ]
    },
    {
      "cell_type": "markdown",
      "metadata": {
        "id": "GN2r0jbRewYr"
      },
      "source": [
        "## `Q-5:` Problem 5 based on OOP Python.\n",
        "\n",
        "TechWorld, a technology training center, wants to allocate courses for instructors. An instructor is identified by name, technology skills, experience and average feedback. An instructor is allocated a course, if he/she satisfies the below two conditions:\n",
        "- eligibility criteria:\n",
        "    - if experience is more than 3 years, average feedback should be 4.5 or more\n",
        "    - if experience is 3 years or less, average feedback should be 4 or more\n",
        "- he/she should posses the technology skill for the course\n",
        "\n",
        "Identify the class name and attributes to represent instructors. Write a Python program to implement the class chosen with its attributes and methods.\n",
        "\n",
        "**Note:**\n",
        "- Consider all instance variables to be private and methods to be public.\n",
        "- An instructor may have multiple technology skills, so consider instance variable, technology_skill to be a list.\n",
        "- *check_eligibility()*: Return true if eligibility criteria is satisfied by the instructor. Else, return false\n",
        "- *allocate_course(technology)*: Return true if the course which requires the given technology can be allocated to the instructor. Else, return false.\n",
        "\n",
        "Represent a few objects of the class, initialize instance variables using setter methods, invoke\n",
        "appropriate methods and test your program."
      ]
    },
    {
      "cell_type": "code",
      "execution_count": null,
      "metadata": {
        "id": "pdMFuVFnlvKL"
      },
      "outputs": [],
      "source": [
        "# write your code here"
      ]
    }
  ],
  "metadata": {
    "colab": {
      "provenance": []
    },
    "kernelspec": {
      "display_name": ".venv (3.13.5)",
      "language": "python",
      "name": "python3"
    },
    "language_info": {
      "codemirror_mode": {
        "name": "ipython",
        "version": 3
      },
      "file_extension": ".py",
      "mimetype": "text/x-python",
      "name": "python",
      "nbconvert_exporter": "python",
      "pygments_lexer": "ipython3",
      "version": "3.13.5"
    }
  },
  "nbformat": 4,
  "nbformat_minor": 0
}
