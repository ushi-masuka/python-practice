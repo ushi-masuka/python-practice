{
  "cells": [
    {
      "cell_type": "code",
      "execution_count": 2,
      "metadata": {
        "id": "zxrbXftDYalU"
      },
      "outputs": [],
      "source": [
        "import numpy as np\n",
        "import pandas as pd"
      ]
    },
    {
      "cell_type": "markdown",
      "metadata": {
        "id": "MetYTZJpYfdz"
      },
      "source": [
        "###`Q-1:` Write a program to create an empty series."
      ]
    },
    {
      "cell_type": "code",
      "execution_count": 4,
      "metadata": {
        "id": "KUcgT935YgC5"
      },
      "outputs": [
        {
          "data": {
            "text/plain": [
              "True"
            ]
          },
          "execution_count": 4,
          "metadata": {},
          "output_type": "execute_result"
        }
      ],
      "source": [
        "eser=pd.Series()\n",
        "\n",
        "eser.empty"
      ]
    },
    {
      "cell_type": "markdown",
      "metadata": {
        "id": "jw5ybzU6YhOo"
      },
      "source": [
        "###`Q-2:` Write a Pandas program to add, subtract, multiple and divide two Pandas Series."
      ]
    },
    {
      "cell_type": "code",
      "execution_count": 11,
      "metadata": {
        "id": "EF3GgVFjYjwG"
      },
      "outputs": [
        {
          "name": "stdout",
          "output_type": "stream",
          "text": [
            "0      2.0\n",
            "1      4.0\n",
            "2      6.0\n",
            "3      8.0\n",
            "4     10.0\n",
            "5     12.0\n",
            "6     14.0\n",
            "7     16.0\n",
            "8     18.0\n",
            "9     10.0\n",
            "10    11.0\n",
            "11    12.0\n",
            "12    13.0\n",
            "13    14.0\n",
            "14    15.0\n",
            "15    16.0\n",
            "16    17.0\n",
            "17    18.0\n",
            "18    19.0\n",
            "dtype: float64\n",
            "0      0.0\n",
            "1      0.0\n",
            "2      0.0\n",
            "3      0.0\n",
            "4      0.0\n",
            "5      0.0\n",
            "6      0.0\n",
            "7      0.0\n",
            "8      0.0\n",
            "9    -10.0\n",
            "10   -11.0\n",
            "11   -12.0\n",
            "12   -13.0\n",
            "13   -14.0\n",
            "14   -15.0\n",
            "15   -16.0\n",
            "16   -17.0\n",
            "17   -18.0\n",
            "18   -19.0\n",
            "dtype: float64\n",
            "0      1.0\n",
            "1      4.0\n",
            "2      9.0\n",
            "3     16.0\n",
            "4     25.0\n",
            "5     36.0\n",
            "6     49.0\n",
            "7     64.0\n",
            "8     81.0\n",
            "9      0.0\n",
            "10     0.0\n",
            "11     0.0\n",
            "12     0.0\n",
            "13     0.0\n",
            "14     0.0\n",
            "15     0.0\n",
            "16     0.0\n",
            "17     0.0\n",
            "18     0.0\n",
            "dtype: float64\n",
            "0     1.0\n",
            "1     1.0\n",
            "2     1.0\n",
            "3     1.0\n",
            "4     1.0\n",
            "5     1.0\n",
            "6     1.0\n",
            "7     1.0\n",
            "8     1.0\n",
            "9     0.0\n",
            "10    0.0\n",
            "11    0.0\n",
            "12    0.0\n",
            "13    0.0\n",
            "14    0.0\n",
            "15    0.0\n",
            "16    0.0\n",
            "17    0.0\n",
            "18    0.0\n",
            "dtype: float64\n"
          ]
        }
      ],
      "source": [
        "arr1=np.arange(1,10)\n",
        "arr2=np.arange(1,20)\n",
        "s1=pd.Series(arr1)\n",
        "s2=pd.Series(arr2)\n",
        "print(s1.add(s2,fill_value=0))\n",
        "print(s1.sub(s2,fill_value=0))\n",
        "print(s1.mul(s2,fill_value=0))\n",
        "print(s1.div(s2,fill_value=0))"
      ]
    },
    {
      "cell_type": "markdown",
      "metadata": {
        "id": "TZDp25jeYlB6"
      },
      "source": [
        "###`Q-3` Write a Pandas program to compare the elements of the two Pandas Series.\n",
        "Sample Series: [2, 4, 6, 8, 10], [1, 3, 5, 7, 10]\n",
        "\n"
      ]
    },
    {
      "cell_type": "code",
      "execution_count": 5,
      "metadata": {
        "id": "gFNil8ruYp1y"
      },
      "outputs": [
        {
          "name": "stdout",
          "output_type": "stream",
          "text": [
            "0     True\n",
            "1     True\n",
            "2     True\n",
            "3     True\n",
            "4    False\n",
            "dtype: bool\n",
            "0    False\n",
            "1    False\n",
            "2    False\n",
            "3    False\n",
            "4     True\n",
            "dtype: bool\n",
            "count     5.000000\n",
            "mean      6.000000\n",
            "std       3.162278\n",
            "min       2.000000\n",
            "25%       4.000000\n",
            "50%       6.000000\n",
            "75%       8.000000\n",
            "max      10.000000\n",
            "dtype: float64\n",
            "count     5.00000\n",
            "mean      5.20000\n",
            "std       3.49285\n",
            "min       1.00000\n",
            "25%       3.00000\n",
            "50%       5.00000\n",
            "75%       7.00000\n",
            "max      10.00000\n",
            "dtype: float64\n",
            "0.9958932064677037\n"
          ]
        }
      ],
      "source": [
        "s1=pd.Series([2, 4, 6, 8, 10])\n",
        "s2=pd.Series([1, 3, 5, 7, 10])\n",
        "print(s1>s2)\n",
        "print(s1==s2)\n",
        "print(s1.describe())\n",
        "print(s2.describe())\n",
        "print(s1.corr(s2))\n",
        "\n"
      ]
    },
    {
      "cell_type": "markdown",
      "metadata": {
        "id": "HlOBn_N6YrZz"
      },
      "source": [
        "###`Q-5.`Write a function to change the data type of given a column or a Series. Function takes series and data type as input, returns the converted series.\n",
        "```\n",
        "series = pd.Series([1,2,'Python', 2.0, True, 100])\n",
        "change to float type data\n",
        "```\n",
        "Note: Read about pd.to_numeric()"
      ]
    },
    {
      "cell_type": "code",
      "execution_count": 17,
      "metadata": {
        "id": "_SWQJCUJYwXm"
      },
      "outputs": [],
      "source": [
        "def cdt(s,d):\n",
        "    return s.astype(f\"{d}\")"
      ]
    },
    {
      "cell_type": "code",
      "execution_count": 24,
      "metadata": {},
      "outputs": [
        {
          "data": {
            "text/plain": [
              "0      1.0\n",
              "1      2.0\n",
              "2      NaN\n",
              "3      2.0\n",
              "4      1.0\n",
              "5    100.0\n",
              "dtype: float64"
            ]
          },
          "execution_count": 24,
          "metadata": {},
          "output_type": "execute_result"
        }
      ],
      "source": [
        "series = pd.Series([1,2,'Python', 2.0, True, 100])\n",
        "series=pd.to_numeric(series,errors=\"coerce\")\n",
        "series.astype(\"float\")\n"
      ]
    },
    {
      "cell_type": "markdown",
      "metadata": {
        "id": "PGp3OqRIY0Va"
      },
      "source": [
        "Download data - https://drive.google.com/file/d/1LRhXwbEodeWXtzPhJCX0X9Lf_BECzvqb/view?usp=share_link\n",
        "All Batsman runs series in IPL 2008 to 2022.\n",
        "\n",
        "Below questions are based on this data."
      ]
    },
    {
      "cell_type": "markdown",
      "metadata": {
        "id": "TxFkp-L4Y23d"
      },
      "source": [
        "###`Q-6` Find top 10 most run getter from the series."
      ]
    },
    {
      "cell_type": "code",
      "execution_count": 7,
      "metadata": {
        "id": "muBgocA6Y2Bg"
      },
      "outputs": [
        {
          "data": {
            "text/plain": [
              "batter\n",
              "V Kohli           6634\n",
              "S Dhawan          6244\n",
              "DA Warner         5883\n",
              "RG Sharma         5881\n",
              "SK Raina          5536\n",
              "AB de Villiers    5181\n",
              "CH Gayle          4997\n",
              "MS Dhoni          4978\n",
              "RV Uthappa        4954\n",
              "KD Karthik        4377\n",
              "Name: batsman_run, dtype: int64"
            ]
          },
          "execution_count": 7,
          "metadata": {},
          "output_type": "execute_result"
        }
      ],
      "source": [
        "br=pd.read_csv(\"batsman_runs_series.csv\",index_col=\"batter\").squeeze()\n",
        "br.sort_values(ascending=False).head(10)"
      ]
    },
    {
      "cell_type": "code",
      "execution_count": 33,
      "metadata": {},
      "outputs": [
        {
          "data": {
            "text/plain": [
              "<Axes: xlabel='batter'>"
            ]
          },
          "execution_count": 33,
          "metadata": {},
          "output_type": "execute_result"
        },
        {
          "data": {
            "image/png": "[encoded data removed]",
            "text/plain": [
              "<Figure size 640x480 with 1 Axes>"
            ]
          },
          "metadata": {},
          "output_type": "display_data"
        }
      ],
      "source": [
        "br.plot()\n"
      ]
    },
    {
      "cell_type": "markdown",
      "metadata": {
        "id": "GzlCFBM_Y83g"
      },
      "source": [
        "###`Q-7` No of players having runs above 3000"
      ]
    },
    {
      "cell_type": "code",
      "execution_count": 25,
      "metadata": {},
      "outputs": [
        {
          "data": {
            "text/plain": [
              "20"
            ]
          },
          "execution_count": 25,
          "metadata": {},
          "output_type": "execute_result"
        }
      ],
      "source": [
        "len(br[br>3000])"
      ]
    },
    {
      "cell_type": "code",
      "execution_count": 18,
      "metadata": {
        "id": "JdNchHRWY1B-"
      },
      "outputs": [
        {
          "data": {
            "text/plain": [
              "np.int64(20)"
            ]
          },
          "execution_count": 18,
          "metadata": {},
          "output_type": "execute_result"
        }
      ],
      "source": [
        "(br>3000).value_counts()[True]\n",
        "\n"
      ]
    },
    {
      "cell_type": "markdown",
      "metadata": {
        "id": "pMBEoCL1Y-vh"
      },
      "source": [
        "###`Q-8` No of players having runs above mean value?"
      ]
    },
    {
      "cell_type": "code",
      "execution_count": 26,
      "metadata": {
        "id": "LgtViVFZZBIu"
      },
      "outputs": [
        {
          "data": {
            "text/plain": [
              "128"
            ]
          },
          "execution_count": 26,
          "metadata": {},
          "output_type": "execute_result"
        }
      ],
      "source": [
        "len(br[br>br.mean()])"
      ]
    },
    {
      "cell_type": "markdown",
      "metadata": {
        "id": "OAB1CgdgZEqE"
      },
      "source": [
        "Download data - https://drive.google.com/file/d/1QZuZ5bypUInfVvarHACLAi8tXXHvb8xd/view?usp=share_link\n",
        "\n",
        "file name - items.csv\n",
        "\n"
      ]
    },
    {
      "cell_type": "markdown",
      "metadata": {
        "id": "1UTQQImxZGLu"
      },
      "source": [
        "###`Q-9`\n",
        "    i. Read `items.csv` making `item_name` as index.\n",
        "    ii. Show no of nan values\n",
        "    ii. Item price is given in $, so convert it to rupees without currency symbol.\n",
        "    iii. Make data type of newly made series as float.\n",
        "    iv. Fill nan with mean of the series\n",
        "\n",
        "\n",
        "How csv file looks\n",
        "\n",
        "```\n",
        "item_name\titem_price\n",
        "Chips and Fresh Tomato Salsa\t$2.39\n",
        "Izze\t$3.39\n",
        "Nantucket Nectar\t$3.39\n",
        "Chips and Tomatillo-Green Chili Salsa\t$2.39\n",
        "Chicken Bowl\t$16.98\n",
        "\n",
        "```"
      ]
    },
    {
      "cell_type": "code",
      "execution_count": 21,
      "metadata": {
        "id": "1xaWkoMJZFNK"
      },
      "outputs": [
        {
          "data": {
            "text/plain": [
              "item_name\n",
              "Chips and Fresh Tomato Salsa              215.1\n",
              "Izze                                      305.1\n",
              "Nantucket Nectar                          305.1\n",
              "Chips and Tomatillo-Green Chili Salsa     215.1\n",
              "Chicken Bowl                             1528.2\n",
              "                                          ...  \n",
              "Steak Burrito                            1057.5\n",
              "Steak Burrito                            1057.5\n",
              "Chicken Salad Bowl                       1012.5\n",
              "Chicken Salad Bowl                        787.5\n",
              "Chicken Salad Bowl                        787.5\n",
              "Name: item_price, Length: 4622, dtype: float64"
            ]
          },
          "execution_count": 21,
          "metadata": {},
          "output_type": "execute_result"
        }
      ],
      "source": [
        "#1\n",
        "items=pd.read_csv(\"items.csv\",index_col=\"item_name\").squeeze()\n",
        "#2\n",
        "items.isnull().sum()\n",
        "#3\n",
        "items=items.str.replace(\"$\",\"\")\n",
        "items=items.astype(\"float\")\n",
        "items=items.mul(90)\n",
        "\n",
        "items=items.fillna(items.mean())\n",
        "items"
      ]
    },
    {
      "cell_type": "markdown",
      "metadata": {
        "id": "UHc_4e9cZK8r"
      },
      "source": [
        "###`Q-10`:\n",
        "    i. Find mean price\n",
        "    ii. Find 30th and 6th percentile value\n",
        "    iii. Plot Histogram on price with bin size 50\n",
        "    iv. No of items price lies between [1000 to 2000]\n",
        "\n"
      ]
    },
    {
      "cell_type": "code",
      "execution_count": 22,
      "metadata": {
        "id": "Eh3xX9FpZNmE"
      },
      "outputs": [
        {
          "data": {
            "text/plain": [
              "np.float64(671.6728346456694)"
            ]
          },
          "execution_count": 22,
          "metadata": {},
          "output_type": "execute_result"
        }
      ],
      "source": [
        "#1\n",
        "items.mean()"
      ]
    },
    {
      "cell_type": "code",
      "execution_count": 24,
      "metadata": {},
      "outputs": [
        {
          "name": "stdout",
          "output_type": "stream",
          "text": [
            "400.5\n",
            "112.5\n"
          ]
        }
      ],
      "source": [
        "#2\n",
        "print(np.percentile(items,30))\n",
        "print(np.percentile(items,6))"
      ]
    },
    {
      "cell_type": "code",
      "execution_count": 28,
      "metadata": {},
      "outputs": [],
      "source": [
        "#3\n",
        "import matplotlib.pyplot as plt"
      ]
    },
    {
      "cell_type": "code",
      "execution_count": 37,
      "metadata": {},
      "outputs": [
        {
          "data": {
            "text/plain": [
              "<Axes: ylabel='Frequency'>"
            ]
          },
          "execution_count": 37,
          "metadata": {},
          "output_type": "execute_result"
        },
        {
          "data": {
            "image/png": "[encoded data removed]",
            "text/plain": [
              "<Figure size 640x480 with 1 Axes>"
            ]
          },
          "metadata": {},
          "output_type": "display_data"
        }
      ],
      "source": [
        "items.plot.hist(bins=50)"
      ]
    },
    {
      "cell_type": "code",
      "execution_count": 27,
      "metadata": {},
      "outputs": [
        {
          "data": {
            "text/plain": [
              "972"
            ]
          },
          "execution_count": 27,
          "metadata": {},
          "output_type": "execute_result"
        }
      ],
      "source": [
        "#4\n",
        "len(items[(items>=1000 )& (items<=2000)])"
      ]
    }
  ],
  "metadata": {
    "colab": {
      "provenance": []
    },
    "kernelspec": {
      "display_name": ".venv (3.13.5)",
      "language": "python",
      "name": "python3"
    },
    "language_info": {
      "codemirror_mode": {
        "name": "ipython",
        "version": 3
      },
      "file_extension": ".py",
      "mimetype": "text/x-python",
      "name": "python",
      "nbconvert_exporter": "python",
      "pygments_lexer": "ipython3",
      "version": "3.13.5"
    }
  },
  "nbformat": 4,
  "nbformat_minor": 0
}
