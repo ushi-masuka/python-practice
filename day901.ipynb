{
  "cells": [
    {
      "cell_type": "markdown",
      "metadata": {
        "id": "BCleRtX43caS"
      },
      "source": [
        "### `Problem-1:` Class inheritence\n",
        "\n",
        "Create a **Bus** child class that inherits from the Vehicle class. The default fare charge of any vehicle is seating capacity * 100. If Vehicle is Bus instance, we need to add an extra 10% on full fare as a maintenance charge. So total fare for bus instance will become the final amount = total fare + 10% of the total fare.\n",
        "\n",
        "Note: The bus seating capacity is 50. so the final fare amount should be 5500. You need to override the fare() method of a Vehicle class in Bus class."
      ]
    },
    {
      "cell_type": "code",
      "execution_count": 20,
      "metadata": {
        "colab": {
          "base_uri": "https://localhost:8080/"
        },
        "id": "6jVFCXKz3YZI",
        "outputId": "a8649209-08e2-4f60-a914-74a914dd697e"
      },
      "outputs": [],
      "source": [
        "class vehicle:\n",
        "\n",
        "    def __init__(self,sc):\n",
        "        self.sc=sc\n",
        "\n",
        "    def fare(self):\n",
        "        return self.sc*100\n",
        "\n",
        "\n",
        "class bus(vehicle):\n",
        "    \n",
        "    def __init__(self,sc=50):\n",
        "        super().__init__(sc)\n",
        "\n",
        "    def fare(self):\n",
        "        return(super().fare())*1.1\n"
      ]
    },
    {
      "cell_type": "code",
      "execution_count": 21,
      "metadata": {},
      "outputs": [
        {
          "name": "stdout",
          "output_type": "stream",
          "text": [
            "500\n",
            "5500.0\n"
          ]
        }
      ],
      "source": [
        "car=vehicle(5)\n",
        "print(car.fare())\n",
        "bus1=bus()\n",
        "print(bus1.fare())"
      ]
    },
    {
      "cell_type": "markdown",
      "metadata": {
        "id": "KBbGNTtQ47mJ"
      },
      "source": [
        "### `Problem-2:` Class Inheritence\n",
        "\n",
        "Create a Bus class that inherits from the Vehicle class. Give the capacity argument of *Bus.seating_capacity()* a default value of 50.\n",
        "\n",
        "Use the following code for your parent Vehicle class."
      ]
    },
    {
      "cell_type": "code",
      "execution_count": null,
      "metadata": {
        "id": "MwOnYE_14M-r"
      },
      "outputs": [],
      "source": [
        "'''incorporated in the above code'''"
      ]
    },
    {
      "cell_type": "markdown",
      "metadata": {
        "id": "ExIxsv4y-oEd"
      },
      "source": [
        "### `Problem-3:` Write a program that has a class Point. Define another class Location which has two objects (Location & Destination) of class Point. Also define a function in Location that prints the reflection of Destination on the x axis."
      ]
    },
    {
      "cell_type": "code",
      "execution_count": 22,
      "metadata": {
        "id": "yT2QtzQp5VAB"
      },
      "outputs": [],
      "source": [
        "class Point:\n",
        "     def __init__(self,x,y):\n",
        "        self.x=x\n",
        "        self.y=y\n",
        "\n",
        "class Location:\n",
        "\n",
        "    def __init__(self,x1,y1,x2,y2):\n",
        "        self.L=Point(x1,y1)\n",
        "        self.D=Point(x2,y2)\n",
        "\n",
        "    def reflection(self):\n",
        "        return(self.D.x,(self.D.y)*(-1))\n",
        "\n",
        "    "
      ]
    },
    {
      "cell_type": "markdown",
      "metadata": {
        "id": "OcQhJvXVALgp"
      },
      "source": [
        "### `Problem-4:` Write a program that has an abstract class Polygon. Derive two classes Rectangle and Triamgle from Polygon and write methods to get the details of their dimensions and hence calculate the area."
      ]
    },
    {
      "cell_type": "code",
      "execution_count": null,
      "metadata": {
        "id": "9IMrtdUH__eA"
      },
      "outputs": [],
      "source": [
        "from abc import ABC,abstractmethod\n",
        "\n",
        "class Polygon(ABC):\n",
        "\n",
        "    @abstractmethod\n",
        "    def get_dim(self):\n",
        "        pass\n",
        "\n",
        "    @abstractmethod\n",
        "    def area(self):\n",
        "        pass\n",
        "\n",
        "\n",
        "class rectangle(Polygon):\n",
        "\n",
        "    def __init__(self):\n",
        "        self.l=None\n",
        "        self.b=None\n",
        "    \n",
        "    def get_dim(self):\n",
        "        self.l=int(input(\"please enter the length\"))\n",
        "        self.b=int(input(\"please enter the breadth\"))\n",
        "\n",
        "    def area(self):\n",
        "        return(self.l*self.b)\n",
        "\n",
        "\n",
        "class triangle(Polygon):\n",
        "\n",
        "    def __init__(self):\n",
        "        self.a=None\n",
        "        self.b=None\n",
        "        self.c=None\n",
        "\n",
        "    def get_dim(self):\n",
        "        self.a=int(input(\"please enter the length of a\"))\n",
        "        self.b=int(input(\"please enter the length of b\"))\n",
        "        self.c=int(input(\"please enter the length of c\"))\n",
        "\n",
        "    def area(self):\n",
        "        s=(self.a+self.b+self.c)/2\n",
        "        return((s*(s-self.a)*(s-self.b)*(s-self.c))**(0.5))"
      ]
    },
    {
      "cell_type": "markdown",
      "metadata": {
        "id": "sEsGEqOHCSWG"
      },
      "source": [
        "### `Problem-5:` Write a program with class Bill. The users have the option to pay the bill either by cheque or by cash. Use the inheritance to model this situation."
      ]
    },
    {
      "cell_type": "code",
      "execution_count": 23,
      "metadata": {
        "id": "l0WFyP2PB3nf"
      },
      "outputs": [],
      "source": [
        "class bill:\n",
        "\n",
        "    def __init__(self,amt):\n",
        "        self.amt=amt\n",
        "\n",
        "    def pay(self):\n",
        "        print(f\"the bill of {self.amt} is paid\")\n",
        "\n",
        "class cash(bill):\n",
        "\n",
        "    def __init__(self,amt):\n",
        "        super().__init__(amt)\n",
        "\n",
        "    def pay(self):\n",
        "        print(f\"cash payment of {self.amt} recieved\")\n",
        "\n",
        "\n",
        "class cheque(bill):\n",
        "\n",
        "    def __init__(self,amt,cn):\n",
        "        super().__init__(amt)\n",
        "        self.cn=cn\n",
        "\n",
        "    def pay(self):\n",
        "        print(f\"cheque payment of {self.amt} recieved\")\n",
        "        print(f'cheque no.: {self.cn}')"
      ]
    },
    {
      "cell_type": "markdown",
      "metadata": {
        "id": "v1M5Yh9ZZO0z"
      },
      "source": [
        "###`Q-6:` FlexibleDict\n",
        "As of now we are accessing values from dictionary with exact keys. Now we want to amend accessing values functionality. if a dict have key `1` (int) the even if we try to access values by giving `'1'` (1 as str) as key, we should get the same result and vice versa.\n",
        "\n",
        "Write a class `FlexibleDict` upon builtin `dict` class with above required functionality.\n",
        "\n",
        "Hint- `dict[key] => dict.__getitem__(key)`"
      ]
    },
    {
      "cell_type": "markdown",
      "metadata": {
        "id": "uajGeWegbfda"
      },
      "source": [
        "Ex.\n",
        "```\n",
        "fd = FlexibleDict()\n",
        "fd['a'] = 100\n",
        "print(fd['a']) # Like regular dict\n",
        "\n",
        "fd[5] = 500\n",
        "print(fd[5]) # Like regular dict\n",
        "\n",
        "fd[1] = 100\n",
        "print(fd['1']) # actual Key is int but still trying to access through str key.\n",
        "fd['1'] = 100\n",
        "print(fd[1])\n",
        "\n",
        "```\n",
        "`Output:`\n",
        "```\n",
        "100\n",
        "500\n",
        "100\n",
        "100\n",
        "\n",
        "```"
      ]
    },
    {
      "cell_type": "code",
      "execution_count": 30,
      "metadata": {
        "id": "OHLbOtCxZ2nw"
      },
      "outputs": [],
      "source": [
        "class FlexibleDict(dict):\n",
        "\n",
        "    def __getitem__(self,key):\n",
        "        if isinstance(key,str) and key.isdigit():\n",
        "            key=int(key)\n",
        "\n",
        "        return(super().__getitem__(key))"
      ]
    },
    {
      "cell_type": "code",
      "execution_count": null,
      "metadata": {
        "id": "7NM8r__dmeMf"
      },
      "outputs": [
        {
          "name": "stdout",
          "output_type": "stream",
          "text": [
            "100\n",
            "500\n",
            "100\n",
            "100\n"
          ]
        }
      ],
      "source": [
        "fd = FlexibleDict()\n",
        "fd['a'] = 100\n",
        "print(fd['a']) # Like regular dict\n",
        "\n",
        "fd[5] = 500\n",
        "print(fd[5]) # Like regular dict\n",
        "\n",
        "fd[1] = 100\n",
        "print(fd['1']) # actual Key is int but still trying to access through str key.\n",
        "fd['1'] = 200\n",
        "print(fd[\"1\"])\n",
        "#since we have only changed the getitem method and not setitem, we can never find the item in fd[\"1\"] "
      ]
    },
    {
      "cell_type": "code",
      "execution_count": null,
      "metadata": {
        "id": "waHSud8Ymkz-"
      },
      "outputs": [],
      "source": []
    }
  ],
  "metadata": {
    "colab": {
      "collapsed_sections": [
        "BCleRtX43caS",
        "KBbGNTtQ47mJ",
        "ExIxsv4y-oEd",
        "OcQhJvXVALgp",
        "sEsGEqOHCSWG",
        "v1M5Yh9ZZO0z"
      ],
      "provenance": []
    },
    "kernelspec": {
      "display_name": ".venv (3.13.5)",
      "language": "python",
      "name": "python3"
    },
    "language_info": {
      "codemirror_mode": {
        "name": "ipython",
        "version": 3
      },
      "file_extension": ".py",
      "mimetype": "text/x-python",
      "name": "python",
      "nbconvert_exporter": "python",
      "pygments_lexer": "ipython3",
      "version": "3.13.5"
    }
  },
  "nbformat": 4,
  "nbformat_minor": 0
}
