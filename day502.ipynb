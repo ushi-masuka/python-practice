{
  "cells": [
    {
      "cell_type": "markdown",
      "metadata": {
        "id": "limD5IAfl-tz"
      },
      "source": [
        "# Tuple\n"
      ]
    },
    {
      "cell_type": "markdown",
      "metadata": {
        "id": "nSTn3CjbmB7q"
      },
      "source": [
        "###`Q1:` Join Tuples if similar initial element\n",
        "While working with Python tuples, we can have a problem in which we need to perform concatenation of records from the similarity of initial element. This problem can have applications in data domains such as Data Science.\n",
        "\n",
        "For eg.\n",
        "```\n",
        "Input  : test_list = [(5, 6), (5, 7), (5, 8), (6, 10), (7, 13)]\n",
        "Output : [(5, 6, 7, 8), (6, 10), (7, 13)]\n",
        "```"
      ]
    },
    {
      "cell_type": "code",
      "execution_count": 20,
      "metadata": {
        "id": "hwVeEvH9rJzU"
      },
      "outputs": [
        {
          "name": "stdout",
          "output_type": "stream",
          "text": [
            "[(5, 7), (5, 6), (6, 10), (5, 8), (7, 13)]\n",
            "[(5, 6), (5, 7), (5, 8), (6, 10), (7, 13)]\n",
            "[(5, 6, 7, 8), (6, 10), (7, 13)]\n"
          ]
        }
      ],
      "source": [
        "test_list=[(5,7),(5,6),(6,10),(5,8),(7,13)]\n",
        "print(test_list)\n",
        "test_list.sort()\n",
        "print(test_list)\n",
        "output=[]\n",
        "cur_g=list(test_list[0])\n",
        "\n",
        "for i in range(1,len(test_list)):\n",
        "    if test_list[i][0]==cur_g[0]:\n",
        "        cur_g.append(test_list[i][1])\n",
        "    else:\n",
        "        output.append(tuple(cur_g))\n",
        "        cur_g=list(test_list[i])\n",
        "    \n",
        "output.append(tuple(cur_g))\n",
        "\n",
        "print(output)"
      ]
    },
    {
      "cell_type": "markdown",
      "metadata": {
        "id": "ujQpZOFFmeha"
      },
      "source": [
        "###`Q2:` Multiply Adjacent elements (both side) and take sum of right and lest side multiplication result.\n",
        "\n",
        "\n",
        "For eg.\n",
        "```\n",
        "The original tuple : (1, 5, 7, 8, 10)\n",
        "Resultant tuple after multiplication :\n",
        "\n",
        "(1*5, 1*5+5*7, 7*5 + 7*8, 8*7 + 8*10, 10*8) -> (5, 40, 91, 136, 80)\n",
        "\n",
        "output-(5, 40, 91, 136, 80)\n",
        "```"
      ]
    },
    {
      "cell_type": "code",
      "execution_count": 33,
      "metadata": {
        "id": "N9lveEsArNVc"
      },
      "outputs": [
        {
          "name": "stdout",
          "output_type": "stream",
          "text": [
            "(5, 40, 91, 136, 80)\n"
          ]
        }
      ],
      "source": [
        "ogt=(1,5,7,8,10)\n",
        "\n",
        "res=[ogt[i]*ogt[i+1] if i==0 else ogt[i]*ogt[i-1] if i==(len(ogt)-1) else ogt[i]*(ogt[i-1]+ogt[i+1]) for i in range(len(ogt))]\n",
        "\n",
        "res=tuple(res)\n",
        "print(res)"
      ]
    },
    {
      "cell_type": "markdown",
      "metadata": {
        "id": "x0psnUiu2ZVp"
      },
      "source": [
        "###`Q3`: Check is tuples are same or not?\n",
        "Two tuples would be same if both tuples have same element at same index\n",
        "```\n",
        "t1 = (1,2,3,0)\n",
        "t2 = (0,1,2,3)\n",
        "\n",
        "t1 and t2 are not same\n",
        "```"
      ]
    },
    {
      "cell_type": "code",
      "execution_count": null,
      "metadata": {
        "id": "JMVw9EhSrPEc"
      },
      "outputs": [
        {
          "name": "stdout",
          "output_type": "stream",
          "text": [
            "False\n"
          ]
        }
      ],
      "source": [
        "t1=(1,2,3,0)\n",
        "t2=(0,1,2,3)\n",
        "\n",
        "print(t1==t2)"
      ]
    },
    {
      "cell_type": "markdown",
      "metadata": {
        "id": "aZ4rObHK4fCN"
      },
      "source": [
        "###`Q4`: Count no of tuples, list and set from a list\n",
        "```\n",
        "list1 = [{'hi', 'bye'},{'Geeks', 'forGeeks'},('a', 'b'),['hi', 'bye'],['a', 'b']]\n",
        "\n",
        "```\n",
        "`Output:`\n",
        "\n",
        "```\n",
        "List-2\n",
        "Set-2\n",
        "Tuples-1\n",
        "```"
      ]
    },
    {
      "cell_type": "code",
      "execution_count": 32,
      "metadata": {
        "id": "g_Bnuczk69tG"
      },
      "outputs": [
        {
          "name": "stdout",
          "output_type": "stream",
          "text": [
            "list: 2, sets: 2, tuples: 1\n"
          ]
        }
      ],
      "source": [
        "list1 = [{'hi', 'bye'},{'Geeks', 'forGeeks'},('a', 'b'),['hi', 'bye'],['a', 'b']]\n",
        "numlist=0\n",
        "numset=0\n",
        "numtup=0\n",
        "\n",
        "for i in list1:\n",
        "    if type(i)==list:\n",
        "        numlist+=1\n",
        "    elif type(i)==set:\n",
        "        numset+=1\n",
        "    elif type(i)==tuple:\n",
        "        numtup+=1\n",
        "\n",
        "print(f\"list: {numlist}, sets: {numset}, tuples: {numtup}\")\n"
      ]
    },
    {
      "cell_type": "markdown",
      "metadata": {
        "id": "jInFNuit8hf1"
      },
      "source": [
        "###`Q5`: Shortlist Students for a Job role\n",
        "Ask user to input students record and store in tuples for each record. Then Ask user to input three things he wants in the candidate- Primary Skill, Higher Education, Year of Graduation.\n",
        "\n",
        "Show every students record in form of tuples if matches all required criteria.\n",
        "\n",
        "It is assumed that there will be only one primry skill.\n",
        "\n",
        "If no such candidate found, print `No such candidate`\n",
        "\n",
        "`Input:`\n",
        "```\n",
        "Enter No of records- 2\n",
        "Enter Details of student-1\n",
        "Enter Student name- Manohar\n",
        "Enter Higher Education- B.Tech\n",
        "Enter Primary Skill- Python\n",
        "Enter Year of Graduation- 2022\n",
        "Enter Details of student-2\n",
        "Enter Student name- Ponian\n",
        "Enter Higher Education- B.Sc.\n",
        "Enter Primary Skill- C++\n",
        "Enter Year of Graduation- 2020\n",
        "\n",
        "Enter Job Role Requirement\n",
        "Enter Skill- Python\n",
        "Enter Higher Education- B.Tech\n",
        "Enter Year of Graduation- 2022\n",
        "```\n",
        "\n",
        "`Output`\n",
        "```\n",
        "('Manohar', 'B.tech', 'Python', '2022')\n",
        "```\n"
      ]
    },
    {
      "cell_type": "code",
      "execution_count": 3,
      "metadata": {
        "id": "erh9QZaerSHk"
      },
      "outputs": [
        {
          "name": "stdout",
          "output_type": "stream",
          "text": [
            "[('name', 'course', 'skill', 'year'), ('a', 'bsc', 'python', '2020'), ('b', 'bsc', 'cpp', '2020'), ('c', 'bsc', 'python', '2020')]\n",
            "enter the job roles req\n",
            "('a', 'bsc', 'python', '2020')\n",
            "('c', 'bsc', 'python', '2020')\n"
          ]
        }
      ],
      "source": [
        "records=[(\"name\",\"course\",\"skill\",\"year\")]\n",
        "n=int(input(\"please enter the No. of records: \"))\n",
        "\n",
        "\n",
        "while n:\n",
        "    t=[]\n",
        "    t.append(input(\"please enter the name: \"))\n",
        "    t.append(input(\"please enter the course: \"))\n",
        "    t.append(input(\"please enter the skill: \"))\n",
        "    t.append(input(\"please enter the year: \"))\n",
        "    records.append(tuple(t))\n",
        "    n=n-1\n",
        "\n",
        "print(records)\n",
        "print(\"enter the job roles req\")\n",
        "course=input(\"please enter the course required: \")\n",
        "skill=input(\"please enter the skill: \")\n",
        "year=input(\"please enter the year: \")\n",
        "\n",
        "checklist=(course,skill,year)\n",
        "check=0\n",
        "\n",
        "for i in records:\n",
        "    if(i[1:]==checklist):\n",
        "        print(i)\n",
        "        check=1\n",
        "        \n",
        "if check==0:\n",
        "    print(\"no such candidate.\")"
      ]
    },
    {
      "cell_type": "markdown",
      "metadata": {
        "id": "l4hLvwD2BeIN"
      },
      "source": [
        "# Set"
      ]
    },
    {
      "cell_type": "markdown",
      "metadata": {
        "id": "zCX0Sk2IBfu8"
      },
      "source": [
        "###`Q1:` Write a program to find set of common elements in three lists using sets.\n",
        "```\n",
        "Input : ar1 = [1, 5, 10, 20, 40, 80]\n",
        "        ar2 = [6, 7, 20, 80, 100]\n",
        "        ar3 = [3, 4, 15, 20, 30, 70, 80, 120]\n",
        "\n",
        "Output : [80, 20]\n",
        "```"
      ]
    },
    {
      "cell_type": "code",
      "execution_count": 34,
      "metadata": {
        "id": "rqATYpBUrUQU"
      },
      "outputs": [
        {
          "data": {
            "text/plain": [
              "{20, 80}"
            ]
          },
          "execution_count": 34,
          "metadata": {},
          "output_type": "execute_result"
        }
      ],
      "source": [
        "ar1 = {1, 5, 10, 20, 40, 80}\n",
        "ar2 ={6, 7, 20, 80, 100}\n",
        "ar3 = {3, 4, 15, 20, 30, 70, 80, 120}\n",
        "ar1&ar2&ar3\n"
      ]
    },
    {
      "cell_type": "markdown",
      "metadata": {
        "id": "0gOVS-0yCYrK"
      },
      "source": [
        "###`Q2:` Write a program to count unique number of vowels using sets in a given string. Lowercase and upercase vowels will be taken as different.\n",
        "\n",
        "`Input:`\n",
        "```\n",
        "Str1 = \"hands-on data science mentorship progrAm with live classes at affordable fee only on CampusX\"\n",
        "```\n",
        "`Output:`\n",
        "```\n",
        "No of unique vowels-6\n",
        "```"
      ]
    },
    {
      "cell_type": "code",
      "execution_count": 40,
      "metadata": {
        "id": "0vAlEAOzDihm"
      },
      "outputs": [
        {
          "name": "stdout",
          "output_type": "stream",
          "text": [
            "{'A', 'u', 'U', 'E', 'i', 'e', 'O', 'a', 'I', 'o'}\n",
            "6\n"
          ]
        }
      ],
      "source": [
        "str1=\"hands-on data science mentorship progrAm with live classes at affordable fee only on CampusX\"\n",
        "vowels=set(\"aeiouAEIOU\")\n",
        "print(vowels)\n",
        "str1=set(str1)\n",
        "print(len(str1&vowels))"
      ]
    },
    {
      "cell_type": "markdown",
      "metadata": {
        "id": "fqLZxiarEne5"
      },
      "source": [
        "### `Q3:` Write a program to Check if a given string is binary string of or not.\n",
        "\n",
        "A string is said to be binary if it's consists of only two unique characters.\n",
        "\n",
        "Take string input from user.\n",
        "\n",
        "```\n",
        "Input: str = \"01010101010\"\n",
        "Output: Yes\n",
        "\n",
        "Input: str = \"1222211\"\n",
        "Output: Yes\n",
        "\n",
        "Input: str = \"Campusx\"\n",
        "Output: No\n",
        "```"
      ]
    },
    {
      "cell_type": "code",
      "execution_count": 41,
      "metadata": {
        "id": "5M5v8LoYrXkE"
      },
      "outputs": [
        {
          "name": "stdout",
          "output_type": "stream",
          "text": [
            "hehehehe\n",
            "yes\n"
          ]
        }
      ],
      "source": [
        "s=input('please enter the string')\n",
        "print(s)\n",
        "s=set(s)\n",
        "if(len(s)==2):\n",
        "    print(\"yes\")\n",
        "else:\n",
        "    print(\"no\")"
      ]
    },
    {
      "cell_type": "markdown",
      "metadata": {
        "id": "xXS8wYH1mDqx"
      },
      "source": [
        "### `Q4`: find union of n arrays.\n",
        "\n",
        "**Example 1:**\n",
        "\n",
        "Input:\n",
        "```bash\n",
        "[[1, 2, 2, 4, 3, 6],\n",
        " [5, 1, 3, 4],\n",
        " [9, 5, 7, 1],\n",
        " [2, 4, 1, 3]]\n",
        "```\n",
        "\n",
        "Output:\n",
        "\n",
        "```bash\n",
        "[1, 2, 3, 4, 5, 6, 7, 9]\n",
        "```"
      ]
    },
    {
      "cell_type": "code",
      "execution_count": 5,
      "metadata": {
        "id": "FVNyK6MbncU8"
      },
      "outputs": [
        {
          "name": "stdout",
          "output_type": "stream",
          "text": [
            "{1, 2, 3, 4, 5, 6, 7, 9}\n"
          ]
        }
      ],
      "source": [
        "array=[[1, 2, 2, 4, 3, 6],[5, 1, 3, 4],[9, 5, 7, 1],[2, 4, 1, 3]]\n",
        "ar1=array.copy()\n",
        "s=set()\n",
        "\n",
        "\n",
        "for i in ar1:\n",
        "    if isinstance(i,list):\n",
        "        ar1.extend(i)\n",
        "    else:\n",
        "        s.add(i)\n",
        "\n",
        "print(s)\n"
      ]
    },
    {
      "cell_type": "markdown",
      "metadata": {
        "id": "T_Re21BdndOz"
      },
      "source": [
        "### `Q5`: Intersection of two lists. Intersection of two list means we need to take all those elements which are common to both of the initial lists and store them into another list. Only use using **list-comprehension**.\n",
        "\n",
        "**Example 1:**\n",
        "\n",
        "Input:\n",
        "```bash\n",
        "lst1 = {15, 9, 10, 56, 23, 78, 5, 4, 9}\n",
        "lst2 = {9, 4, 5, 36, 47, 26, 10, 45, 87}\n",
        "```\n",
        "\n",
        "Output:\n",
        "```bash\n",
        "[9, 10, 4, 5]\n",
        "```\n",
        "\n",
        "**Example 2:**\n",
        "\n",
        "Input:\n",
        "```bash\n",
        "lst1 = {4, 9, 1, 17, 11, 26, 28, 54, 69}\n",
        "lst2 = {9, 9, 74, 21, 45, 11, 63, 28, 26}\n",
        "```\n",
        "\n",
        "Output:\n",
        "```bash\n",
        "[9, 11, 26, 28]\n",
        "```"
      ]
    },
    {
      "cell_type": "code",
      "execution_count": 8,
      "metadata": {
        "id": "nWnL25ftoLVT"
      },
      "outputs": [
        {
          "name": "stdout",
          "output_type": "stream",
          "text": [
            "[3, 4]\n"
          ]
        }
      ],
      "source": [
        "l1=[1,2,3,4]\n",
        "l2=[3,4,5,6]\n",
        "\n",
        "intersection=[i for i in l1 if i in l2 ]\n",
        "print(intersection)"
      ]
    },
    {
      "cell_type": "markdown",
      "metadata": {
        "id": "tD2RSYn1a8oA"
      },
      "source": [
        "# Dictionary"
      ]
    },
    {
      "cell_type": "markdown",
      "metadata": {
        "id": "7tUjHhcPbQzQ"
      },
      "source": [
        "### `Q1`: Key with maximum unique values\n",
        "\n",
        "Given a dictionary with values list, extract key whose value has most unique values.\n",
        "\n",
        "**Example 1:**\n",
        "\n",
        "Input:\n",
        "\n",
        "```bash\n",
        "test_dict = {\"CampusX\" : [5, 7, 9, 4, 0], \"is\" : [6, 7, 4, 3, 3], \"Best\" : [9, 9, 6, 5, 5]}\n",
        "```\n",
        "\n",
        "Output:\n",
        "```bash\n",
        "CampusX\n",
        "```\n",
        "\n",
        "**Example 2:**\n",
        "\n",
        "Input:\n",
        "```bash\n",
        "test_dict = {\"CampusX\" : [5, 7, 7, 7, 7], \"is\" : [6, 7, 7, 7], \"Best\" : [9, 9, 6, 5, 5]}\n",
        "```\n",
        "\n",
        "Output:\n",
        "```bash\n",
        "Best\n",
        "```"
      ]
    },
    {
      "cell_type": "code",
      "execution_count": 15,
      "metadata": {
        "id": "N8KHX863lNxL"
      },
      "outputs": [
        {
          "name": "stdout",
          "output_type": "stream",
          "text": [
            "Best\n"
          ]
        }
      ],
      "source": [
        "ind={\"CampusX\" : [5, 7, 7, 7, 7], \"is\" : [6, 7, 7, 7], \"Best\" : [9, 9, 6, 5, 5]}\n",
        "x=''\n",
        "y=0\n",
        "\n",
        "for i,j in ind.items():\n",
        "    if y<len(set(j)):\n",
        "        y=len(set(j))\n",
        "        x=i\n",
        "\n",
        "print(x)\n",
        "        "
      ]
    },
    {
      "cell_type": "markdown",
      "metadata": {
        "id": "_S5X6C84dWdJ"
      },
      "source": [
        "### `Q2`: Replace words from Dictionary. Given String, replace it’s words from lookup dictionary.\n",
        "\n",
        "**Example 1:**\n",
        "\n",
        "Input:\n",
        "\n",
        "```bash\n",
        "test_str = 'CampusX best for DS students.'\n",
        "repl_dict = {\"best\" : \"is the best channel\", \"DS\" : \"Data-Science\"}\n",
        "```\n",
        "\n",
        "Output:\n",
        "\n",
        "```bash\n",
        "CampusX is the best channel for Data-Science students.\n",
        "```\n",
        "\n",
        "**Example 2:**\n",
        "\n",
        "Input:\n",
        "```bash\n",
        "test_str = 'CampusX best for DS students.'\n",
        "repl_dict = {\"good\" : \"is the best channel\", \"ds\" : \"Data-Science\"}\n",
        "```\n",
        "\n",
        "Output:\n",
        "```bash\n",
        "CampusX best for DS students.\n",
        "```"
      ]
    },
    {
      "cell_type": "code",
      "execution_count": 23,
      "metadata": {
        "id": "BTAQ8qnrlOxr"
      },
      "outputs": [
        {
          "name": "stdout",
          "output_type": "stream",
          "text": [
            "CampusX is the best channel for Data-Science students.\n"
          ]
        }
      ],
      "source": [
        "test_str = 'CampusX best for DS students.'\n",
        "repl_dict = {\"best\" : \"is the best channel\", \"DS\" : \"Data-Science\"}\n",
        "\n",
        "l=test_str.split()\n",
        "\n",
        "for i in range(len(l)):\n",
        "    if l[i] in repl_dict.keys():\n",
        "        l[i]=repl_dict[l[i]]\n",
        "\n",
        "outstring=\" \".join(l)\n",
        "print(outstring)"
      ]
    },
    {
      "cell_type": "markdown",
      "metadata": {
        "id": "55xgap3zfbcR"
      },
      "source": [
        "### `Q3`: Convert List to List of dictionaries. Given list values and keys list, convert these values to key value pairs in form of list of dictionaries.\n",
        "\n",
        "**Example 1:**\n",
        "\n",
        "Input:\n",
        "```bash\n",
        "test_list = [\"DataScience\", 3, \"is\", 8]\n",
        "key_list = [\"name\", \"id\"]\n",
        "```\n",
        "\n",
        "Output:\n",
        "\n",
        "```bash\n",
        "[{'name': 'DataScience', 'id': 3}, {'name': 'is', 'id': 8}]\n",
        "```\n",
        "\n",
        "**Example 2:**\n",
        "\n",
        "Input:\n",
        "```bash\n",
        "test_list = [\"CampusX\", 10]\n",
        "key_list = [\"name\", \"id\"]\n",
        "```\n",
        "\n",
        "Output:\n",
        "\n",
        "```bash\n",
        "[{'name': 'CampusX', 'id': 10}]\n",
        "```"
      ]
    },
    {
      "cell_type": "code",
      "execution_count": 32,
      "metadata": {
        "id": "jbCajI87lQFr"
      },
      "outputs": [
        {
          "name": "stdout",
          "output_type": "stream",
          "text": [
            "[{'name': 'DataScience', 'id': 3}, {'name': 'is', 'id': 8}]\n"
          ]
        }
      ],
      "source": [
        "test_list = [\"DataScience\", 3, \"is\", 8]\n",
        "key_list = [\"name\", \"id\"]\n",
        "ld=[]\n",
        "\n",
        "for i in range(0,len(test_list),len(key_list)):\n",
        "    d={}\n",
        "    for j in range(0,len(key_list)):\n",
        "        d.update({key_list[j]:test_list[j+i]})\n",
        "    ld.append(d)\n",
        "print(ld)"
      ]
    },
    {
      "cell_type": "markdown",
      "metadata": {
        "id": "5RxBlLQahLkB"
      },
      "source": [
        "### `Q4`: Convert a list of Tuples into Dictionary.\n",
        "\n",
        "**Example 1:**\n",
        "\n",
        "Input:\n",
        "```bash\n",
        "[(\"akash\", 10), (\"gaurav\", 12), (\"anand\", 14), (\"suraj\", 20), (\"akhil\", 25), (\"ashish\", 30)]\n",
        "```\n",
        "\n",
        "Output:\n",
        "```bash\n",
        "{'akash': [10], 'gaurav': [12], 'anand': [14], 'suraj': [20], 'akhil': [25], 'ashish': [30]}\n",
        "```\n",
        "\n",
        "**Example 2:**\n",
        "\n",
        "Input:\n",
        "```bash\n",
        "[('A', 1), ('B', 2), ('C', 3)]\n",
        "```\n",
        "\n",
        "Output:\n",
        "```bash\n",
        "{'A': [1], 'B': [2], 'C': [3]}\n",
        "```"
      ]
    },
    {
      "cell_type": "code",
      "execution_count": null,
      "metadata": {
        "id": "f1yz7inMlQ5N"
      },
      "outputs": [
        {
          "name": "stdout",
          "output_type": "stream",
          "text": [
            "{'akash': [10], 'gaurav': [12], 'anand': [14], 'suraj': [20], 'akhil': [25], 'ashish': [30]}\n"
          ]
        }
      ],
      "source": [
        "l=[(\"akash\", 10), (\"gaurav\", 12), (\"anand\", 14), (\"suraj\", 20), (\"akhil\", 25), (\"ashish\", 30)]\n",
        "d={}\n",
        "for i in range(len(l)):\n",
        "    d.update({l[i][0]:[l[i][1]]})\n",
        "print(d)"
      ]
    },
    {
      "cell_type": "code",
      "execution_count": 44,
      "metadata": {},
      "outputs": [
        {
          "name": "stdout",
          "output_type": "stream",
          "text": [
            "{'akash': [10], 'gaurav': [12], 'anand': [14], 'suraj': [20], 'akhil': [25], 'ashish': [30]}\n"
          ]
        }
      ],
      "source": [
        "l=[(\"akash\", 10), (\"gaurav\", 12), (\"anand\", 14), (\"suraj\", 20), (\"akhil\", 25), (\"ashish\", 30)]\n",
        "d={key:[value] for key,value in l}\n",
        "print(d)"
      ]
    },
    {
      "cell_type": "markdown",
      "metadata": {
        "id": "Fz8EzJD-kBkS"
      },
      "source": [
        "### `Q5`: Sort Dictionary key and values List.\n",
        "\n",
        "**Example 1:**\n",
        "\n",
        "Input:\n",
        "\n",
        "```bash\n",
        "{'c': [3], 'b': [12, 10], 'a': [19, 4]}\n",
        "```\n",
        "\n",
        "Output:\n",
        "\n",
        "```bash\n",
        "{'a': [4, 19], 'b': [10, 12], 'c': [3]}\n",
        "```\n",
        "\n",
        "**Example 2:**\n",
        "\n",
        "Input:\n",
        "\n",
        "```bash\n",
        "{'c': [10, 34, 3]}\n",
        "```\n",
        "\n",
        "Output:\n",
        "\n",
        "```bash\n",
        "{'c': [3, 10, 34]}\n",
        "```"
      ]
    },
    {
      "cell_type": "code",
      "execution_count": 52,
      "metadata": {
        "id": "x9UmJ4EQk7Pp"
      },
      "outputs": [
        {
          "name": "stdout",
          "output_type": "stream",
          "text": [
            "{'a': [4, 19], 'b': [10, 12], 'c': [3]}\n"
          ]
        }
      ],
      "source": [
        "d={'c': [3], 'b': [12, 10], 'a': [19, 4]}\n",
        "keys=list(d.keys())\n",
        "keys=sorted(key)\n",
        "sortedd={key:sorted(d[key]) for key in keys }\n",
        "print(sortedd)\n"
      ]
    },
    {
      "cell_type": "code",
      "execution_count": null,
      "metadata": {},
      "outputs": [],
      "source": []
    },
    {
      "cell_type": "code",
      "execution_count": null,
      "metadata": {},
      "outputs": [],
      "source": []
    }
  ],
  "metadata": {
    "colab": {
      "provenance": []
    },
    "kernelspec": {
      "display_name": ".venv (3.13.5)",
      "language": "python",
      "name": "python3"
    },
    "language_info": {
      "codemirror_mode": {
        "name": "ipython",
        "version": 3
      },
      "file_extension": ".py",
      "mimetype": "text/x-python",
      "name": "python",
      "nbconvert_exporter": "python",
      "pygments_lexer": "ipython3",
      "version": "3.13.5"
    }
  },
  "nbformat": 4,
  "nbformat_minor": 0
}
