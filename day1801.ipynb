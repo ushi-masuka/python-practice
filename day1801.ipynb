{
  "nbformat": 4,
  "nbformat_minor": 0,
  "metadata": {
    "colab": {
      "provenance": []
    },
    "kernelspec": {
      "name": "python3",
      "display_name": "Python 3"
    },
    "language_info": {
      "name": "python"
    }
  },
  "cells": [
    {
      "cell_type": "code",
      "execution_count": null,
      "metadata": {
        "id": "PlcdriLvtyhC"
      },
      "outputs": [],
      "source": [
        "import numpy as np\n",
        "import pandas as pd\n",
        "\n",
        "# to visualize all the column, run the below code\n",
        "pd.options.display.max_columns = None\n",
        "# to show all the records, use the below code\n",
        "# pd.options.display.max_rows = None"
      ]
    },
    {
      "cell_type": "markdown",
      "source": [
        "## Fifa Worldcup - 2022 dataset.\n",
        "\n",
        "You can find the dataset from [here](https://www.kaggle.com/datasets/sayanroy729/fifa-worldcup-2022-results).\n",
        "\n",
        "Also you can directly use an url to read the dataset by using `pd.read_csv()` method. Check the below code cell."
      ],
      "metadata": {
        "id": "YZvQ-2fzt318"
      }
    },
    {
      "cell_type": "code",
      "source": [
        "# To get the details about the dataset, please visit\n",
        "# https://www.kaggle.com/datasets/sayanroy729/fifa-worldcup-2022-results\n",
        "\n",
        "url = \"https://docs.google.com/spreadsheets/d/e/2PACX-1vT3D_x_4DS6d51LKJ7ze1sxT5WpV5uiSVOFYHLwBiGru6vFyVv5h5-83AwFjxWYiWfCDjDAaarHAV-k/pub?gid=0&single=true&output=csv\"\n",
        "df = pd.read_csv(url)\n",
        "df.head()"
      ],
      "metadata": {
        "id": "tGy1_cUruB4I"
      },
      "execution_count": null,
      "outputs": []
    },
    {
      "cell_type": "markdown",
      "source": [
        "### `Q-1:` Use the football dataset. Find out the total percentages that each team made on target. Display the result as a python dictionary where the keys are the team list and the values are the percentage values. Round off the percentage values up to 2 decimal places.\n",
        "\n",
        "*Help:*\n",
        "- First, find out how many total teams are participated in this worldcup. For that, you can use `unique()` method on the column \"Team\" or \"Against\".\n",
        "- Loop through the teams list that you have found in previous section, and then filter the dataset according to that. After filtering the dataset, find out total attempts sum and total on target sum.\n",
        "- After getting these values, find out the percentage by total on target divided by total attempts and multiply by 100. And store to a python dictionary where the key will be the team name and the values will be the percentages.\n",
        "- At the end,sort the dictionary by the values (not by the keys) and print the result.\n"
      ],
      "metadata": {
        "id": "gTisVyJHuLB9"
      }
    },
    {
      "cell_type": "markdown",
      "source": [
        "\n",
        "**Sample Output:**\n",
        "```bash\n",
        "{'Costa Rica': 54.55,\n",
        " 'Cameroon': 51.85,\n",
        " 'Ecuador': 48.15,\n",
        " 'Argentina': 46.99,\n",
        " 'Brazil': 45.56,\n",
        " 'England': 45.0,\n",
        " 'Portugal': 40.32,\n",
        " 'Ghana': 40.0,\n",
        " 'Netherlands': 39.02,\n",
        " 'Korea Republic': 36.73,\n",
        " 'Australia': 36.0,\n",
        " 'Mexico': 34.88,\n",
        " 'Croatia': 34.78,\n",
        " 'Germany': 34.33,\n",
        " 'France': 32.97,\n",
        " 'Spain': 32.69,\n",
        " 'Belgium': 32.35,\n",
        " 'Serbia': 32.26,\n",
        " 'Iran': 31.43,\n",
        " 'Uruguay': 31.25,\n",
        " 'United States': 31.11,\n",
        " 'Saudi Arabia': 31.03,\n",
        " 'Senegal': 30.77,\n",
        " 'Denmark': 30.56,\n",
        " 'Switzerland': 30.56,\n",
        " 'Japan': 30.23,\n",
        " 'Wales': 29.17,\n",
        " 'Qatar': 28.57,\n",
        " 'Morocco': 28.3,\n",
        " 'Tunisia': 26.67,\n",
        " 'Poland': 25.0,\n",
        " 'Canada': 17.65}\n",
        "```"
      ],
      "metadata": {
        "id": "8myJwFm_uOy6"
      }
    },
    {
      "cell_type": "code",
      "source": [
        "# code here"
      ],
      "metadata": {
        "id": "qwN5G6s-uH16"
      },
      "execution_count": null,
      "outputs": []
    },
    {
      "cell_type": "markdown",
      "source": [
        "### `Q-2:` Find out how many times the teams are played in this Fifa Worldcup-2022. On top of this, find out the ranks of the teams.\n",
        "\n",
        "Note: The `DataFrame.rank()` method takes an optiinal parameter named `method`. This parameter takes different values, but one of them is `average` which is by-default. So, when you do the rank, you will get some 2.5 like floating values. But if you change the value as `first`, then you will get in integers but the datatype will be float. So, try with `method=\"first\"` parameter."
      ],
      "metadata": {
        "id": "AzbkiZMduTok"
      }
    },
    {
      "cell_type": "code",
      "source": [
        "# code here"
      ],
      "metadata": {
        "id": "YJRkSElguWlL"
      },
      "execution_count": null,
      "outputs": []
    },
    {
      "cell_type": "markdown",
      "source": [
        "### `Q-3:` Find out these below topics:\n",
        "- The information about the Fifa worldcup dataset.\n",
        "- The description about the Fifa worldcup dataset\n",
        "- Check is there any missing values, if there is any missing values, fill that value with the average value for that particular column.\n",
        "- Drop all the duplicate rows permanently.\n",
        "- Drop the columns: \"Sl No\", \"Match No.\", \"Red Cards\" and \"Pts\" permanently."
      ],
      "metadata": {
        "id": "056FDiXOuYQB"
      }
    },
    {
      "cell_type": "code",
      "source": [
        "# code here"
      ],
      "metadata": {
        "id": "0_TE4B26uaVS"
      },
      "execution_count": null,
      "outputs": []
    },
    {
      "cell_type": "markdown",
      "source": [
        "###`Q-4:` Do these below operations:\n",
        "- Find out the rank based on the \"Team\" column and save the result by adding a new column named \"Rank\".\n",
        "- Change the datatype of this column to integer by using `np.int16`\n",
        "- Set the index of the DataFrame by using this \"Rank\" column permanently.\n",
        "- After that, sort the dataframe based on the \"Rank\" index."
      ],
      "metadata": {
        "id": "8R3X--kyubf4"
      }
    },
    {
      "cell_type": "code",
      "source": [
        "# code here"
      ],
      "metadata": {
        "id": "l2-4scffuebD"
      },
      "execution_count": null,
      "outputs": []
    },
    {
      "cell_type": "markdown",
      "source": [
        "## Questions on Titanic dataset.\n",
        "\n",
        "You can get the dataset from [here](https://www.kaggle.com/competitions/titanic). This is the competition page on Kaggle. To download the dataset from here, I guess you have to register for the compition. So, do so and then download the dataset.\n",
        "\n",
        "Also, for now you can use this url to read the dataset like before:\n",
        "- dataset 1: https://docs.google.com/spreadsheets/d/e/2PACX-1vQjh5HzZ1N0SU7ME9ZQRzeVTaXaGsV97rU8R7eAcg53k27GTstJp9cRUOfr55go1GRRvTz1NwvyOnuh/pub?gid=1562145139&single=true&output=csv\n",
        "- dataset 2: https://docs.google.com/spreadsheets/d/e/2PACX-1vQcPvQsSC9aNFogvbUG08nu0bGHlOclGYaOlhND_LE5Ff7ZnHQ5VYzAgpyT5XNklgiT54SsNgHePsUa/pub?gid=1656109608&single=true&output=csv"
      ],
      "metadata": {
        "id": "J7827-Onufne"
      }
    },
    {
      "cell_type": "markdown",
      "source": [
        "### `Q-5:` Do the below tasks:\n",
        "1. With dataset 1, drop those records which only have missing values of the \"Age\" column permanently.\n",
        "\n",
        "2. With the dataset 2, fill the missing values with 20 to the only \"Age\" column permanently."
      ],
      "metadata": {
        "id": "bK8hhjGtuoPg"
      }
    },
    {
      "cell_type": "code",
      "source": [
        "# code here"
      ],
      "metadata": {
        "id": "OzU2N1WaujEV"
      },
      "execution_count": null,
      "outputs": []
    },
    {
      "cell_type": "markdown",
      "source": [
        "## Questions on IPL wala dataset\n",
        "\n",
        "matches dataset = https://drive.google.com/file/d/1yKVUuexl6lIKuFQy7uIPgDgXhJ0L4SIg/view?usp=share_link\n",
        "\n",
        "Code to directly use in colab\n",
        "```\n",
        "ipl_matches = \"https://docs.google.com/spreadsheets/d/e/2PACX-1vRy2DUdUbaKx_Co9F0FSnIlyS-8kp4aKv_I0-qzNeghiZHAI_hw94gKG22XTxNJHMFnFVKsO4xWOdIs/pub?gid=1655759976&single=true&output=csv\"\n",
        "\n",
        "```\n",
        "\n",
        "\n"
      ],
      "metadata": {
        "id": "u_za5X6Xuy9O"
      }
    },
    {
      "cell_type": "markdown",
      "source": [
        "###`Q-6:` Make a dataframe of each team in IPL with details like - Team Name, Matches Played, Win%, Home Win%, Away Win%.\n",
        "Show sorted dataframe on Win%\n",
        "\n",
        "Replace old team name as new name before performing any tasks.\n",
        "```\n",
        "Delhi Daredevils ->Delhi Capitals\n",
        "Kings XI Punjab -> Punjab Kings\n",
        "Rising Pune Supergiants -> Rising Pune Supergiant\n",
        "```\n",
        "\n",
        "Note: Team1 represents Home team. Exclude not result matches.\n"
      ],
      "metadata": {
        "id": "dUT2nct2u2ET"
      }
    },
    {
      "cell_type": "code",
      "source": [
        "# code here"
      ],
      "metadata": {
        "id": "Y_yr2BgquzeO"
      },
      "execution_count": null,
      "outputs": []
    },
    {
      "cell_type": "markdown",
      "source": [
        "###`Q-7:` Venues with most \"no result\" matches."
      ],
      "metadata": {
        "id": "kfZPOzk5u4Ty"
      }
    },
    {
      "cell_type": "code",
      "source": [
        "# code here"
      ],
      "metadata": {
        "id": "XYLJXgVwu7MC"
      },
      "execution_count": null,
      "outputs": []
    },
    {
      "cell_type": "markdown",
      "source": [
        "###`Q-8:` Player with most appearance in final match.\n",
        "\n",
        "`Team1Players` and `Team2Players` have all players name. It is not a list of players name instead it is str. So handle it as string.\n",
        "\n",
        "Hint: split and strip will help; Make a series of all players in final and do value counts\n"
      ],
      "metadata": {
        "id": "XWeIf7I6u8T-"
      }
    },
    {
      "cell_type": "code",
      "source": [
        "# code here"
      ],
      "metadata": {
        "id": "z_OKKz-Eu-dd"
      },
      "execution_count": null,
      "outputs": []
    },
    {
      "cell_type": "markdown",
      "source": [
        "###`Q-9:` IPL Point Table\n",
        "\n",
        "Make a function `point_table` which take `season` as parameter and show points table in non-ascendng order of points and in ascending order of team name.\n",
        "\n",
        "For winning - 2 Ponits;\n",
        "For loosing - 0 Point\n",
        "For not result both team gets 1 points.\n",
        "\n",
        "Make dataframe which will have\n",
        "`TeamName` `MatchesPlayed` `MatchesWon` `NoResult` `Points`\n",
        "make `TeamName` as index.\n",
        "\n",
        "```\n",
        "season parametr should be one of these->\n",
        "['2022', '2021', '2020/21', '2019', '2018', '2017', '2016', '2015', '2014', '2013', '2012', '2011', '2009/10', '2009', '2007/08']\n",
        "```\n"
      ],
      "metadata": {
        "id": "NUolo2wRu_ex"
      }
    },
    {
      "cell_type": "markdown",
      "source": [
        "Output of two Top 2 in season 2022\n",
        "```\n",
        "TeamName    MatchesPlayed\tMatchesWon\tNoResult\tPoints\n",
        "\n",
        "Gujarat Titans\t    16\t   12\t       0\t     24\n",
        "Rajasthan Royals\t  17\t   10\t       0\t     20\n",
        "\n",
        "```"
      ],
      "metadata": {
        "id": "j4TSQq6fvFxO"
      }
    },
    {
      "cell_type": "code",
      "source": [
        "# code here"
      ],
      "metadata": {
        "id": "WdVcgEekvBv6"
      },
      "execution_count": null,
      "outputs": []
    },
    {
      "cell_type": "markdown",
      "source": [
        "###`Q-10:` IPL Point Table cont.\n",
        "Extend the above IPL Point Table with an extra column as `SeasonPosition`\n",
        "\n",
        "Team below top 4 after sorting on `Points` and then on `TeamName` Will have same `SeasonPosition` as there rank. use rank function.\n",
        "\n",
        "Teams in Top four will have `SeasonPosition` as:\n",
        "```\n",
        "    'Winner' - Team won final\n",
        "    'Runner' - Team lost Final\n",
        "    3 - Losing Team in Qualifier2\n",
        "    4 - Losing Team in Eliminator\n",
        "```\n",
        "\n",
        "For changing value of pariticular cell use `df.at[row_index, col_label] = value`\n",
        "\n",
        "Output of two Top 2 in season 2022. Your result should have all teams.\n",
        "```\n",
        "TeamName    MatchesPlayed\tMatchesWon\tNoResult\tPoints   SeasonPosition\n",
        "\n",
        "Gujarat Titans\t    16\t   12\t       0\t     24         Winner\n",
        "Rajasthan Royals\t  17\t   10\t       0\t     20         Runner\n",
        "\n",
        "```\n",
        "\n",
        "Note: If you try to chnage value of view of any dataframe a warnig will be shown. To avoid it, make a copy of the dataframe you want to change in by `df.copy()`"
      ],
      "metadata": {
        "id": "b7bf7YwqvIXj"
      }
    },
    {
      "cell_type": "code",
      "source": [
        "# code here"
      ],
      "metadata": {
        "id": "ugZsBQiAvI5V"
      },
      "execution_count": null,
      "outputs": []
    }
  ]
}