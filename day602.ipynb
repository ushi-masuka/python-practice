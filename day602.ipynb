{
  "cells": [
    {
      "cell_type": "markdown",
      "metadata": {
        "id": "h6dDSW5XGZFi"
      },
      "source": [
        "### **`Problem-1:`** Write a Python function that takes a list and returns a new list with unique elements of the first list.\n",
        "\n",
        "**Exercise 1:**\n",
        "\n",
        "Input:\n",
        "\n",
        "```bash\n",
        "[1,2,3,3,3,3,4,5]\n",
        "```\n",
        "\n",
        "Output:\n",
        "\n",
        "```bash\n",
        "[1, 2, 3, 4, 5]\n",
        "```"
      ]
    },
    {
      "cell_type": "code",
      "execution_count": 1,
      "metadata": {
        "id": "R5pq1C9LGe1y"
      },
      "outputs": [
        {
          "data": {
            "text/plain": [
              "[1, 2, 3, 5, 6, 7, 8, 45]"
            ]
          },
          "execution_count": 1,
          "metadata": {},
          "output_type": "execute_result"
        }
      ],
      "source": [
        "def unique(l: list):\n",
        "    ''' returns a new list with unique values \n",
        "    args:\n",
        "        l (list)\n",
        "    returns:\n",
        "        ul (list) '''\n",
        "    \n",
        "    ul = set(l)\n",
        "    ul=list(ul)\n",
        "    return ul\n",
        "\n",
        "l1=[1,2,3,1,2,3,45,5,2,7,8,6]\n",
        "unique(l1)"
      ]
    },
    {
      "cell_type": "markdown",
      "metadata": {
        "id": "UxQ_VoyJGwHj"
      },
      "source": [
        "### **`Problem-2:`** Write a Python function that accepts a hyphen-separated sequence of words as parameter and returns the words in a hyphen-separated sequence after sorting them alphabetically.\n",
        "\n",
        "**Example 1:**\n",
        "\n",
        "Input:\n",
        "```bash\n",
        "green-red-yellow-black-white\n",
        "```\n",
        "\n",
        "Output:\n",
        "```bash\n",
        "black-green-red-white-yellow\n",
        "```"
      ]
    },
    {
      "cell_type": "code",
      "execution_count": 6,
      "metadata": {
        "id": "AAts2m5zGwiQ"
      },
      "outputs": [
        {
          "data": {
            "text/plain": [
              "'a-b-c-d-i'"
            ]
          },
          "execution_count": 6,
          "metadata": {},
          "output_type": "execute_result"
        }
      ],
      "source": [
        "def hsep(hs: str):\n",
        "    hsl=hs.split(\"-\")\n",
        "    ss=sorted(hsl)\n",
        "    shs=\"-\".join(ss)\n",
        "    return shs\n",
        "\n",
        "hsep(\"i-a-b-d-c\")"
      ]
    },
    {
      "cell_type": "code",
      "execution_count": 2,
      "metadata": {},
      "outputs": [
        {
          "data": {
            "text/plain": [
              "['darrling', 'ha', 'lo', 'my']"
            ]
          },
          "execution_count": 2,
          "metadata": {},
          "output_type": "execute_result"
        }
      ],
      "source": [
        "hs=\"ha-lo-my-darrling\"\n",
        "sorted(hs.split(\"-\"))"
      ]
    },
    {
      "cell_type": "markdown",
      "metadata": {
        "id": "IRGH62S7Gx_n"
      },
      "source": [
        "### **`Problem 3:`** Write a Python function that accepts a string and calculate the number of upper case letters and lower case letters.\n",
        "\n",
        "```\n",
        "Sample String : 'CampusX is an Online Mentorship Program fOr EnginEering studentS.'\n",
        "Expected Output :\n",
        "No. of Upper case characters :  9\n",
        "No. of Lower case Characters :  47\n",
        "```"
      ]
    },
    {
      "cell_type": "code",
      "execution_count": 39,
      "metadata": {
        "id": "OaUrD8vVG5o8"
      },
      "outputs": [
        {
          "data": {
            "text/plain": [
              "'Upper case chars: 9 \\nLower case chars: 47'"
            ]
          },
          "execution_count": 39,
          "metadata": {},
          "output_type": "execute_result"
        }
      ],
      "source": [
        "def countchar(s: str):\n",
        "    up=0\n",
        "    lo=0\n",
        "    for i in s:\n",
        "        if i.isupper():\n",
        "            up+=1\n",
        "        if i.islower():\n",
        "            lo+=1\n",
        "        \n",
        "    return f\"Upper case chars: {up} \\nLower case chars: {lo}\"\n",
        "\n",
        "\n",
        "countchar(\"CampusX is an Online Mentorship Program fOr EnginEering studentS.\")\n",
        "\n"
      ]
    },
    {
      "cell_type": "markdown",
      "metadata": {
        "id": "V1BFFdYQG7Sn"
      },
      "source": [
        "### **`Problem 4:`** Write a Python program to print the even numbers from a given list.\n",
        "```\n",
        "Sample List : [1, 2, 3, 4, 5, 6, 7, 8, 9]\n",
        "Expected Result : [2, 4, 6, 8]\n",
        "```"
      ]
    },
    {
      "cell_type": "code",
      "execution_count": 9,
      "metadata": {
        "id": "VvAReLoDG_Z3"
      },
      "outputs": [
        {
          "data": {
            "text/plain": [
              "[2, 4, 6, 8]"
            ]
          },
          "execution_count": 9,
          "metadata": {},
          "output_type": "execute_result"
        }
      ],
      "source": [
        "def iseven(n: list):\n",
        "    en=[]\n",
        "    for i in n:\n",
        "        if i%2==0:\n",
        "            en.append(i)\n",
        "\n",
        "    return en\n",
        "\n",
        "iseven([1,2,3,4,5,6,7,8])"
      ]
    },
    {
      "cell_type": "markdown",
      "metadata": {
        "id": "qrK39Gn-HHb4"
      },
      "source": [
        "### **`Problem 5:`** Write a Python function to check whether a number is perfect or not.\n",
        "\n",
        "A Perfect number is a number that is half the sum of all of its positive divisors (including itself).\n",
        "\n",
        "Example :\n",
        "\n",
        "```\n",
        "The first perfect number is 6, because 1, 2, and 3 are its proper positive divisors, and 1 + 2 + 3 = 6.\n",
        "Equivalently, the number 6 is equal to half the sum of all its positive divisors: ( 1 + 2 + 3 + 6 ) / 2 = 6.\n",
        "\n",
        "The next perfect number is 28 = 1 + 2 + 4 + 7 + 14. This is followed by the perfect numbers 496 and 8128.\n",
        "```\n"
      ]
    },
    {
      "cell_type": "code",
      "execution_count": 13,
      "metadata": {
        "id": "P-OI7H78HICs"
      },
      "outputs": [
        {
          "data": {
            "text/plain": [
              "True"
            ]
          },
          "execution_count": 13,
          "metadata": {},
          "output_type": "execute_result"
        }
      ],
      "source": [
        "def PerNum(n: int):\n",
        "    divisors=[1]\n",
        "    for i in range(2,int(n**(1/2)+1)):\n",
        "        if n%i==0:\n",
        "            divisors.append(i)\n",
        "            if n/i!=i:\n",
        "                divisors.append(n/i)\n",
        "    sum=0\n",
        "    for i in divisors:\n",
        "        sum+=i\n",
        "    return sum==n\n",
        "\n",
        "PerNum(1)"
      ]
    },
    {
      "cell_type": "code",
      "execution_count": 24,
      "metadata": {},
      "outputs": [
        {
          "data": {
            "text/plain": [
              "True"
            ]
          },
          "execution_count": 24,
          "metadata": {},
          "output_type": "execute_result"
        }
      ],
      "source": [
        "PerNum(33550336)"
      ]
    },
    {
      "cell_type": "markdown",
      "metadata": {
        "id": "oZdpcG77HO-6"
      },
      "source": [
        "### **`Problem-6:`** Write a Python function to concatenate any no of dictionaries to create a new one.\n",
        "\n",
        "```\n",
        "Sample Dictionary :\n",
        "dic1={1:10, 2:20}\n",
        "dic2={3:30, 4:40}\n",
        "dic3={5:50,6:60}\n",
        "Expected Result : {1: 10, 2: 20, 3: 30, 4: 40, 5: 50, 6: 60}\n",
        "```"
      ]
    },
    {
      "cell_type": "code",
      "execution_count": 32,
      "metadata": {
        "id": "LQgfAY4ZHPhj"
      },
      "outputs": [
        {
          "data": {
            "text/plain": [
              "{1: 10, 2: 20, 3: 30, 4: 40, 5: 50, 6: 60}"
            ]
          },
          "execution_count": 32,
          "metadata": {},
          "output_type": "execute_result"
        }
      ],
      "source": [
        "def DicCon(*args: dict):\n",
        "    nd={}\n",
        "    for i in args:\n",
        "        for key,value in i.items():\n",
        "            nd[key]=value\n",
        "        \n",
        "    \n",
        "    return nd\n",
        "\n",
        "dic1={1:10, 2:20}\n",
        "dic2={3:30, 4:40}\n",
        "dic3={5:50,6:60}\n",
        "DicCon(dic1,dic2,dic3)\n"
      ]
    },
    {
      "cell_type": "markdown",
      "metadata": {
        "id": "jQ6SzbCkHRd0"
      },
      "source": [
        "`Problem-7` Write a python function that accepts a string as input and returns the word with most occurence.\n",
        "\n",
        "```\n",
        "Input:\n",
        "hello how are you i am fine thank you\n",
        "```\n",
        "\n",
        "```\n",
        "Output\n",
        "you -> 2\n",
        "```"
      ]
    },
    {
      "cell_type": "code",
      "execution_count": 37,
      "metadata": {
        "id": "Lh04JHLzIW7Z"
      },
      "outputs": [
        {
          "data": {
            "text/plain": [
              "'he-> 2'"
            ]
          },
          "execution_count": 37,
          "metadata": {},
          "output_type": "execute_result"
        }
      ],
      "source": [
        "def MaxCount(s: str):\n",
        "    sl=s.split()\n",
        "    mc=\"\"\n",
        "    cnt=0\n",
        "    for i in sl:\n",
        "        if sl.count(i)>cnt:\n",
        "            cnt=sl.count(i)\n",
        "            mc=i\n",
        "    \n",
        "    return f\"{mc}-> {cnt}\"\n",
        "\n",
        "MaxCount(\"Hi, I am good he he .\")\n",
        "\n"
      ]
    },
    {
      "cell_type": "markdown",
      "metadata": {
        "id": "1r8SpVntI-IW"
      },
      "source": [
        "`Problem-8` Write a python function that receives a list of integers and prints out a histogram of bin size 10\n",
        "\n",
        "```\n",
        "Input:\n",
        "[13,42,15,37,22,39,41,50]\n",
        "```\n",
        "\n",
        "```\n",
        "Output:\n",
        "{11-20:2,21-30:1,31-40:2,41-50:3}\n",
        "```"
      ]
    },
    {
      "cell_type": "code",
      "execution_count": 17,
      "metadata": {
        "id": "7W0J8rUjJovg"
      },
      "outputs": [],
      "source": [
        "def hist(n: list):\n",
        "    n=sorted(n)\n",
        "    lrange=((n[0])//10)*10\n",
        "    mrange=((n[-1])//10)*10 +10\n",
        "    keys=[f\"{i+1}-{i+10}\" for i in range(lrange, mrange, 10)]\n",
        "    outd=dict.fromkeys(keys,0)\n",
        "\n",
        "    for i in n:\n",
        "       k=((i-1)//10)*10 \n",
        "       outd[f\"{k+1}-{k+10}\"]+=1\n",
        "\n",
        "    return outd\n",
        "\n",
        "\n"
      ]
    },
    {
      "cell_type": "code",
      "execution_count": 18,
      "metadata": {},
      "outputs": [
        {
          "data": {
            "text/plain": [
              "{'1-10': 2, '11-20': 3, '21-30': 1, '31-40': 2, '41-50': 3, '51-60': 0}"
            ]
          },
          "execution_count": 18,
          "metadata": {},
          "output_type": "execute_result"
        }
      ],
      "source": [
        "hist([9,10,11,13,42,15,37,22,39,41,50])"
      ]
    },
    {
      "cell_type": "code",
      "execution_count": 11,
      "metadata": {},
      "outputs": [
        {
          "name": "stdout",
          "output_type": "stream",
          "text": [
            "['11-20', '21-30', '31-40', '41-50', '51-60']\n"
          ]
        }
      ],
      "source": [
        "lrange=((14)//10)*10\n",
        "mrange=((52)//10)*10 +10\n",
        "keys=[f\"{i+1}-{i+10}\" for i in range(lrange, mrange, 10)]\n",
        "print(keys)"
      ]
    },
    {
      "cell_type": "markdown",
      "metadata": {
        "id": "1P2-rbgXKE53"
      },
      "source": [
        "`Problem-9` Write a python function that accepts a list of 2D co-ordinates and a query point, and then finds the the co-ordinate which is closest in terms of distance from the query point.\n",
        "\n",
        "```\n",
        "List of Coordinates\n",
        "[(1,1),(2,2),(3,3),(4,4)]\n",
        "Query Point\n",
        "(0,0)\n",
        "```\n",
        "\n",
        "```\n",
        "Output\n",
        "Nearest to (0,0) is (1,1)\n",
        "```"
      ]
    },
    {
      "cell_type": "code",
      "execution_count": null,
      "metadata": {
        "id": "zjn7vSTIJ81G"
      },
      "outputs": [],
      "source": [
        "def closest(c: list,q: tuple):\n",
        "    mind=1000000000000000000000000000000000000000\n",
        "    closep=()\n",
        "    for i in c:\n",
        "        d=((i[0]-q[0])**2+(i[1]-q[1])**2) # **(1/2) removed for performance\n",
        "        if d<mind:\n",
        "            mind=d\n",
        "            closep=i\n",
        "\n",
        "    return f\"Nearest to {q} is {closep} , distance= {mind}\"\n",
        "\n",
        "\n"
      ]
    },
    {
      "cell_type": "code",
      "execution_count": 23,
      "metadata": {},
      "outputs": [
        {
          "data": {
            "text/plain": [
              "'Nearest to (3, 3) is (1, 2) , distance= 2.23606797749979'"
            ]
          },
          "execution_count": 23,
          "metadata": {},
          "output_type": "execute_result"
        }
      ],
      "source": [
        "closest([(1,1),(1,2),(2,1),(0,1)],(3,3))"
      ]
    },
    {
      "cell_type": "markdown",
      "metadata": {
        "id": "i-B6igmyK9hB"
      },
      "source": [
        "`Problem-10`:Write a python program that receives a list of strings and performs bag of word operation on those strings\n",
        "\n",
        "https://en.wikipedia.org/wiki/Bag-of-words_model"
      ]
    },
    {
      "cell_type": "code",
      "execution_count": 26,
      "metadata": {
        "id": "N2l1_AWULT-z"
      },
      "outputs": [],
      "source": [
        "def bow(l: list):\n",
        "    allwords=[word for i in l for word in i.split()]\n",
        "    outd={key:allwords.count(key) for key in set(allwords) }\n",
        "\n",
        "    return outd"
      ]
    },
    {
      "cell_type": "code",
      "execution_count": 27,
      "metadata": {},
      "outputs": [
        {
          "data": {
            "text/plain": [
              "{'like': 1, 'this': 1, 'hello': 2, 'man': 1, 'I': 2}"
            ]
          },
          "execution_count": 27,
          "metadata": {},
          "output_type": "execute_result"
        }
      ],
      "source": [
        "bow([\"hello I\",\"hello man\",\"I like this\"])\n"
      ]
    },
    {
      "cell_type": "markdown",
      "metadata": {
        "id": "dHTRKb-DqMLw"
      },
      "source": [
        "###`Problem 11:` Write a Python program to add three given lists using Python map and lambda."
      ]
    },
    {
      "cell_type": "code",
      "execution_count": 32,
      "metadata": {
        "id": "NfJdzyNZqNW-"
      },
      "outputs": [
        {
          "data": {
            "text/plain": [
              "[6, 9, 12]"
            ]
          },
          "execution_count": 32,
          "metadata": {},
          "output_type": "execute_result"
        }
      ],
      "source": [
        "l1=[1,2,3]\n",
        "l2=[2,3,4]\n",
        "l3=[3,4,5]\n",
        "\n",
        "list(map((lambda a,b,c:a+b+c), l1,l2,l3))"
      ]
    },
    {
      "cell_type": "markdown",
      "metadata": {
        "id": "MgHP7mbUqO8l"
      },
      "source": [
        "###`Problem-12:`Write a Python program to create a list containing the power of said number in bases raised to the corresponding number in the index using Python map.\n",
        "`Input:`\n",
        "```\n",
        "list1 = [1,2,3,4,5,6]\n",
        "```\n",
        "`Output:`\n",
        "```\n",
        "[1,2,9,64,625,-]\n",
        "```\n"
      ]
    },
    {
      "cell_type": "code",
      "execution_count": 38,
      "metadata": {
        "id": "gG3Dc6N3qbvN"
      },
      "outputs": [
        {
          "data": {
            "text/plain": [
              "[1, 2, 9, 64, 625, 7776]"
            ]
          },
          "execution_count": 38,
          "metadata": {},
          "output_type": "execute_result"
        }
      ],
      "source": [
        "l=[1,2,3,4,5,6]\n",
        "list(map(lambda a,i: a**i,l,range(len(l))))"
      ]
    },
    {
      "cell_type": "markdown",
      "metadata": {
        "id": "G26SYq6vqdLN"
      },
      "source": [
        "###`Problem-13` Using filter() and list() functions and .lower() method filter all the vowels in a given string.\n",
        "\n"
      ]
    },
    {
      "cell_type": "code",
      "execution_count": 6,
      "metadata": {
        "id": "zurga3DIqmEx"
      },
      "outputs": [
        {
          "data": {
            "text/plain": [
              "['e', 'o', 'a', 'I', 'u', 'o', 'e', 'O', 'I', 'o']"
            ]
          },
          "execution_count": 6,
          "metadata": {},
          "output_type": "execute_result"
        }
      ],
      "source": [
        "list(filter((lambda s:s.lower() in \"aeiou\"), \"hello man I just love HOW thIs works\" ))"
      ]
    },
    {
      "cell_type": "markdown",
      "metadata": {
        "id": "uQrsunZSqoYu"
      },
      "source": [
        "`Problem-14`: Use reduce to convert a 2D list to 1D"
      ]
    },
    {
      "cell_type": "code",
      "execution_count": 24,
      "metadata": {
        "id": "E1YUwnfgqnka"
      },
      "outputs": [
        {
          "data": {
            "text/plain": [
              "[0, 1, 2, 3, 4, 5, 6, 7]"
            ]
          },
          "execution_count": 24,
          "metadata": {},
          "output_type": "execute_result"
        }
      ],
      "source": [
        "import functools as ft\n",
        "\n",
        "ft.reduce(lambda x,y:x+y,[[0],[1,2],[3,4],[5,6],[7]])"
      ]
    },
    {
      "cell_type": "markdown",
      "metadata": {
        "id": "8-DLQEawt-_t"
      },
      "source": [
        "`Problem 15`- A dictionary contains following information about 5 employees:\n",
        "- First name\n",
        "- Last name\n",
        "- Age\n",
        "- Grade(Skilled,Semi-skilled,Highly skilled)<br>\n",
        "Write a program using map/filter/reduce to a list of employees(first name + last name) who are highly skilled"
      ]
    },
    {
      "cell_type": "code",
      "execution_count": null,
      "metadata": {
        "id": "OLvptttLs6OU"
      },
      "outputs": [],
      "source": [
        "# Write code here\n",
        "employees = [\n",
        "    {\n",
        "        'fname':'Nitish',\n",
        "        'lname':'Singh',\n",
        "        'age' : 33,\n",
        "        'grade':'skilled'\n",
        "    },\n",
        "    {\n",
        "        'fname':'Ankit',\n",
        "        'lname':'Verma',\n",
        "        'age' : 34,\n",
        "        'grade':'semi-skilled'\n",
        "    },\n",
        "    {\n",
        "        'fname':'Neha',\n",
        "        'lname':'Singh',\n",
        "        'age' : 35,\n",
        "        'grade':'highly-skilled'\n",
        "    },\n",
        "    {\n",
        "        'fname':'Anurag',\n",
        "        'lname':'Kumar',\n",
        "        'age' : 30,\n",
        "        'grade':'skilled'\n",
        "    },\n",
        "    {\n",
        "        'fname':'Abhinav',\n",
        "        'lname':'Sharma',\n",
        "        'age' : 37,\n",
        "        'grade':'highly-skilled'\n",
        "    }\n",
        "\n",
        "]"
      ]
    },
    {
      "cell_type": "code",
      "execution_count": 33,
      "metadata": {},
      "outputs": [
        {
          "data": {
            "text/plain": [
              "['Neha Singh', 'Abhinav Sharma']"
            ]
          },
          "execution_count": 33,
          "metadata": {},
          "output_type": "execute_result"
        }
      ],
      "source": [
        "employees=[\n",
        "    {\n",
        "        'fname':'Nitish',\n",
        "        'lname':'Singh',\n",
        "        'age' : 33,\n",
        "        'grade':'skilled'\n",
        "    },\n",
        "    {\n",
        "        'fname':'Ankit',\n",
        "        'lname':'Verma',\n",
        "        'age' : 34,\n",
        "        'grade':'semi-skilled'\n",
        "    },\n",
        "    {\n",
        "        'fname':'Neha',\n",
        "        'lname':'Singh',\n",
        "        'age' : 35,\n",
        "        'grade':'highly-skilled'\n",
        "    },\n",
        "    {\n",
        "        'fname':'Anurag',\n",
        "        'lname':'Kumar',\n",
        "        'age' : 30,\n",
        "        'grade':'skilled'\n",
        "    },\n",
        "    {\n",
        "        'fname':'Abhinav',\n",
        "        'lname':'Sharma',\n",
        "        'age' : 37,\n",
        "        'grade':'highly-skilled'\n",
        "    }\n",
        "\n",
        "]\n",
        "filtered=list(filter(lambda l:l[\"grade\"]=='highly-skilled',employees))\n",
        "list(map(lambda x:x['fname']+\" \"+x[\"lname\"],filtered))\n"
      ]
    },
    {
      "cell_type": "code",
      "execution_count": 5,
      "metadata": {},
      "outputs": [
        {
          "name": "stdout",
          "output_type": "stream",
          "text": [
            "100\n",
            "200\n"
          ]
        }
      ],
      "source": [
        "class a:\n",
        "\n",
        "    def __init__(self):\n",
        "        self.var=100\n",
        "\n",
        "    def display(self,var):\n",
        "        print(self.var)\n",
        "\n",
        "    def display1(self,var):\n",
        "        print(var)\n",
        "\n",
        "\n",
        "obj=a()\n",
        "obj.display(200)\n",
        "obj.display1(200)"
      ]
    },
    {
      "cell_type": "code",
      "execution_count": null,
      "metadata": {},
      "outputs": [],
      "source": []
    }
  ],
  "metadata": {
    "colab": {
      "provenance": []
    },
    "kernelspec": {
      "display_name": ".venv (3.13.5)",
      "language": "python",
      "name": "python3"
    },
    "language_info": {
      "codemirror_mode": {
        "name": "ipython",
        "version": 3
      },
      "file_extension": ".py",
      "mimetype": "text/x-python",
      "name": "python",
      "nbconvert_exporter": "python",
      "pygments_lexer": "ipython3",
      "version": "3.13.5"
    }
  },
  "nbformat": 4,
  "nbformat_minor": 0
}
