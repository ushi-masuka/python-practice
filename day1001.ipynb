{
  "cells": [
    {
      "cell_type": "markdown",
      "metadata": {
        "id": "MbeMdx5d5qRj"
      },
      "source": [
        "### `Q-1:` Write a function `get_final_line(filename)`, which takes filename as input and return final line of the file.\n",
        "\n",
        "Note: You can choose any file of your choice."
      ]
    },
    {
      "cell_type": "code",
      "execution_count": 3,
      "metadata": {
        "id": "rjx9XRTq5uzD"
      },
      "outputs": [],
      "source": [
        "def get_file_line(filename):\n",
        "    with open(filename) as f:\n",
        "        a=\"\"\n",
        "        for i in f:\n",
        "            a=i\n",
        "\n",
        "    return a.strip()\n"
      ]
    },
    {
      "cell_type": "code",
      "execution_count": 4,
      "metadata": {},
      "outputs": [
        {
          "data": {
            "text/plain": [
              "'`Q12:` Take the `ColumnTransformer` from the previous question and integrate it into a `Pipeline` that also includes a `StandardScaler` step and a final `SVC` (Support Vector Classifier) model. Train this single pipeline on your data. Why is using a `Pipeline` the preferred way to structure a full machine learning workflow?'"
            ]
          },
          "execution_count": 4,
          "metadata": {},
          "output_type": "execute_result"
        }
      ],
      "source": [
        "get_file_line(\"plan for scikit learn.txt\")"
      ]
    },
    {
      "cell_type": "code",
      "execution_count": 6,
      "metadata": {},
      "outputs": [
        {
          "name": "stdout",
          "output_type": "stream",
          "text": [
            "`Q12:` Take the `ColumnTransformer` from the previous question and integrate it into a `Pipeline` that also includes a `StandardScaler` step and a final `SVC` (Support Vector Classifier) model. Train this single pipeline on your data. Why is using a `Pipeline` the preferred way to structure a full machine learning workflow?\n"
          ]
        }
      ],
      "source": [
        "with open(\"plan for scikit learn.txt\", 'rb') as f:\n",
        "    f.seek(-2, 2)  # go to 2 bytes before the end of the file\n",
        "    while f.read(1) != b'\\n':\n",
        "        f.seek(-2, 1)\n",
        "    last_line = f.readline().decode()\n",
        "\n",
        "print (last_line)"
      ]
    },
    {
      "cell_type": "markdown",
      "metadata": {
        "id": "B87Z6-yQ5wVO"
      },
      "source": [
        "###`Q-2:` Read through a text file, line by line. Use a dict to keep track of how many times each vowel (a, e, i, o, and u) appears in the file. Print the resulting tabulation -- dictionary."
      ]
    },
    {
      "cell_type": "code",
      "execution_count": null,
      "metadata": {
        "id": "XeXnOL7X50Sa"
      },
      "outputs": [],
      "source": [
        "def vowelCount(filename):\n",
        "    vldict={\"a\":0,\"e\":0,\"i\":0,\"o\":0,\"u\":0}\n",
        "    vudict={\"A\":0,\"E\":0,\"I\":0,\"O\":0,\"U\":0}\n",
        "    \n",
        "    with open(filename) as f:\n",
        "        for i in f:\n",
        "            for j in i:\n",
        "                if j in \"aeiouAEIOU\":\n",
        "                    if j.isupper():\n",
        "                        vudict[j]+=1\n",
        "                    if j.islower():\n",
        "                        vldict[j]+=1\n",
        "\n",
        "\n",
        "\n",
        "    return vldict,vudict"
      ]
    },
    {
      "cell_type": "code",
      "execution_count": 12,
      "metadata": {},
      "outputs": [
        {
          "data": {
            "text/plain": [
              "({'a': 1, 'e': 2, 'i': 0, 'o': 1, 'u': 1},\n",
              " {'A': 2, 'E': 0, 'I': 0, 'O': 2, 'U': 2})"
            ]
          },
          "execution_count": 12,
          "metadata": {},
          "output_type": "execute_result"
        }
      ],
      "source": [
        "vowelCount(\"abc.txt\")"
      ]
    },
    {
      "cell_type": "markdown",
      "metadata": {
        "id": "lRqQ2Y295-Gg"
      },
      "source": [
        "###`Q-3:` Create a text file (using an editor, not necessarily Python) containing two tab separated columns, with each column containing a number. Then use Python to read through the file you’ve created. For each line, multiply each first number by the second and include it in the file in third column. In last add a line Total, by summing the value of third column\n",
        "\n"
      ]
    },
    {
      "cell_type": "markdown",
      "metadata": {
        "id": "GtFfahZc6Bvg"
      },
      "source": [
        "Input File example: That you need to create\n",
        "```\n",
        "1   2\n",
        "3   4\n",
        "5   6\n",
        "7   8\n",
        "9   10\n",
        "\n",
        "```\n",
        "\n",
        "Output File Example:\n",
        "```\n",
        "1   2   2\n",
        "3   4   12\n",
        "5   6   30\n",
        "7   8   56\n",
        "9   10  90\n",
        "Total   190\n",
        "```\n"
      ]
    },
    {
      "cell_type": "code",
      "execution_count": 27,
      "metadata": {},
      "outputs": [],
      "source": [
        "with open(\"q3.txt\",\"w\") as f:\n",
        "    f.write(\"1\\t2\\n3\\t4\\n5\\t6\\n7\\t8\\n9\\t10\")"
      ]
    },
    {
      "cell_type": "code",
      "execution_count": null,
      "metadata": {},
      "outputs": [],
      "source": [
        "with open(\"day10q3.txt\",\"r+\") as f:\n",
        "    lines=f.readlines()\n",
        "    f.seek(0)\n",
        "    f.truncate()\n",
        "    total=0\n",
        "    for line in lines:\n",
        "        a,b=line.strip().split(\"\\t\")\n",
        "        total+=int(a)*int(b)\n",
        "        f.write(f'{a}\\t{b}\\t{int(a)*int(b)}\\n')\n",
        "\n",
        "    f.write(f\"total\\t{total}\")\n",
        "\n",
        "    \n"
      ]
    },
    {
      "cell_type": "markdown",
      "metadata": {
        "id": "DunQepHC6J9r"
      },
      "source": [
        "###`Q-4:` Create line wise reverse of a file\n",
        "Write a function which takes two arguments: the names of the input file (to be read from) and the output file (which will be created)."
      ]
    },
    {
      "cell_type": "markdown",
      "metadata": {
        "id": "QxWEtFle6Nmu"
      },
      "source": [
        "For example, if a file looks like\n",
        " ```\n",
        "abc def\n",
        "ghi jkl\n",
        "```\n",
        "then the output file will be\n",
        "```\n",
        "fed cba\n",
        "lkj ihg\n",
        "```\n",
        "**Notice**: The newline remains at the end of the string, while the rest of the characters are all reversed."
      ]
    },
    {
      "cell_type": "code",
      "execution_count": 34,
      "metadata": {
        "id": "aIJTJNAq6LD7"
      },
      "outputs": [],
      "source": [
        "def rev(input,output):\n",
        "    with open(input,\"r\") as f:\n",
        "        lines=f.readlines()\n",
        "    with open(output,\"w\") as f:\n",
        "        for line in lines:\n",
        "            f.write(line[::-1])"
      ]
    },
    {
      "cell_type": "code",
      "execution_count": 35,
      "metadata": {},
      "outputs": [],
      "source": [
        "rev(\"day10q4.txt\",\"day10q4rev.txt\")"
      ]
    },
    {
      "cell_type": "markdown",
      "metadata": {
        "id": "wqvx3sMY6bou"
      },
      "source": [
        "###`Q-5:` Create a Serialized dict of frequency of words in the file. And from given list of words, using serialized dict show word count.\n",
        "\n",
        "* List of word will be given\n",
        "\n"
      ]
    },
    {
      "cell_type": "markdown",
      "metadata": {
        "id": "uc5MSUWg6cZG"
      },
      "source": [
        "Given String\n",
        "\n",
        "```\n",
        "strings = \"\"\"Alice was beginning to get very tired of sitting by her sister\n",
        "            on the bank, and of having nothing to do:  once or twice she had\n",
        "            peeped into the book her sister was reading, but it had no\n",
        "            pictures or conversations in it, `and what is the use of a book,'\n",
        "            thought Alice `without pictures or conversation?'\n",
        "\n",
        "            So she was considering in her own mind (as well as she could,\n",
        "            for the hot day made her feel very sleepy and stupid), whether\n",
        "            the pleasure of making a daisy-chain would be worth the trouble\n",
        "            of getting up and picking the daisies, when suddenly a White\n",
        "            Rabbit with pink eyes ran close by her.\n",
        "\n",
        "            There was nothing so VERY remarkable in that; nor did Alice\n",
        "            think it so VERY much out of the way to hear the Rabbit say to\n",
        "            itself, `Oh dear!  Oh dear!  I shall be late!'  (when she thought\n",
        "            it over afterwards, it occurred to her that she ought to have\n",
        "            wondered at this, but at the time it all seemed quite natural);\n",
        "            but when the Rabbit actually TOOK A WATCH OUT OF ITS WAISTCOAT-\n",
        "            POCKET, and looked at it, and then hurried on, Alice started to\n",
        "            her feet, for it flashed across her mind that she had never\n",
        "            before seen a rabbit with either a waistcoat-pocket, or a watch to\n",
        "            take out of it, and burning with curiosity, she ran across the\n",
        "            field after it, and fortunately was just in time to see it pop\n",
        "            down a large rabbit-hole under the hedge.\"\"\"\n",
        "\n",
        "word_list = ['alice', 'wonder', 'natural']\n",
        "```"
      ]
    },
    {
      "cell_type": "code",
      "execution_count": 36,
      "metadata": {},
      "outputs": [],
      "source": [
        "strings = \"\"\"Alice was beginning to get very tired of sitting by her sister\n",
        "            on the bank, and of having nothing to do:  once or twice she had\n",
        "            peeped into the book her sister was reading, but it had no\n",
        "            pictures or conversations in it, `and what is the use of a book,'\n",
        "            thought Alice `without pictures or conversation?'\n",
        "\n",
        "            So she was considering in her own mind (as well as she could,\n",
        "            for the hot day made her feel very sleepy and stupid), whether\n",
        "            the pleasure of making a daisy-chain would be worth the trouble\n",
        "            of getting up and picking the daisies, when suddenly a White\n",
        "            Rabbit with pink eyes ran close by her.\n",
        "\n",
        "            There was nothing so VERY remarkable in that; nor did Alice\n",
        "            think it so VERY much out of the way to hear the Rabbit say to\n",
        "            itself, `Oh dear!  Oh dear!  I shall be late!'  (when she thought\n",
        "            it over afterwards, it occurred to her that she ought to have\n",
        "            wondered at this, but at the time it all seemed quite natural);\n",
        "            but when the Rabbit actually TOOK A WATCH OUT OF ITS WAISTCOAT-\n",
        "            POCKET, and looked at it, and then hurried on, Alice started to\n",
        "            her feet, for it flashed across her mind that she had never\n",
        "            before seen a rabbit with either a waistcoat-pocket, or a watch to\n",
        "            take out of it, and burning with curiosity, she ran across the\n",
        "            field after it, and fortunately was just in time to see it pop\n",
        "            down a large rabbit-hole under the hedge.\"\"\""
      ]
    },
    {
      "cell_type": "code",
      "execution_count": 64,
      "metadata": {
        "id": "-SmtFFUq6a70"
      },
      "outputs": [],
      "source": [
        "import json\n",
        "import re\n",
        "\n",
        "def bow(s: str):\n",
        "    cleaned=re.sub(r\"[^a-zA-Z0-P\\s]\",\" \",s)\n",
        "    allwords=cleaned.lower().split()\n",
        "    outd={key:allwords.count(key) for key in set(allwords) }\n",
        "\n",
        "    return outd\n",
        "\n",
        "with open(\"day10q5s.txt\",\"w\") as f:\n",
        "    f.write(strings) "
      ]
    },
    {
      "cell_type": "code",
      "execution_count": 65,
      "metadata": {},
      "outputs": [
        {
          "data": {
            "text/plain": [
              "{'working': 1,\n",
              " 'python': 1,\n",
              " 'man': 2,\n",
              " 'this': 1,\n",
              " 'with': 1,\n",
              " 'love': 2,\n",
              " 'hello': 1,\n",
              " 'i': 2}"
            ]
          },
          "execution_count": 65,
          "metadata": {},
          "output_type": "execute_result"
        }
      ],
      "source": [
        "bow(\"hello man I love this I love working with python man\")"
      ]
    },
    {
      "cell_type": "code",
      "execution_count": 66,
      "metadata": {},
      "outputs": [],
      "source": [
        "with open(\"day10q5s.txt\",\"r\") as f:\n",
        "    text=f.read()\n",
        "with open(\"day10q5bow.json\",\"w\") as f:\n",
        "    json.dump(bow(text),f,indent=4)"
      ]
    },
    {
      "cell_type": "code",
      "execution_count": 67,
      "metadata": {},
      "outputs": [
        {
          "name": "stdout",
          "output_type": "stream",
          "text": [
            "4\n",
            "1\n",
            "1\n"
          ]
        }
      ],
      "source": [
        "with open(\"day10q5bow.json\",\"r\") as f:\n",
        "    sd=json.load(f)\n",
        "\n",
        "word_list=['alice', 'wondered', 'natural']\n",
        "for word in word_list:\n",
        "    print(sd[word])"
      ]
    },
    {
      "cell_type": "markdown",
      "metadata": {
        "id": "Und2HuFW6kAw"
      },
      "source": [
        "### **`Q-6:`** Given a string calculate length of the string using recursion.\n",
        "\n",
        "**Example 1:**\n",
        "\n",
        "Input:\n",
        "```bash\n",
        "\"abcd\"\n",
        "```\n",
        "\n",
        "Output:\n",
        "\n",
        "```bash\n",
        "4\n",
        "```\n",
        "\n",
        "**Example 2:**\n",
        "\n",
        "Input:\n",
        "```bash\n",
        "DataScience\n",
        "```\n",
        "\n",
        "Output:\n",
        "\n",
        "```bash\n",
        "11\n",
        "```\n"
      ]
    },
    {
      "cell_type": "code",
      "execution_count": 73,
      "metadata": {
        "id": "9HE7lB5W61gT"
      },
      "outputs": [],
      "source": [
        "def lenrec(s: str):\n",
        "    if s==\"\":\n",
        "        return 0\n",
        "    else:\n",
        "        return 1+(len(s[1:]))"
      ]
    },
    {
      "cell_type": "code",
      "execution_count": 74,
      "metadata": {},
      "outputs": [
        {
          "data": {
            "text/plain": [
              "4"
            ]
          },
          "execution_count": 74,
          "metadata": {},
          "output_type": "execute_result"
        }
      ],
      "source": [
        "lenrec(\"abcd\")"
      ]
    },
    {
      "cell_type": "markdown",
      "metadata": {
        "id": "iUDvc-jl6759"
      },
      "source": [
        "### **`Q-7:`** Write a function that accepts two numbers and returns their greatest common divisior. Without using any loop\n",
        "\n",
        "def gcd(int, int) => int\n",
        "\n",
        "```\n",
        "gcd(16,24) will give 8\n",
        "```"
      ]
    },
    {
      "cell_type": "code",
      "execution_count": 80,
      "metadata": {
        "id": "uMQnojHR7O2S"
      },
      "outputs": [],
      "source": [
        "def gcd(a,b):\n",
        "    a,b=max(a,b),min(a,b)\n",
        "    rem=a%b\n",
        "    if rem==0:\n",
        "        return b\n",
        "    else:\n",
        "        return gcd(b,rem)\n"
      ]
    },
    {
      "cell_type": "code",
      "execution_count": 87,
      "metadata": {},
      "outputs": [],
      "source": [
        "def gcdNoSwap(a,b):\n",
        "    if b==0:\n",
        "        return a\n",
        "    else:\n",
        "        return gcd(b,a%b)"
      ]
    },
    {
      "cell_type": "code",
      "execution_count": 91,
      "metadata": {},
      "outputs": [
        {
          "data": {
            "text/plain": [
              "2"
            ]
          },
          "execution_count": 91,
          "metadata": {},
          "output_type": "execute_result"
        }
      ],
      "source": [
        "gcdNoSwap(18,20)"
      ]
    },
    {
      "cell_type": "code",
      "execution_count": 86,
      "metadata": {},
      "outputs": [
        {
          "data": {
            "text/plain": [
              "6"
            ]
          },
          "execution_count": 86,
          "metadata": {},
          "output_type": "execute_result"
        }
      ],
      "source": [
        "gcd(30,36)"
      ]
    },
    {
      "cell_type": "code",
      "execution_count": 84,
      "metadata": {},
      "outputs": [
        {
          "data": {
            "text/plain": [
              "8"
            ]
          },
          "execution_count": 84,
          "metadata": {},
          "output_type": "execute_result"
        }
      ],
      "source": [
        "gcd(8,80)"
      ]
    },
    {
      "cell_type": "code",
      "execution_count": 81,
      "metadata": {},
      "outputs": [
        {
          "data": {
            "text/plain": [
              "8"
            ]
          },
          "execution_count": 81,
          "metadata": {},
          "output_type": "execute_result"
        }
      ],
      "source": [
        "gcd(16,24)"
      ]
    },
    {
      "cell_type": "markdown",
      "metadata": {
        "id": "wFD35fva7Q_B"
      },
      "source": [
        " ### `Q-8:` String Edit Distance\n",
        "\n",
        " Use your recursive function to write a program that reads two strings from the\n",
        "user and displays the edit distance between them.\n",
        "\n",
        "*The edit distance between two strings is a measure of their similarity—the smaller the edit distance, the more similar the strings are with regard to the minimum number of insert, delete and substitute operations needed to transform one string into the other.*\n",
        "\n",
        "Consider the strings `kitten` and `sitting`. The first string can be transformed\n",
        "into the second string with the following operations:\n",
        "* Substitute the `k` with an `s`,\n",
        "* substitute the `e` with an `i`,\n",
        "* and insert a `g` at the end of the string.\n",
        "\n",
        "This is the smallest number of operations that can be performed to transform kitten into sitting. As a result, the edit distance is `3`.\n",
        "\n",
        "\n",
        "Write a recursive function that computes the edit distance between two strings.\n",
        "\n",
        "Use the following algorithm:\n",
        "\n",
        "```\n",
        "Let s and t be the strings\n",
        "    If the length of s is 0 then\n",
        "        Return the length of t\n",
        "    Else if the length of t is 0 then\n",
        "        Return the length of s\n",
        "    Else\n",
        "        Set cost to 0\n",
        "        If the last character in s does not equal the last character in t then\n",
        "            Set cost to 1\n",
        "        Set d1 equal to the edit distance between all characters except the last one in s, and all characters in t, plus 1\n",
        "        Set d2 equal to the edit distance between all characters in s, and all characters except the last one in t, plus 1\n",
        "\n",
        "        Set d3 equal to the edit distance between all characters except the last one in s, and all characters except the last one in t, plus cost\n",
        "        Return the minimum of d1, d2 and d3\n",
        "```\n",
        "\n",
        "\n",
        "\n"
      ]
    },
    {
      "cell_type": "code",
      "execution_count": 4,
      "metadata": {
        "id": "zlNy_Q987QOX"
      },
      "outputs": [],
      "source": [
        "def editDist(s,t):\n",
        "    if len(s)==0:\n",
        "        return len(t)\n",
        "    elif len(t)==0:\n",
        "        return len(s)\n",
        "    else: \n",
        "        cost=0\n",
        "        if s[-1]!=t[-1]:\n",
        "            cost=1\n",
        "        d1=editDist(s[:-1],t)+1\n",
        "        d2=editDist(s,t[:-1])+1\n",
        "        d3=editDist(s[:-1],t[:-1]) + cost\n",
        "        return min(d1,d2,d3)\n",
        "\n",
        "    \n"
      ]
    },
    {
      "cell_type": "code",
      "execution_count": 5,
      "metadata": {},
      "outputs": [
        {
          "data": {
            "text/plain": [
              "3"
            ]
          },
          "execution_count": 5,
          "metadata": {},
          "output_type": "execute_result"
        }
      ],
      "source": [
        "editDist(\"kitten\",\"sitting\")"
      ]
    },
    {
      "cell_type": "code",
      "execution_count": 1,
      "metadata": {},
      "outputs": [],
      "source": [
        "def editDistmem(s, t):\n",
        "    memo = {}  # dictionary to remember solved subproblems\n",
        "\n",
        "    def helper(i, j):\n",
        "        # i and j are indices in s and t\n",
        "        if i == -1:\n",
        "            return j + 1        # need to insert remaining j+1 chars of t\n",
        "        if j == -1:\n",
        "            return i + 1        # need to delete remaining i+1 chars of s\n",
        "\n",
        "        if (i, j) in memo:\n",
        "            return memo[(i, j)]  # already solved\n",
        "\n",
        "        cost = 0 if s[i] == t[j] else 1\n",
        "\n",
        "        # Solve the three possibilities\n",
        "        delete = helper(i - 1, j) + 1\n",
        "        insert = helper(i, j - 1) + 1\n",
        "        substitute = helper(i - 1, j - 1) + cost\n",
        "\n",
        "        ans = min(delete, insert, substitute)\n",
        "        memo[(i, j)] = ans  # store the result\n",
        "        return ans\n",
        "\n",
        "    return helper(len(s)-1, len(t)-1)\n"
      ]
    },
    {
      "cell_type": "code",
      "execution_count": 2,
      "metadata": {},
      "outputs": [
        {
          "data": {
            "text/plain": [
              "18"
            ]
          },
          "execution_count": 2,
          "metadata": {},
          "output_type": "execute_result"
        }
      ],
      "source": [
        "editDistmem(\"kittenkittenkittenkittenkittenkitten\",\"sittingsittingsittingsittingsittingsitting\")"
      ]
    },
    {
      "cell_type": "code",
      "execution_count": 104,
      "metadata": {},
      "outputs": [
        {
          "ename": "",
          "evalue": "",
          "output_type": "error",
          "traceback": [
            "\u001b[1;31mThe Kernel crashed while executing code in the current cell or a previous cell. \n",
            "\u001b[1;31mPlease review the code in the cell(s) to identify a possible cause of the failure. \n",
            "\u001b[1;31mClick <a href='https://aka.ms/vscodeJupyterKernelCrash'>here</a> for more info. \n",
            "\u001b[1;31mView Jupyter <a href='command:jupyter.viewOutput'>log</a> for further details."
          ]
        }
      ],
      "source": [
        "editDist(\"kittenkittenkittenkittenkittenkitten\",\"sittingsittingsittingsittingsittingsitting\")"
      ]
    },
    {
      "cell_type": "markdown",
      "metadata": {
        "id": "Hc9e-qES7iAK"
      },
      "source": [
        "###`Q-9:` Run-Length Encoding\n",
        "\n",
        "Run-length encoding is a simple data compression technique that can be effective when repeated values occur at adjacent positions within a list. Compression is achieved by replacing groups of repeated values with one copy of the value, followed by the number of times that the value should be repeated. For example, the list\n",
        "```\n",
        "[\"A\", \"A\", \"A\", \"A\", \"A\", \"A\", \"A\", \"A\", \"A\", \"A\", \"A\", \"A\", \"B\", \"B\", \"B\", \"B\", \"A\", \"A\", \"A\", \"A\", \"A\", \"A\", \"B\"]\n",
        "```\n",
        "would be compressed as `[\"A\", 12, \"B\", 4, \"A\", 6, \"B\", 1]`.\n",
        "\n",
        "Write a recursive function that implements the run-length compression technique\n",
        "described above. Your function will take a list or a string as its only parameter. It should return the run-length compressed list as its only result. Include a main program that reads a string from the user, compresses it, and displays the run-length encoded result."
      ]
    },
    {
      "cell_type": "code",
      "execution_count": 30,
      "metadata": {
        "id": "W2Wb_WzP7qM1"
      },
      "outputs": [],
      "source": [
        "def runLen(s):\n",
        "    if len(s)==0:\n",
        "        return list([])\n",
        "    else:\n",
        "        f=s[0]\n",
        "        count=0\n",
        "        for i in s:\n",
        "            if i==f:\n",
        "                count+=1\n",
        "            else:\n",
        "                break\n",
        "\n",
        "        return [f,count]+runLen(s[count:])\n",
        "            "
      ]
    },
    {
      "cell_type": "code",
      "execution_count": 34,
      "metadata": {},
      "outputs": [
        {
          "name": "stdout",
          "output_type": "stream",
          "text": [
            "abcaaabbbccc\n",
            "['a', 1, 'b', 1, 'c', 1, 'a', 3, 'b', 3, 'c', 3]\n"
          ]
        }
      ],
      "source": [
        "s=str(input(\"please enter a string\"))\n",
        "print(s)\n",
        "print(runLen(s))"
      ]
    },
    {
      "cell_type": "markdown",
      "metadata": {
        "id": "x6A-4vGC8SLs"
      },
      "source": [
        "###`Q-10:` Write a recursive function to convert a decimal to binary"
      ]
    },
    {
      "cell_type": "code",
      "execution_count": 45,
      "metadata": {
        "id": "izOr6D9V8aME"
      },
      "outputs": [],
      "source": [
        "def bin(n: int):\n",
        "    if n<0:\n",
        "        return \"-\" + bin(-n)\n",
        "    if n==1:\n",
        "        return \"1\"\n",
        "    if n==0:\n",
        "        return \"0\"\n",
        "    else:\n",
        "        return bin(n//2) + str(n%2)"
      ]
    },
    {
      "cell_type": "code",
      "execution_count": 44,
      "metadata": {},
      "outputs": [
        {
          "name": "stdout",
          "output_type": "stream",
          "text": [
            "10\n",
            "11\n",
            "100\n",
            "101\n",
            "10010\n",
            "11111\n"
          ]
        }
      ],
      "source": [
        "print(bin(2))\n",
        "print(bin(3))\n",
        "print(bin(4))\n",
        "print(bin(5))\n",
        "print(bin(18))\n",
        "print(bin(31))"
      ]
    },
    {
      "cell_type": "code",
      "execution_count": null,
      "metadata": {},
      "outputs": [],
      "source": []
    }
  ],
  "metadata": {
    "colab": {
      "provenance": []
    },
    "kernelspec": {
      "display_name": ".venv (3.13.5)",
      "language": "python",
      "name": "python3"
    },
    "language_info": {
      "codemirror_mode": {
        "name": "ipython",
        "version": 3
      },
      "file_extension": ".py",
      "mimetype": "text/x-python",
      "name": "python",
      "nbconvert_exporter": "python",
      "pygments_lexer": "ipython3",
      "version": "3.13.5"
    }
  },
  "nbformat": 4,
  "nbformat_minor": 0
}
