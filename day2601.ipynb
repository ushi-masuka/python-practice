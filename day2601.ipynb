{
  "nbformat": 4,
  "nbformat_minor": 0,
  "metadata": {
    "colab": {
      "provenance": []
    },
    "kernelspec": {
      "name": "python3",
      "display_name": "Python 3"
    },
    "language_info": {
      "name": "python"
    }
  },
  "cells": [
    {
      "cell_type": "code",
      "execution_count": null,
      "metadata": {
        "id": "sM4qDcFv6ufd"
      },
      "outputs": [],
      "source": [
        "import numpy as np\n",
        "import pandas as pd\n",
        "\n",
        "import matplotlib.pyplot as plt\n",
        "import seaborn as sns\n",
        "\n",
        "plt.style.use(\"ggplot\")"
      ]
    },
    {
      "cell_type": "markdown",
      "source": [
        "###`Q 1-3` Using the 'diamonds' dataset - sns.load_dataset('diamonds')\n",
        "1. Create a violinplot of 'price' grouped by 'cut'.\n",
        "2. Create regplot on `carat` vs `price`. and give hue on 'cut'\n",
        "3. Create boxplot on 'color' and 'price'"
      ],
      "metadata": {
        "id": "QU2l4IFC62dQ"
      }
    },
    {
      "cell_type": "code",
      "source": [
        "# code here"
      ],
      "metadata": {
        "id": "sdqL2fwv61-p"
      },
      "execution_count": null,
      "outputs": []
    },
    {
      "cell_type": "markdown",
      "source": [
        "###`Q 4` Using the 'Taxis' dataset - sns.load_dataset('taxis')\n",
        "4.1. Create a categorical estimate plot of the totl fare - 'total' for each payment type - 'payment'.\n",
        "\n",
        "4.2. Create a regression plot on time of ride  vs total fare. You will need to calculate ride time using pickup and dropoff column.\n",
        "\n",
        "4.3 Give hue on payment type. and Another plot hue on taxi 'color'. Observe the plot."
      ],
      "metadata": {
        "id": "ZcZFd7wW65iR"
      }
    },
    {
      "cell_type": "code",
      "source": [
        "# code here"
      ],
      "metadata": {
        "id": "zmNTI2ZZ68kK"
      },
      "execution_count": null,
      "outputs": []
    },
    {
      "cell_type": "markdown",
      "source": [
        "## Problem 5-12:\n",
        "\n",
        "### **`Problem 5:`** Draw a strip plot and swarm plot between \"gender\" and \"bloodpressure\" w.r.t \"smoker\" (use as hue parameter). Also add title to the charts."
      ],
      "metadata": {
        "id": "jpmlauCo6-Jn"
      }
    },
    {
      "cell_type": "code",
      "source": [
        "# code here"
      ],
      "metadata": {
        "id": "C8_M1vbl7BoW"
      },
      "execution_count": null,
      "outputs": []
    },
    {
      "cell_type": "markdown",
      "source": [
        "### **`Problem 6:`** Draw a Box-plot and a Violin plot of which x-axis represents the \"region\" and the y-axis represents the \"bmi\". Also add extra information of the column \"diabetic\"."
      ],
      "metadata": {
        "id": "8vHtuz_s7DSL"
      }
    },
    {
      "cell_type": "code",
      "source": [
        "# code here"
      ],
      "metadata": {
        "id": "Mn8gAlFo7Gv3"
      },
      "execution_count": null,
      "outputs": []
    },
    {
      "cell_type": "markdown",
      "source": [
        "### **`Problem  7:`** Draw a bar plot and point plot of which x-axis represents the \"gender\" and y-axis represents \"claim\". Also add extra information about \"smoker\" column."
      ],
      "metadata": {
        "id": "OR_2iZ5Y7IEj"
      }
    },
    {
      "cell_type": "code",
      "source": [
        "# code here"
      ],
      "metadata": {
        "id": "FkmmroJc7K_e"
      },
      "execution_count": null,
      "outputs": []
    },
    {
      "cell_type": "markdown",
      "source": [
        "### **`Problem 8:`** Draw a reg plot between \"age\" and \"bmi\" columns."
      ],
      "metadata": {
        "id": "7Aa86F097MJl"
      }
    },
    {
      "cell_type": "code",
      "source": [
        "# code here"
      ],
      "metadata": {
        "id": "UvnOcywN7OSS"
      },
      "execution_count": null,
      "outputs": []
    },
    {
      "cell_type": "markdown",
      "source": [
        "### **`Problem 9:`** Draw a pair plot of the insurance data. Use \"gender\" as hue parameter."
      ],
      "metadata": {
        "id": "x7Wal-KS7Px9"
      }
    },
    {
      "cell_type": "code",
      "source": [
        "# code here"
      ],
      "metadata": {
        "id": "7iQeMSMm7Sui"
      },
      "execution_count": null,
      "outputs": []
    },
    {
      "cell_type": "markdown",
      "source": [
        "### **`Problem 10:`** Draw a pair grid of the insurance data and use \"diabetic\" column as a hue parameter. Also, make the diagonal plots as box-plot, upper parts as scatter plot and the lower parts as kde plot."
      ],
      "metadata": {
        "id": "6rY7QQyD7T77"
      }
    },
    {
      "cell_type": "code",
      "source": [
        "# code here"
      ],
      "metadata": {
        "id": "9x-pC4L-7WFu"
      },
      "execution_count": null,
      "outputs": []
    },
    {
      "cell_type": "markdown",
      "source": [
        "### **`Prolem 11:`** Draw a joint plot as scatter between \"bloodpressure\" and \"bmi\". Use \"smoker\" as hue parameter."
      ],
      "metadata": {
        "id": "njFB8Dvo7XWq"
      }
    },
    {
      "cell_type": "code",
      "source": [
        "# code here"
      ],
      "metadata": {
        "id": "BlSgPof77Z5y"
      },
      "execution_count": null,
      "outputs": []
    },
    {
      "cell_type": "markdown",
      "source": [
        "### **`Problem 12:`** Draw a joint grid of which x-axis represents \"age\" and y-axis represents \"claim\". Draw"
      ],
      "metadata": {
        "id": "XE2SICEP7bW2"
      }
    },
    {
      "cell_type": "code",
      "source": [
        "# code here"
      ],
      "metadata": {
        "id": "RE2cV67d7dR5"
      },
      "execution_count": null,
      "outputs": []
    }
  ]
}