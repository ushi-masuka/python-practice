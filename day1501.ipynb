{
  "cells": [
    {
      "cell_type": "code",
      "execution_count": 1,
      "metadata": {},
      "outputs": [],
      "source": [
        "import numpy as np"
      ]
    },
    {
      "cell_type": "markdown",
      "metadata": {
        "id": "J88qfqQEk_sT"
      },
      "source": [
        "###`Q-1:` Create a random 3x4 matrix with value between 0-100. And perform below tasks\n",
        "\n",
        "    i. Sort this matrix. np.sort()\n",
        "    ii. Sort this matrix based on values in 2nd column.\n",
        "    iii. Sort this matrix based on max value in each row.\n",
        "    iv. Sort based on elements value.\n"
      ]
    },
    {
      "cell_type": "markdown",
      "metadata": {
        "id": "xpOwOdhqlE9R"
      },
      "source": [
        "See examples:\n",
        "```\n",
        "arr =\n",
        "    [[92 90 74]\n",
        "    [ 6 63 93]\n",
        "    [15 93 96]\n",
        "    [70 60 48]]\n",
        "```\n",
        "```\n",
        "i. np.sort\n",
        "[[74 90 92]\n",
        " [ 6 63 93]\n",
        " [15 93 96]\n",
        " [48 60 70]]\n",
        "\n",
        "ii. based on 2nd column\n",
        "[[70 60 48]\n",
        " [ 6 63 93]\n",
        " [92 90 74]\n",
        " [15 93 96]]\n",
        "\n",
        "iii. based on row max- ascending\n",
        "[[15 93 96]\n",
        " [ 6 63 93]\n",
        " [92 90 74]\n",
        " [70 60 48]]\n",
        "\n",
        "iv. based on elements value\n",
        "[[ 6 15 48]\n",
        " [60 63 70]\n",
        " [74 90 92]\n",
        " [93 93 96]]\n",
        "\n",
        "```"
      ]
    },
    {
      "cell_type": "code",
      "execution_count": 23,
      "metadata": {
        "id": "Auy-guUwlALv"
      },
      "outputs": [
        {
          "name": "stdout",
          "output_type": "stream",
          "text": [
            "[[ 6 56 34  3]\n",
            " [33  6 14 95]\n",
            " [36 58 79 82]]\n"
          ]
        },
        {
          "data": {
            "text/plain": [
              "array([[ 3,  6, 34, 56],\n",
              "       [ 6, 14, 33, 95],\n",
              "       [36, 58, 79, 82]], dtype=int32)"
            ]
          },
          "execution_count": 23,
          "metadata": {},
          "output_type": "execute_result"
        }
      ],
      "source": [
        "arr1=np.random.randint(0,101,(3,4))\n",
        "print(arr1)\n",
        "#1\n",
        "np.sort(arr1)"
      ]
    },
    {
      "cell_type": "code",
      "execution_count": null,
      "metadata": {},
      "outputs": [
        {
          "data": {
            "text/plain": [
              "array([1, 0, 2])"
            ]
          },
          "execution_count": 37,
          "metadata": {},
          "output_type": "execute_result"
        }
      ],
      "source": [
        "'''np.lexsort(arr1[1,::],arr1) '''\n",
        "#tried using the order parameter of sort() and this also. didnt work\n",
        "np.argsort(arr1,axis=0)[::,1]\n",
        "#still cant figure out"
      ]
    },
    {
      "cell_type": "code",
      "execution_count": 41,
      "metadata": {},
      "outputs": [
        {
          "data": {
            "text/plain": [
              "array([[33,  6, 14, 95],\n",
              "       [ 6, 56, 34,  3],\n",
              "       [36, 58, 79, 82]], dtype=int32)"
            ]
          },
          "execution_count": 41,
          "metadata": {},
          "output_type": "execute_result"
        }
      ],
      "source": [
        "arr1[np.argsort(arr1[::,1])]"
      ]
    },
    {
      "cell_type": "code",
      "execution_count": null,
      "metadata": {},
      "outputs": [
        {
          "data": {
            "text/plain": [
              "array([[33,  6, 14, 95],\n",
              "       [ 6, 56, 34,  3],\n",
              "       [36, 58, 79, 82]], dtype=int32)"
            ]
          },
          "execution_count": 39,
          "metadata": {},
          "output_type": "execute_result"
        }
      ],
      "source": [
        "#from stack overflow\n",
        "#2\n",
        "arr1[arr1[:, 1].argsort()]"
      ]
    },
    {
      "cell_type": "code",
      "execution_count": null,
      "metadata": {},
      "outputs": [
        {
          "data": {
            "text/plain": [
              "array([[33,  6, 14, 95],\n",
              "       [36, 58, 79, 82],\n",
              "       [ 6, 56, 34,  3]], dtype=int32)"
            ]
          },
          "execution_count": 45,
          "metadata": {},
          "output_type": "execute_result"
        }
      ],
      "source": [
        "#3\n",
        "arr1[np.argsort(np.max(arr1,axis=1))][::-1]"
      ]
    },
    {
      "cell_type": "code",
      "execution_count": 46,
      "metadata": {},
      "outputs": [
        {
          "data": {
            "text/plain": [
              "array([[ 3,  6,  6, 14],\n",
              "       [33, 34, 36, 56],\n",
              "       [58, 79, 82, 95]], dtype=int32)"
            ]
          },
          "execution_count": 46,
          "metadata": {},
          "output_type": "execute_result"
        }
      ],
      "source": [
        "#4\n",
        "np.sort(arr1,axis=None).reshape(3,4)"
      ]
    },
    {
      "cell_type": "markdown",
      "metadata": {
        "id": "Jx_I3gx9lBay"
      },
      "source": [
        "###`Q-2:` There is an array of marks of 5 students in 4 subjects. Further you are asked to perform below task.\n",
        "    i. Add marks every student of an extra subject in the same array.\n",
        "    ii. Add two new students marks in respective 5 subjects.(one subject added in above task)\n",
        "    iii. Add extra column with sum of all subjects(5-subjects) marks\n",
        "    iv. Sort the array(non-ascending order) on total marks column--one added in above task. Show top 2 rows.\n",
        "\n",
        "Note: Change dimension of arrays during concatenation or appending if required."
      ]
    },
    {
      "cell_type": "markdown",
      "metadata": {
        "id": "lXF-CE6ylNIw"
      },
      "source": [
        "Given Array-\n",
        "```\n",
        "marks = [[13, 10,  9, 33],\n",
        "       [63, 46, 90, 42],\n",
        "       [39, 76, 13, 29],\n",
        "       [82,  9, 29, 78],\n",
        "       [67, 61, 59, 36]]\n",
        "\n",
        "extra_subject = [41, 87, 72, 36, 92]\n",
        "#Two extra students record-\n",
        "rec1 = [77, 83, 98, 95, 89]\n",
        "rec2 = [92, 71, 52, 61, 53]\n",
        "```"
      ]
    },
    {
      "cell_type": "code",
      "execution_count": 72,
      "metadata": {
        "id": "7YKsWO2olMkq"
      },
      "outputs": [
        {
          "data": {
            "text/plain": [
              "array([[13, 10,  9, 33, 41],\n",
              "       [63, 46, 90, 42, 87],\n",
              "       [39, 76, 13, 29, 72],\n",
              "       [82,  9, 29, 78, 36],\n",
              "       [67, 61, 59, 36, 92]])"
            ]
          },
          "execution_count": 72,
          "metadata": {},
          "output_type": "execute_result"
        }
      ],
      "source": [
        "marks = np.array([[13, 10,  9, 33],\n",
        "       [63, 46, 90, 42],\n",
        "       [39, 76, 13, 29],\n",
        "       [82,  9, 29, 78],\n",
        "       [67, 61, 59, 36]])\n",
        "extra_subject = np.array([41, 87, 72, 36, 92])\n",
        "#Two extra students record-\n",
        "rec1 = np.array([77, 83, 98, 95, 89])\n",
        "rec2 =np.array([92, 71, 52, 61, 53])\n",
        "\n",
        "#1\n",
        "'''marks=np.append(marks,extra_subject.reshape(5,1),axis=1)\n",
        "marks'''\n",
        "marks=np.hstack((marks,extra_subject.reshape(5,1)))\n",
        "marks\n"
      ]
    },
    {
      "cell_type": "code",
      "execution_count": 74,
      "metadata": {},
      "outputs": [
        {
          "data": {
            "text/plain": [
              "array([[13, 10,  9, 33, 41],\n",
              "       [63, 46, 90, 42, 87],\n",
              "       [39, 76, 13, 29, 72],\n",
              "       [82,  9, 29, 78, 36],\n",
              "       [67, 61, 59, 36, 92],\n",
              "       [77, 83, 98, 95, 89],\n",
              "       [92, 71, 52, 61, 53]])"
            ]
          },
          "execution_count": 74,
          "metadata": {},
          "output_type": "execute_result"
        }
      ],
      "source": [
        "#2\n",
        "marks=np.vstack((marks,rec1,rec2))\n",
        "marks"
      ]
    },
    {
      "cell_type": "code",
      "execution_count": 77,
      "metadata": {},
      "outputs": [
        {
          "data": {
            "text/plain": [
              "array([[ 13,  10,   9,  33,  41, 106],\n",
              "       [ 63,  46,  90,  42,  87, 328],\n",
              "       [ 39,  76,  13,  29,  72, 229],\n",
              "       [ 82,   9,  29,  78,  36, 234],\n",
              "       [ 67,  61,  59,  36,  92, 315],\n",
              "       [ 77,  83,  98,  95,  89, 442],\n",
              "       [ 92,  71,  52,  61,  53, 329]])"
            ]
          },
          "execution_count": 77,
          "metadata": {},
          "output_type": "execute_result"
        }
      ],
      "source": [
        "#3\n",
        "marks=np.append(marks,(np.sum(marks,axis=1)).reshape(7,1),axis=1)\n",
        "marks\n"
      ]
    },
    {
      "cell_type": "code",
      "execution_count": null,
      "metadata": {},
      "outputs": [
        {
          "data": {
            "text/plain": [
              "array([[ 77,  83,  98,  95,  89, 442],\n",
              "       [ 92,  71,  52,  61,  53, 329]])"
            ]
          },
          "execution_count": 80,
          "metadata": {},
          "output_type": "execute_result"
        }
      ],
      "source": [
        "#4\n",
        "marks=marks[np.argsort(marks[:,-1])][::-1]\n",
        "marks[0:2]\n",
        "\n"
      ]
    },
    {
      "cell_type": "markdown",
      "metadata": {
        "id": "VmOyK_8klRqR"
      },
      "source": [
        "###`Q-3:` Find unique arrays from a 2D array column wise and row wise.\n",
        "```\n",
        "arr = np.array([[1,2,3,3,1,1],\n",
        "                [0,9,1,2,8,8],\n",
        "                [1,2,3,8,8,8],\n",
        "                [1,2,3,3,1,1]])\n",
        "```\n",
        "Expected Result-\n",
        "```\n",
        "Row Wise\n",
        "[[0 9 1 2 8 8]\n",
        " [1 2 3 3 1 1]\n",
        " [1 2 3 8 8 8]]\n",
        "\n",
        "Col Wise\n",
        "[[1 1 2 3 3]\n",
        " [0 8 9 1 2]\n",
        " [1 8 2 3 8]\n",
        " [1 1 2 3 3]]\n",
        "```"
      ]
    },
    {
      "cell_type": "code",
      "execution_count": null,
      "metadata": {
        "id": "LJl10VQrlU5q"
      },
      "outputs": [
        {
          "data": {
            "text/plain": [
              "array([[1, 1, 2, 3, 3],\n",
              "       [0, 8, 9, 1, 2],\n",
              "       [1, 8, 2, 3, 8],\n",
              "       [1, 1, 2, 3, 3]])"
            ]
          },
          "execution_count": 82,
          "metadata": {},
          "output_type": "execute_result"
        }
      ],
      "source": [
        "arr = np.array([[1,2,3,3,1,1],\n",
        "                [0,9,1,2,8,8],\n",
        "                [1,2,3,8,8,8],\n",
        "                [1,2,3,3,1,1]])\n",
        "#col wise                \n",
        "np.unique(arr,axis=1)"
      ]
    },
    {
      "cell_type": "code",
      "execution_count": null,
      "metadata": {},
      "outputs": [
        {
          "data": {
            "text/plain": [
              "array([[0, 9, 1, 2, 8, 8],\n",
              "       [1, 2, 3, 3, 1, 1],\n",
              "       [1, 2, 3, 8, 8, 8]])"
            ]
          },
          "execution_count": 83,
          "metadata": {},
          "output_type": "execute_result"
        }
      ],
      "source": [
        "#row wise\n",
        "np.unique(arr,axis=0)"
      ]
    },
    {
      "cell_type": "markdown",
      "metadata": {
        "id": "RaXwVkywlWY2"
      },
      "source": [
        "###`Q-4:` Flip given 2-D array along both axes at the same time."
      ]
    },
    {
      "cell_type": "code",
      "execution_count": 90,
      "metadata": {
        "id": "mN7-4G8Kleeq"
      },
      "outputs": [
        {
          "name": "stdout",
          "output_type": "stream",
          "text": [
            "[[ 0  1  2  3  4  5  6  7  8  9]\n",
            " [10 11 12 13 14 15 16 17 18 19]\n",
            " [20 21 22 23 24 25 26 27 28 29]\n",
            " [30 31 32 33 34 35 36 37 38 39]\n",
            " [40 41 42 43 44 45 46 47 48 49]\n",
            " [50 51 52 53 54 55 56 57 58 59]\n",
            " [60 61 62 63 64 65 66 67 68 69]\n",
            " [70 71 72 73 74 75 76 77 78 79]\n",
            " [80 81 82 83 84 85 86 87 88 89]\n",
            " [90 91 92 93 94 95 96 97 98 99]]\n",
            "[[99 98 97 96 95 94 93 92 91 90]\n",
            " [89 88 87 86 85 84 83 82 81 80]\n",
            " [79 78 77 76 75 74 73 72 71 70]\n",
            " [69 68 67 66 65 64 63 62 61 60]\n",
            " [59 58 57 56 55 54 53 52 51 50]\n",
            " [49 48 47 46 45 44 43 42 41 40]\n",
            " [39 38 37 36 35 34 33 32 31 30]\n",
            " [29 28 27 26 25 24 23 22 21 20]\n",
            " [19 18 17 16 15 14 13 12 11 10]\n",
            " [ 9  8  7  6  5  4  3  2  1  0]]\n",
            "[[99 98 97 96 95 94 93 92 91 90]\n",
            " [89 88 87 86 85 84 83 82 81 80]\n",
            " [79 78 77 76 75 74 73 72 71 70]\n",
            " [69 68 67 66 65 64 63 62 61 60]\n",
            " [59 58 57 56 55 54 53 52 51 50]\n",
            " [49 48 47 46 45 44 43 42 41 40]\n",
            " [39 38 37 36 35 34 33 32 31 30]\n",
            " [29 28 27 26 25 24 23 22 21 20]\n",
            " [19 18 17 16 15 14 13 12 11 10]\n",
            " [ 9  8  7  6  5  4  3  2  1  0]]\n",
            "[[99 98 97 96 95 94 93 92 91 90]\n",
            " [89 88 87 86 85 84 83 82 81 80]\n",
            " [79 78 77 76 75 74 73 72 71 70]\n",
            " [69 68 67 66 65 64 63 62 61 60]\n",
            " [59 58 57 56 55 54 53 52 51 50]\n",
            " [49 48 47 46 45 44 43 42 41 40]\n",
            " [39 38 37 36 35 34 33 32 31 30]\n",
            " [29 28 27 26 25 24 23 22 21 20]\n",
            " [19 18 17 16 15 14 13 12 11 10]\n",
            " [ 9  8  7  6  5  4  3  2  1  0]]\n"
          ]
        }
      ],
      "source": [
        "arr=np.arange(0,100).reshape(10,10)\n",
        "print(arr)\n",
        "print(np.flip(np.flip(arr,1),0))\n",
        "print(np.flip(np.flip(arr,0),1))\n",
        "print(arr[::-1,::-1])"
      ]
    },
    {
      "cell_type": "markdown",
      "metadata": {
        "id": "X0S7BUNTlfoq"
      },
      "source": [
        "### `Q-5:` Get row numbers of NumPy array having element larger than X.\n",
        "```\n",
        "arr = [[1,2,3,4,5],\n",
        "      [10,-3,30,4,5],\n",
        "      [3,2,5,-4,5],\n",
        "      [9,7,3,6,5]]\n",
        "\n",
        "X = 6\n",
        "```"
      ]
    },
    {
      "cell_type": "code",
      "execution_count": 105,
      "metadata": {
        "id": "bi8jRmWhlkBU"
      },
      "outputs": [
        {
          "data": {
            "text/plain": [
              "array([1, 3])"
            ]
          },
          "execution_count": 105,
          "metadata": {},
          "output_type": "execute_result"
        }
      ],
      "source": [
        "arr = np.array([[1,2,3,4,5],\n",
        "      [10,-3,30,4,5],\n",
        "      [3,2,5,-4,5],\n",
        "      [9,7,3,6,5]])\n",
        "x=6\n",
        "np.unique(np.where(arr>x)[0])"
      ]
    },
    {
      "cell_type": "markdown",
      "metadata": {
        "id": "DSCQMo4mlnDG"
      },
      "source": [
        "### `Q-6:` How to convert an array of arrays into a flat 1d array?\n"
      ]
    },
    {
      "cell_type": "code",
      "execution_count": 110,
      "metadata": {
        "id": "QZhSkUT2lsJW"
      },
      "outputs": [
        {
          "name": "stdout",
          "output_type": "stream",
          "text": [
            "[0 1 2] [3 4 5] [7 8 9]\n"
          ]
        }
      ],
      "source": [
        "# These arrays are given.\n",
        "arr1 = np.arange(3)\n",
        "arr2 = np.arange(3,6)\n",
        "arr3 = np.arange(7,10)\n",
        "print(arr1,arr2,arr3,end=\"\\n\")"
      ]
    },
    {
      "cell_type": "code",
      "execution_count": 113,
      "metadata": {
        "id": "f42OXNrFls0I"
      },
      "outputs": [
        {
          "data": {
            "text/plain": [
              "array([0, 1, 2, 3, 4, 5, 7, 8, 9])"
            ]
          },
          "execution_count": 113,
          "metadata": {},
          "output_type": "execute_result"
        }
      ],
      "source": [
        "aoa=np.array([arr1,arr2,arr3])\n",
        "aoa.ravel()"
      ]
    },
    {
      "cell_type": "markdown",
      "metadata": {
        "id": "A1J4oOVCluqO"
      },
      "source": [
        "### `Q-7:` You are given a array. You have to find the minimum and maximum array element and remove that from the array.\n",
        "\n",
        "```python\n",
        "import numpy as np\n",
        "\n",
        "np.random.seed(400)\n",
        "arr = np.random.randint(100, 1000, 200).reshape((1, 200))\n",
        "```"
      ]
    },
    {
      "cell_type": "code",
      "execution_count": 115,
      "metadata": {
        "id": "c6kmgtUJlybZ"
      },
      "outputs": [
        {
          "data": {
            "text/plain": [
              "array([[448, 563, 418, 240, 507, 362, 345, 236, 719, 291, 298, 639, 458,\n",
              "        387, 262, 613, 267, 882, 181, 425, 790, 635, 889, 818, 872, 967,\n",
              "        277, 470, 336, 920, 917, 295, 557, 830, 506, 385, 353, 975, 592,\n",
              "        997, 137, 340, 222, 215, 472, 459, 617, 649, 935, 956, 914, 932,\n",
              "        645, 952, 921, 490, 527, 972, 278, 307, 840, 958, 246, 449, 251,\n",
              "        957, 103, 627, 920, 824, 356, 825, 173, 323, 372, 960, 710, 464,\n",
              "        244, 782, 763, 635, 436, 774, 171, 469, 178, 458, 624, 211, 771,\n",
              "        270, 308, 231, 952, 514, 699, 702, 433, 900, 373, 318, 998, 265,\n",
              "        503, 320, 230, 324, 922, 967, 620, 743, 527, 117, 566, 804, 123,\n",
              "        946, 587, 227, 853, 757, 944, 328, 855, 930, 325, 729, 426, 514,\n",
              "        296, 879, 575, 936, 705, 209, 191, 743, 510, 513, 628, 559, 658,\n",
              "        528, 395, 525, 922, 136, 496, 225, 895, 975, 263, 908, 420, 711,\n",
              "        800, 976, 786, 235, 930, 859, 618, 226, 695, 460, 218, 483, 490,\n",
              "        803, 621, 453, 193, 607, 677, 637, 728, 724, 534, 748, 291, 194,\n",
              "        761, 875, 687, 569, 228, 482, 781, 554, 654, 739, 885, 197, 266,\n",
              "        228, 892, 207, 883, 588]], dtype=int32)"
            ]
          },
          "execution_count": 115,
          "metadata": {},
          "output_type": "execute_result"
        }
      ],
      "source": [
        "np.random.seed(400)\n",
        "arr = np.random.randint(100, 1000, 200).reshape((1, 200))\n",
        "arr"
      ]
    },
    {
      "cell_type": "code",
      "execution_count": 120,
      "metadata": {},
      "outputs": [
        {
          "data": {
            "text/plain": [
              "array([448, 563, 418, 240, 507, 362, 345, 236, 719, 291, 298, 639, 458,\n",
              "       387, 262, 613, 267, 882, 181, 425, 790, 635, 889, 818, 872, 967,\n",
              "       277, 470, 336, 920, 917, 295, 557, 830, 506, 385, 353, 975, 592,\n",
              "       997, 137, 340, 222, 215, 472, 459, 617, 649, 935, 956, 914, 932,\n",
              "       645, 952, 921, 490, 527, 972, 278, 307, 840, 958, 246, 449, 251,\n",
              "       957, 627, 920, 824, 356, 825, 173, 323, 372, 960, 710, 464, 244,\n",
              "       782, 763, 635, 436, 774, 171, 469, 178, 458, 624, 211, 771, 270,\n",
              "       308, 231, 952, 514, 699, 702, 433, 900, 373, 318, 265, 503, 320,\n",
              "       230, 324, 922, 967, 620, 743, 527, 117, 566, 804, 123, 946, 587,\n",
              "       227, 853, 757, 944, 328, 855, 930, 325, 729, 426, 514, 296, 879,\n",
              "       575, 936, 705, 209, 191, 743, 510, 513, 628, 559, 658, 528, 395,\n",
              "       525, 922, 136, 496, 225, 895, 975, 263, 908, 420, 711, 800, 976,\n",
              "       786, 235, 930, 859, 618, 226, 695, 460, 218, 483, 490, 803, 621,\n",
              "       453, 193, 607, 677, 637, 728, 724, 534, 748, 291, 194, 761, 875,\n",
              "       687, 569, 228, 482, 781, 554, 654, 739, 885, 197, 266, 228, 892,\n",
              "       207, 883, 588], dtype=int32)"
            ]
          },
          "execution_count": 120,
          "metadata": {},
          "output_type": "execute_result"
        }
      ],
      "source": [
        "arr[(arr!=np.min(arr)) & (arr!=np.max(arr))]"
      ]
    },
    {
      "cell_type": "markdown",
      "metadata": {
        "id": "0dHN1sdnl0Jy"
      },
      "source": [
        "### `Q-8:` You are given an arrays. You have to limit this array's elements between 100 to 200. $arr ∈ [100, 700]$. So replace those values accordingly with the minimum and maximum value. Then sort the array and perform the cumulative sum of that array."
      ]
    },
    {
      "cell_type": "code",
      "execution_count": null,
      "metadata": {
        "id": "a3YF_E-Hlza7"
      },
      "outputs": [],
      "source": []
    },
    {
      "cell_type": "markdown",
      "metadata": {
        "id": "cXj90Susl4-I"
      },
      "source": [
        "### `Q-9:` You are given a array ($arr ∈ [0, 1]$). First you have round off the elements upto 3 decimal places and compare that\n",
        "- 0th percentile == minimum value of the array\n",
        "- 100th percentile == maximum value of the array\n",
        "- also find the difference betwen 51th percenile and 50th percentile values"
      ]
    },
    {
      "cell_type": "code",
      "execution_count": null,
      "metadata": {
        "id": "SgBEHodgl7Lo"
      },
      "outputs": [],
      "source": [
        "# code here"
      ]
    }
  ],
  "metadata": {
    "colab": {
      "provenance": []
    },
    "kernelspec": {
      "display_name": ".venv (3.13.5)",
      "language": "python",
      "name": "python3"
    },
    "language_info": {
      "codemirror_mode": {
        "name": "ipython",
        "version": 3
      },
      "file_extension": ".py",
      "mimetype": "text/x-python",
      "name": "python",
      "nbconvert_exporter": "python",
      "pygments_lexer": "ipython3",
      "version": "3.13.5"
    }
  },
  "nbformat": 4,
  "nbformat_minor": 0
}
