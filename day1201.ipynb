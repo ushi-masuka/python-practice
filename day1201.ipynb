{
  "cells": [
    {
      "cell_type": "code",
      "execution_count": 9,
      "metadata": {},
      "outputs": [
        {
          "ename": "NameError",
          "evalue": "name 'i' is not defined",
          "output_type": "error",
          "traceback": [
            "\u001b[31m---------------------------------------------------------------------------\u001b[39m",
            "\u001b[31mNameError\u001b[39m                                 Traceback (most recent call last)",
            "\u001b[36mCell\u001b[39m\u001b[36m \u001b[39m\u001b[32mIn[9]\u001b[39m\u001b[32m, line 1\u001b[39m\n\u001b[32m----> \u001b[39m\u001b[32m1\u001b[39m \u001b[38;5;28mprint\u001b[39m(\u001b[43mi\u001b[49m)\n\u001b[32m      2\u001b[39m i=\u001b[32m3\u001b[39m\n",
            "\u001b[31mNameError\u001b[39m: name 'i' is not defined"
          ]
        }
      ],
      "source": [
        "print(i)\n",
        "i=3"
      ]
    },
    {
      "cell_type": "code",
      "execution_count": null,
      "metadata": {},
      "outputs": [
        {
          "name": "stdout",
          "output_type": "stream",
          "text": [
            "3\n"
          ]
        }
      ],
      "source": [
        "l=[1,2,3]\n",
        "print(max(l))\n",
        "\n",
        "def max():\n",
        "    print(\"haha built in function overwritten\")\n",
        "\n",
        "#here the max(l) works after restarting the kernel. if I run the cell again , it wont work since max() is now overwritten.\n"
      ]
    },
    {
      "cell_type": "code",
      "execution_count": 6,
      "metadata": {},
      "outputs": [
        {
          "name": "stdout",
          "output_type": "stream",
          "text": [
            "a 140723751699432\n",
            "140723751699432 140723751699432\n",
            "3 4\n",
            "140723751699432 140723751699464\n",
            "3\n"
          ]
        }
      ],
      "source": [
        "#experiment\n",
        "\n",
        "a=3\n",
        "print(\"a\",id(a))\n",
        "def temp():\n",
        "    b=a\n",
        "    print(id(a),id(b))\n",
        "    b+=1\n",
        "    print(a,b)\n",
        "    print(id(a),id(b))\n",
        "\n",
        "temp()\n",
        "print(a)"
      ]
    },
    {
      "cell_type": "code",
      "execution_count": 7,
      "metadata": {},
      "outputs": [
        {
          "name": "stdout",
          "output_type": "stream",
          "text": [
            "a 140723751699432\n",
            "140723751699432\n",
            "4 140723751699464\n",
            "4\n"
          ]
        }
      ],
      "source": [
        "#experiment\n",
        "\n",
        "a=3\n",
        "print(\"a\",id(a))\n",
        "\n",
        "def temp():\n",
        "    global a \n",
        "    print(id(a))\n",
        "    a+=1\n",
        "    print(a,id(a))\n",
        "\n",
        "temp()\n",
        "print(a)"
      ]
    },
    {
      "cell_type": "markdown",
      "metadata": {
        "id": "hM8V4LxHKV6x"
      },
      "source": [
        "## Namespace and Scope"
      ]
    },
    {
      "cell_type": "markdown",
      "metadata": {
        "id": "Kl3s2TonKYgY"
      },
      "source": [
        "###`Q1:` Write `Person` Class as given below and then display it's namespace.\n",
        "\n"
      ]
    },
    {
      "cell_type": "markdown",
      "metadata": {
        "id": "grudG97hL83C"
      },
      "source": [
        "```\n",
        "Class Name - Person\n",
        "\n",
        "Attributes:\n",
        "name - public\n",
        "state - public\n",
        "city - private\n",
        "age - private\n",
        "\n",
        "Methods:\n",
        "address - public\n",
        "It give address of the person as \"<name>, <city>, <state>\"\n",
        "```"
      ]
    },
    {
      "cell_type": "code",
      "execution_count": 12,
      "metadata": {
        "id": "BRq-I4jmKX0U"
      },
      "outputs": [],
      "source": [
        "class person:\n",
        "\n",
        "    def __init__(self,name,state,city,age):\n",
        "        self.name=name\n",
        "        self.state=state\n",
        "        self.__city=city\n",
        "        self.__age=age\n",
        "    \n",
        "    def set_city(self,city):\n",
        "        self.__city=city\n",
        "\n",
        "    def set_age(self,age):\n",
        "        self.__age=age\n",
        "\n",
        "    def address(self):\n",
        "        return (self.name,self.__city,self.state)"
      ]
    },
    {
      "cell_type": "code",
      "execution_count": null,
      "metadata": {
        "id": "8XD7YgT-L_ZU"
      },
      "outputs": [
        {
          "data": {
            "text/plain": [
              "mappingproxy({'__module__': '__main__',\n",
              "              '__firstlineno__': 1,\n",
              "              '__init__': <function __main__.person.__init__(self, name, state, city, age)>,\n",
              "              'set_city': <function __main__.person.set_city(self, city)>,\n",
              "              'set_age': <function __main__.person.set_age(self, age)>,\n",
              "              'address': <function __main__.person.address(self)>,\n",
              "              '__static_attributes__': ('__age', '__city', 'name', 'state'),\n",
              "              '__dict__': <attribute '__dict__' of 'person' objects>,\n",
              "              '__weakref__': <attribute '__weakref__' of 'person' objects>,\n",
              "              '__doc__': None})"
            ]
          },
          "execution_count": 16,
          "metadata": {},
          "output_type": "execute_result"
        }
      ],
      "source": [
        "utkarsh=person(\"utkarsh\",\"delhi\",\"rohini\",21)\n",
        "\n",
        "utkarsh.address()\n",
        "\n",
        "person.__dict__"
      ]
    },
    {
      "cell_type": "markdown",
      "metadata": {
        "id": "NLtOPOXDL_zB"
      },
      "source": [
        "###`Q2:` Write a program to show namespace of object/instance of above(Person) class."
      ]
    },
    {
      "cell_type": "code",
      "execution_count": 17,
      "metadata": {
        "id": "w3fj9tf0MJ3Z"
      },
      "outputs": [
        {
          "data": {
            "text/plain": [
              "{'name': 'utkarsh',\n",
              " 'state': 'delhi',\n",
              " '_person__city': 'rohini',\n",
              " '_person__age': 21}"
            ]
          },
          "execution_count": 17,
          "metadata": {},
          "output_type": "execute_result"
        }
      ],
      "source": [
        "utkarsh.__dict__"
      ]
    },
    {
      "cell_type": "markdown",
      "metadata": {
        "id": "rRnCZmlUY8sn"
      },
      "source": [
        "###`Q3:` Write a recursive program to to calculate `gcd` and print no. of function calls taken to find the solution.\n",
        "```\n",
        "gcd(5,10) -> result in 5 as gcd and function call 4\n",
        "```"
      ]
    },
    {
      "cell_type": "code",
      "execution_count": 20,
      "metadata": {
        "id": "jYiVzxhUZRln"
      },
      "outputs": [],
      "source": [
        "def gcd(a,b,func=0):\n",
        "    func+=1\n",
        "    if b==0:\n",
        "        return a,func\n",
        "    else:\n",
        "        return gcd(b,a%b,func)"
      ]
    },
    {
      "cell_type": "code",
      "execution_count": 23,
      "metadata": {
        "id": "gwnOjBakeEiE"
      },
      "outputs": [
        {
          "data": {
            "text/plain": [
              "(1, 3)"
            ]
          },
          "execution_count": 23,
          "metadata": {},
          "output_type": "execute_result"
        }
      ],
      "source": [
        "gcd(5,2)"
      ]
    },
    {
      "cell_type": "markdown",
      "metadata": {
        "id": "FbDepR9QNGnh"
      },
      "source": [
        "## Itterator And Generator"
      ]
    },
    {
      "cell_type": "markdown",
      "metadata": {
        "id": "Nj5WaR_4NJTu"
      },
      "source": [
        "###`Q4:` Create MyEnumerate class,\n",
        "Create your own `MyEnumerate` class such that someone can use it instead of enumerate. It will need to return a `tuple` with each iteration, with the first element in the tuple being the `index` (starting with 0) and the second element being the `current element` from the underlying data structure. Trying to use `MyEnumerate` with a noniterable argument will result in an error.\n",
        "\n",
        "```\n",
        "for index, letter in MyEnumerate('abc'):\n",
        "    print(f'{index} : {letter}')\n",
        "```\n",
        "\n",
        "Output:\n",
        "```\n",
        "0 : a\n",
        "1 : b\n",
        "2 : c\n",
        "```"
      ]
    },
    {
      "cell_type": "code",
      "execution_count": null,
      "metadata": {
        "id": "6zjcm2gxNbfJ"
      },
      "outputs": [],
      "source": [
        "'''class MyEnumerate:\n",
        "\n",
        "    def __init__(self,iterable):\n",
        "        self.iterable=iterable\n",
        "        self.enum()\n",
        "    \n",
        "    def enum(self):\n",
        "        i=0\n",
        "        yield (i,self.iterable[i])\n",
        "        i+=1''' #first attempt , doesnt work "
      ]
    },
    {
      "cell_type": "code",
      "execution_count": 16,
      "metadata": {},
      "outputs": [],
      "source": [
        "class MyEnumerate:\n",
        "\n",
        "    def __init__(self,iterable):\n",
        "        iter(iterable) #will raise error if input not iterable\n",
        "        self.iterable=iterable\n",
        "\n",
        "    def __iter__(self):\n",
        "        index=0\n",
        "        for element in self.iterable:\n",
        "            yield(index,element)\n",
        "            index+=1"
      ]
    },
    {
      "cell_type": "code",
      "execution_count": 17,
      "metadata": {
        "colab": {
          "base_uri": "https://localhost:8080/"
        },
        "id": "m_gdOG4ANkVN",
        "outputId": "a6da68c5-0b0a-4b34-ba53-06d2217ce1ef"
      },
      "outputs": [
        {
          "data": {
            "text/plain": [
              "[(0, 'a'), (1, 'b'), (2, 'c')]"
            ]
          },
          "execution_count": 17,
          "metadata": {},
          "output_type": "execute_result"
        }
      ],
      "source": [
        "list(MyEnumerate(\"abc\"))"
      ]
    },
    {
      "cell_type": "code",
      "execution_count": 21,
      "metadata": {},
      "outputs": [
        {
          "name": "stdout",
          "output_type": "stream",
          "text": [
            "(0, 'a')\n",
            "(1, ',')\n",
            "(2, 'b')\n",
            "(3, ',')\n",
            "(4, 'c')\n"
          ]
        }
      ],
      "source": [
        "for i in (MyEnumerate(\"a,b,c\")):\n",
        "    print(i)"
      ]
    },
    {
      "cell_type": "code",
      "execution_count": 22,
      "metadata": {},
      "outputs": [
        {
          "ename": "TypeError",
          "evalue": "'int' object is not iterable",
          "output_type": "error",
          "traceback": [
            "\u001b[31m---------------------------------------------------------------------------\u001b[39m",
            "\u001b[31mTypeError\u001b[39m                                 Traceback (most recent call last)",
            "\u001b[36mCell\u001b[39m\u001b[36m \u001b[39m\u001b[32mIn[22]\u001b[39m\u001b[32m, line 1\u001b[39m\n\u001b[32m----> \u001b[39m\u001b[32m1\u001b[39m \u001b[38;5;28;01mfor\u001b[39;00m i \u001b[38;5;129;01min\u001b[39;00m (\u001b[43mMyEnumerate\u001b[49m\u001b[43m(\u001b[49m\u001b[32;43m123\u001b[39;49m\u001b[43m)\u001b[49m):\n\u001b[32m      2\u001b[39m     \u001b[38;5;28mprint\u001b[39m(i)\n",
            "\u001b[36mCell\u001b[39m\u001b[36m \u001b[39m\u001b[32mIn[16]\u001b[39m\u001b[32m, line 4\u001b[39m, in \u001b[36mMyEnumerate.__init__\u001b[39m\u001b[34m(self, iterable)\u001b[39m\n\u001b[32m      3\u001b[39m \u001b[38;5;28;01mdef\u001b[39;00m\u001b[38;5;250m \u001b[39m\u001b[34m__init__\u001b[39m(\u001b[38;5;28mself\u001b[39m,iterable):\n\u001b[32m----> \u001b[39m\u001b[32m4\u001b[39m     \u001b[38;5;28;43miter\u001b[39;49m\u001b[43m(\u001b[49m\u001b[43miterable\u001b[49m\u001b[43m)\u001b[49m \u001b[38;5;66;03m#will raise error if input not iterable\u001b[39;00m\n\u001b[32m      5\u001b[39m     \u001b[38;5;28mself\u001b[39m.iterable=iterable\n",
            "\u001b[31mTypeError\u001b[39m: 'int' object is not iterable"
          ]
        }
      ],
      "source": [
        "for i in (MyEnumerate(123)):\n",
        "    print(i)"
      ]
    },
    {
      "cell_type": "code",
      "execution_count": 18,
      "metadata": {
        "id": "ya--mdHwNxdX"
      },
      "outputs": [
        {
          "name": "stdout",
          "output_type": "stream",
          "text": [
            "0 1\n",
            "1 2\n",
            "2 3\n",
            "3 4\n",
            "4 5\n"
          ]
        }
      ],
      "source": [
        "for i,e in MyEnumerate([1,2,3,4,5]):\n",
        "    print(i,e)"
      ]
    },
    {
      "cell_type": "markdown",
      "metadata": {
        "id": "U2Ai7rVDOLBw"
      },
      "source": [
        "###`Q5:` Iterate in circle\n",
        "Define a class, `Circle`, that takes two arguments when defined: a sequence and a number. The idea is that the object will then return elements the defined number of times. If the number is greater than the number of elements, then the sequence  repeats as necessary. You can define an another class used as a helper (like I call `CircleIterator`).\n",
        "\n",
        "```\n",
        "c = Circle('abc', 5)\n",
        "d = Circle('abc', 7)\n",
        "print(list(c))\n",
        "print(list(d))\n",
        "```\n",
        "\n",
        "Output\n",
        "```\n",
        "[a, b, c, a, b]\n",
        "[a, b, c, a, b, c, a]\n",
        "```"
      ]
    },
    {
      "cell_type": "code",
      "execution_count": null,
      "metadata": {
        "id": "iwcTy1HyO5hs"
      },
      "outputs": [],
      "source": [
        "'''class Circle:\n",
        "\n",
        "    def __init__(self,seq,num):\n",
        "        self.seq=seq\n",
        "        self.num=num\n",
        "\n",
        "    def __iter__(self):\n",
        "        newseq=iter(self.seq*(self.num//len(self.seq)) + self.seq[:self.num%(len(self.seq))])\n",
        "        for i in newseq:\n",
        "            yield(i)\n",
        "''' #works but since the newseq is being made, is memory inefficient\n",
        "\n",
        "    \n",
        "\n",
        "    \n"
      ]
    },
    {
      "cell_type": "code",
      "execution_count": 1,
      "metadata": {},
      "outputs": [],
      "source": [
        "class Circle:\n",
        "\n",
        "    def __init__(self,seq,num):\n",
        "        self.seq=seq\n",
        "        self.num=num\n",
        "\n",
        "    def __iter__(self):\n",
        "        return CircleIterator(self.seq,self.num)\n",
        "\n",
        "\n",
        "class CircleIterator:\n",
        "\n",
        "    def __init__(self,seq,num):\n",
        "        self.seq=seq\n",
        "        self.num=num\n",
        "        self.index=0\n",
        "\n",
        "\n",
        "    def __iter__(self):\n",
        "        return self\n",
        "\n",
        "    def __next__(self):\n",
        "        if self.index>=self.num:\n",
        "            raise StopIteration\n",
        "\n",
        "        \n",
        "        value= self.seq[self.index%len(self.seq)]\n",
        "        self.index+=1\n",
        "        return value"
      ]
    },
    {
      "cell_type": "code",
      "execution_count": 2,
      "metadata": {
        "colab": {
          "base_uri": "https://localhost:8080/"
        },
        "id": "wZlcmTt7PHLm",
        "outputId": "08201359-2f12-4ea6-a40e-fdd900498946"
      },
      "outputs": [
        {
          "data": {
            "text/plain": [
              "['a', 'b', 'c', 'a', 'b']"
            ]
          },
          "execution_count": 2,
          "metadata": {},
          "output_type": "execute_result"
        }
      ],
      "source": [
        "c=Circle(\"abc\",5)\n",
        "list(c)\n"
      ]
    },
    {
      "cell_type": "markdown",
      "metadata": {
        "id": "17KyhciKQnAE"
      },
      "source": [
        "###`Q6:` Generator time elapsed\n",
        "Write a generator function whose argument must be iterable. With each iteration, the generator will return a two-element tuple. The first element in the tuple will be an integer indicating how many seconds have passed since the previous iteration. The tuple’s second element will be the next item from the passed argument.\n",
        "\n",
        "Note that the timing should be relative to the previous iteration, not when the\n",
        "generator was first created or invoked. Thus the timing number in the first iteration\n",
        "will be 0\n",
        "\n",
        "```\n",
        "for t in elapsed_since('abcd'):\n",
        "    print(t)\n",
        "    time.sleep(2)\n",
        "```\n",
        "\n",
        "Output:\n",
        "```\n",
        "(0.0, 'a')\n",
        "(2.005651817999933, 'b')\n",
        "(2.0023095009998997, 'c')\n",
        "(2.001949742000079, 'd')\n",
        "```\n",
        "Note: Your output may differ because of diffrent system has different processing configuration."
      ]
    },
    {
      "cell_type": "code",
      "execution_count": null,
      "metadata": {
        "id": "UkH1tj9zQ-gc"
      },
      "outputs": [],
      "source": [
        "'''import time\n",
        "\n",
        "def elapsed_since(seq):\n",
        "    iter(seq)\n",
        "    t1=0\n",
        "    for i in seq:\n",
        "        yield(t1,i)\n",
        "        t2=time.time_ns()\n",
        "        t1=t2-t1''' #time measurement wrong"
      ]
    },
    {
      "cell_type": "code",
      "execution_count": null,
      "metadata": {},
      "outputs": [],
      "source": [
        "import time\n",
        "\n",
        "def elapsed_since(seq):\n",
        "    try:\n",
        "        it=iter(seq)\n",
        "        first_item=next(it)\n",
        "        last_time=time.monotonic()\n",
        "        yield(0.0,first_item)\n",
        "    except StopIteration:\n",
        "        print(\"empty seq\")\n",
        "        return\n",
        "    except TypeError:\n",
        "        print(\"please pass an iterable\")\n",
        "        return\n",
        "\n",
        "    for item in it:\n",
        "        current_time=time.monotonic()\n",
        "        delta=current_time-last_time\n",
        "        yield(delta,item)\n",
        "        last_time=current_time\n",
        "    \n",
        "\n",
        "    \n",
        "\n",
        "            "
      ]
    },
    {
      "cell_type": "code",
      "execution_count": 32,
      "metadata": {},
      "outputs": [
        {
          "name": "stdout",
          "output_type": "stream",
          "text": [
            "empty seq\n"
          ]
        }
      ],
      "source": [
        "for t in elapsed_since(''):\n",
        "    print(t)\n",
        "    time.sleep(2)"
      ]
    },
    {
      "cell_type": "code",
      "execution_count": 31,
      "metadata": {},
      "outputs": [
        {
          "name": "stdout",
          "output_type": "stream",
          "text": [
            "(0.0, 'a')\n"
          ]
        }
      ],
      "source": [
        "for t in elapsed_since('a'):\n",
        "    print(t)\n",
        "    time.sleep(2)"
      ]
    },
    {
      "cell_type": "code",
      "execution_count": 30,
      "metadata": {},
      "outputs": [
        {
          "name": "stdout",
          "output_type": "stream",
          "text": [
            "please pass an iterable\n"
          ]
        }
      ],
      "source": [
        "for t in elapsed_since(1):\n",
        "    print(t)\n",
        "    time.sleep(2)"
      ]
    },
    {
      "cell_type": "code",
      "execution_count": 27,
      "metadata": {
        "colab": {
          "base_uri": "https://localhost:8080/"
        },
        "id": "i0X6JreBRlYG",
        "outputId": "f7bae901-6522-4cb7-bea2-5587cebd478a"
      },
      "outputs": [
        {
          "name": "stdout",
          "output_type": "stream",
          "text": [
            "(0.0, 'a')\n",
            "(2.000518099986948, 'b')\n",
            "(2.000812100013718, 'c')\n",
            "(2.0006939999875613, 'd')\n"
          ]
        }
      ],
      "source": [
        "for t in elapsed_since('abcd'):\n",
        "    print(t)\n",
        "    time.sleep(2)"
      ]
    },
    {
      "cell_type": "code",
      "execution_count": 7,
      "metadata": {},
      "outputs": [],
      "source": [
        "#exp with generators\n",
        "\n",
        "def squaregen(n):\n",
        "    for i in range(n):\n",
        "        yield i**2\n",
        "\n"
      ]
    },
    {
      "cell_type": "code",
      "execution_count": 13,
      "metadata": {},
      "outputs": [
        {
          "data": {
            "text/plain": [
              "<generator object squaregen at 0x00000208FCBB3E00>"
            ]
          },
          "execution_count": 13,
          "metadata": {},
          "output_type": "execute_result"
        }
      ],
      "source": [
        "squaregen(5)"
      ]
    },
    {
      "cell_type": "code",
      "execution_count": 14,
      "metadata": {},
      "outputs": [
        {
          "data": {
            "text/plain": [
              "[0, 1, 4, 9, 16, 25]"
            ]
          },
          "execution_count": 14,
          "metadata": {},
          "output_type": "execute_result"
        }
      ],
      "source": [
        "list(squaregen(6))"
      ]
    },
    {
      "cell_type": "code",
      "execution_count": 12,
      "metadata": {},
      "outputs": [
        {
          "name": "stdout",
          "output_type": "stream",
          "text": [
            "0\n",
            "1\n",
            "4\n",
            "9\n",
            "16\n"
          ]
        }
      ],
      "source": [
        "for i in squaregen(5):\n",
        "    print(i)"
      ]
    },
    {
      "cell_type": "markdown",
      "metadata": {
        "id": "fXr3OJxJSC1j"
      },
      "source": [
        "## Decorators"
      ]
    },
    {
      "cell_type": "markdown",
      "metadata": {
        "id": "xSjvwAt-SFhi"
      },
      "source": [
        "###`Q7:` Write a Python program to make a chain of function decorators (bold, italic, underline etc.) on a given function which prints \"hello world\"\n",
        "\n",
        "```\n",
        "def hello():\n",
        "    return \"hello world\"\n",
        "```\n",
        "\n",
        "```\n",
        "bold - wrap string with <b> tag. <b>Str</b>\n",
        "italic - wrap string with <i> tag. <i>Str</i>\n",
        "underline- wrap string with <u> tag. <u>Str</u>\n",
        "```"
      ]
    },
    {
      "cell_type": "code",
      "execution_count": 36,
      "metadata": {
        "id": "prVeZGYlSorr"
      },
      "outputs": [
        {
          "data": {
            "text/plain": [
              "'<b><i><u>hello world</u></i></b>'"
            ]
          },
          "execution_count": 36,
          "metadata": {},
          "output_type": "execute_result"
        }
      ],
      "source": [
        "def bold(func):\n",
        "    def wrapper():\n",
        "        return(f\"<b>{func()}</b>\")\n",
        "    return wrapper\n",
        "def ital(func):\n",
        "    def wrapper():\n",
        "        return(f\"<i>{func()}</i>\")\n",
        "    return wrapper\n",
        "def underline(func):\n",
        "    def wrapper():\n",
        "        return(f\"<u>{func()}</u>\")\n",
        "    return wrapper\n",
        "\n",
        "\n",
        "@bold\n",
        "@ital\n",
        "@underline\n",
        "def hello():\n",
        "    return \"hello world\"\n",
        "\n",
        "hello()"
      ]
    },
    {
      "cell_type": "code",
      "execution_count": 47,
      "metadata": {},
      "outputs": [
        {
          "data": {
            "text/plain": [
              "'<b><b><i><u>hello world</u></i></b></b>'"
            ]
          },
          "execution_count": 47,
          "metadata": {},
          "output_type": "execute_result"
        }
      ],
      "source": [
        "b=bold(hello)\n",
        "b()"
      ]
    },
    {
      "cell_type": "markdown",
      "metadata": {
        "id": "miKBwPy4TQWa"
      },
      "source": [
        "###`Q8:` Write a decorator called `printer` which causes any decorated function to print their return values. If the return value of a given function is `None`, printer should do nothing.\n",
        "\n"
      ]
    },
    {
      "cell_type": "code",
      "execution_count": 48,
      "metadata": {
        "id": "05s0poRoT9II"
      },
      "outputs": [],
      "source": [
        "def printer(func):\n",
        "    def wrapper(*args):\n",
        "        a=func(*args)\n",
        "        if a is not None:\n",
        "            print(a)\n",
        "    return wrapper\n",
        "\n",
        "@printer\n",
        "def inkless():\n",
        "    pass\n",
        "\n",
        "@printer\n",
        "def fullink(n):\n",
        "    return n"
      ]
    },
    {
      "cell_type": "code",
      "execution_count": 50,
      "metadata": {
        "colab": {
          "base_uri": "https://localhost:8080/"
        },
        "id": "U86ZE73WT-ux",
        "outputId": "c9ffa235-861c-4e07-fa29-c05d4346a10f"
      },
      "outputs": [
        {
          "name": "stdout",
          "output_type": "stream",
          "text": [
            "abc\n",
            "bcq\n"
          ]
        }
      ],
      "source": [
        "inkless()\n",
        "a=\"abc\"\n",
        "fullink(a)\n",
        "b=\"bcq\"\n",
        "fullink(b)"
      ]
    },
    {
      "cell_type": "markdown",
      "metadata": {
        "id": "DWJLjPOnURua"
      },
      "source": [
        "###`Q9:` Make a decorator which calls a given function twice. You can assume the functions don't return anything important, but they may take arguments.\n",
        "```\n",
        "#Lets say given function\n",
        "def hello(string):\n",
        "    print(string)\n",
        "\n",
        "#on calling after specified decorator is inplaced\n",
        "hello('hello')\n",
        "```\n",
        "\n",
        "Output:\n",
        "```\n",
        "hello\n",
        "hello\n",
        "```"
      ]
    },
    {
      "cell_type": "code",
      "execution_count": 51,
      "metadata": {
        "id": "e38y0cz7UTdD"
      },
      "outputs": [],
      "source": [
        "def twice(func):\n",
        "    def wrapper(*args):\n",
        "        return func(*args),func(*args)\n",
        "    return wrapper\n",
        "\n",
        "@twice\n",
        "def hello(s):\n",
        "    print(s)\n",
        "\n"
      ]
    },
    {
      "cell_type": "code",
      "execution_count": 52,
      "metadata": {
        "colab": {
          "base_uri": "https://localhost:8080/"
        },
        "id": "6uLp_cHcUVXR",
        "outputId": "ec5be948-1f60-49a6-a691-3aaba8b54c99"
      },
      "outputs": [
        {
          "name": "stdout",
          "output_type": "stream",
          "text": [
            "hello\n",
            "hello\n"
          ]
        },
        {
          "data": {
            "text/plain": [
              "(None, None)"
            ]
          },
          "execution_count": 52,
          "metadata": {},
          "output_type": "execute_result"
        }
      ],
      "source": [
        "hello(\"hello\")"
      ]
    },
    {
      "cell_type": "markdown",
      "metadata": {
        "id": "8btcQI9pWi2w"
      },
      "source": [
        "### `Q10:` Write a decorator which doubles the return value of any function. And test that decoratos is working correctly or not using `asert`.\n",
        "\n",
        "```\n",
        "add(2,3) -> result in 10. Without decorator it should be 5.\n",
        "```"
      ]
    },
    {
      "cell_type": "code",
      "execution_count": 54,
      "metadata": {
        "id": "nG6S_zQ9XFb3"
      },
      "outputs": [],
      "source": [
        "def double(func):\n",
        "    def wrapper(*args):\n",
        "        return (func(*args))*2\n",
        "    return wrapper\n",
        "\n",
        "@double\n",
        "def add(a,b):\n",
        "    return a+b\n"
      ]
    },
    {
      "cell_type": "code",
      "execution_count": 58,
      "metadata": {
        "id": "s16-A_RpXp2K"
      },
      "outputs": [
        {
          "ename": "AssertionError",
          "evalue": "",
          "output_type": "error",
          "traceback": [
            "\u001b[31m---------------------------------------------------------------------------\u001b[39m",
            "\u001b[31mAssertionError\u001b[39m                            Traceback (most recent call last)",
            "\u001b[36mCell\u001b[39m\u001b[36m \u001b[39m\u001b[32mIn[58]\u001b[39m\u001b[32m, line 1\u001b[39m\n\u001b[32m----> \u001b[39m\u001b[32m1\u001b[39m \u001b[38;5;28;01massert\u001b[39;00m add(\u001b[32m2\u001b[39m,\u001b[32m3\u001b[39m)==\u001b[32m5\u001b[39m\n\u001b[32m      2\u001b[39m \u001b[38;5;28mprint\u001b[39m(\u001b[33m\"\u001b[39m\u001b[33myayy\u001b[39m\u001b[33m\"\u001b[39m)\n",
            "\u001b[31mAssertionError\u001b[39m: "
          ]
        }
      ],
      "source": [
        "assert add(2,3)==5\n",
        "print(\"yayy\")"
      ]
    },
    {
      "cell_type": "code",
      "execution_count": 60,
      "metadata": {},
      "outputs": [
        {
          "name": "stdout",
          "output_type": "stream",
          "text": [
            "yayy\n"
          ]
        }
      ],
      "source": [
        "assert add(2,3)==10\n",
        "print(\"yayy\")"
      ]
    },
    {
      "cell_type": "code",
      "execution_count": null,
      "metadata": {},
      "outputs": [],
      "source": []
    }
  ],
  "metadata": {
    "colab": {
      "provenance": []
    },
    "kernelspec": {
      "display_name": ".venv (3.13.5)",
      "language": "python",
      "name": "python3"
    },
    "language_info": {
      "codemirror_mode": {
        "name": "ipython",
        "version": 3
      },
      "file_extension": ".py",
      "mimetype": "text/x-python",
      "name": "python",
      "nbconvert_exporter": "python",
      "pygments_lexer": "ipython3",
      "version": "3.13.5"
    }
  },
  "nbformat": 4,
  "nbformat_minor": 0
}
