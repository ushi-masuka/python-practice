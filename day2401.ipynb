{
  "nbformat": 4,
  "nbformat_minor": 0,
  "metadata": {
    "colab": {
      "provenance": []
    },
    "kernelspec": {
      "name": "python3",
      "display_name": "Python 3"
    },
    "language_info": {
      "name": "python"
    }
  },
  "cells": [
    {
      "cell_type": "code",
      "execution_count": null,
      "metadata": {
        "id": "rn7iBjG55x3s"
      },
      "outputs": [],
      "source": [
        "import numpy as np\n",
        "import pandas as pd\n",
        "import matplotlib.pyplot as plt\n",
        "\n",
        "from sklearn.preprocessing import LabelEncoder\n",
        "\n",
        "plt.style.use('default')"
      ]
    },
    {
      "cell_type": "markdown",
      "source": [
        "## **Problem 1 to 2:**\n",
        "\n",
        "**Dataset link:** https://rb.gy/gsmddu\n",
        "\n",
        "**Add a label to every axis and add a proper title for the charts (For every subplot, it is applicable). Also add proper labels if there are multiple representations.** Then, you can customize it as your wish."
      ],
      "metadata": {
        "id": "ssYUbOcG59i6"
      }
    },
    {
      "cell_type": "markdown",
      "source": [
        "### **Problem-1:** Make a subplots which have 2 plots.\n",
        "\n",
        "- For the first chart, draw a scatter plot \"*Monitored Cap.(MW)*\" vs \"*Total Cap. Under Maintenance (MW)*\" of top 5 most frequent power stations. Then draw the lines which indicate the average values of these two columns. Change the colors according to the names of the Power Stations.\n",
        "- For the second chart, draw a scatter plot \"*Monitored Cap. (MW)*\" vs \"*Actual(MU)*\" of the top 5 most frequent power stations. Also draw the lines which indicates the average values of these two columns. Change the colors according to the names of the Power Stations.\n"
      ],
      "metadata": {
        "id": "gFuSF6UV6DTx"
      }
    },
    {
      "cell_type": "code",
      "source": [
        "# code here"
      ],
      "metadata": {
        "id": "HfaLSzT253_2"
      },
      "execution_count": null,
      "outputs": []
    },
    {
      "cell_type": "markdown",
      "source": [
        "### **Problem-2:** Draw a 3D Scatter plot between \"*Monitored Cap.(MW)*\", \"*Total Cap. Under Maintenace (MW)*\" and \"*Forced Maintanence(MW)*\""
      ],
      "metadata": {
        "id": "WdFEAOAH69UD"
      }
    },
    {
      "cell_type": "code",
      "source": [
        "# code here"
      ],
      "metadata": {
        "id": "RCHXYRpm7AXM"
      },
      "execution_count": null,
      "outputs": []
    },
    {
      "cell_type": "markdown",
      "source": [
        "### **Problem-3:** Make a 3D *Surface* plot of this below mathematical equation.\n",
        "\n",
        "$$z = |x| - |y|$$"
      ],
      "metadata": {
        "id": "b8WkvGhb7C01"
      }
    },
    {
      "cell_type": "code",
      "source": [
        "# code here"
      ],
      "metadata": {
        "id": "0nWEnUJv7GB9"
      },
      "execution_count": null,
      "outputs": []
    },
    {
      "cell_type": "markdown",
      "source": [
        "### **Problem-4:** Draw the 3D *Contour plot* of this below equation:\n",
        "\n",
        "$$z = |x| - |y|$$"
      ],
      "metadata": {
        "id": "LeanWP7Q7IFB"
      }
    },
    {
      "cell_type": "code",
      "source": [
        "# code here"
      ],
      "metadata": {
        "id": "OTPy3rbM7K59"
      },
      "execution_count": null,
      "outputs": []
    },
    {
      "cell_type": "markdown",
      "source": [
        "### **Problem-5:** Draw a second type of Countour plot of the below equation:\n",
        "\n",
        "$$z = |x| - |y|$$"
      ],
      "metadata": {
        "id": "79ODDz7l7Mfm"
      }
    },
    {
      "cell_type": "code",
      "source": [
        "# code here"
      ],
      "metadata": {
        "id": "AKw8q_lK7PYN"
      },
      "execution_count": null,
      "outputs": []
    },
    {
      "cell_type": "markdown",
      "source": [
        "## `Problem 6-7`\n",
        "\n",
        "Data Set Link - https://docs.google.com/spreadsheets/d/17tUL2yC7MGvo7txuuhLtAI-b6_C4jc0t7FLFxqRm-uI/edit?usp=share_link\n",
        "\n",
        "\n",
        "**Description of Dataset:**\n",
        "\n",
        "* Date: It gives the date of which stocks details are given.\n",
        "* Symbol: Name of stock\n",
        "* Open: It gives the opening price of stock on that date.\n",
        "* High: It gives the highest price to which the stock ascened on that day.\n",
        "* Low: It gives the highest price to which the stock plummeted on that day.\n",
        "* Close: It gives the closing price of stock on that date.\n",
        "* Volume: It gives the amount of stock traded on that date.\n",
        "* VWAP: The volume-weighted average price (VWAP) is a statistic used by traders to determine what the average price is based on both price and volume.\n",
        "* Turnover:"
      ],
      "metadata": {
        "id": "MPwbt2OX7RMv"
      }
    },
    {
      "cell_type": "markdown",
      "source": [
        "### `Problem-6` Use Pandas plot functions\n",
        "\n",
        "* Line plot of closing value of top 5 Stocks in Year 2020.\n",
        "* Take top 5 stocks based on total turnover in Year 2020"
      ],
      "metadata": {
        "id": "QbHNIoHG7Z5d"
      }
    },
    {
      "cell_type": "code",
      "source": [
        "# code here"
      ],
      "metadata": {
        "id": "ZqtC3KEv7W4F"
      },
      "execution_count": null,
      "outputs": []
    },
    {
      "cell_type": "markdown",
      "source": [
        "### `Problem-7` Scatter plot Close price vs Volume for TOP-5 Stocks in year 2021\n",
        "* Color on Symbol Column"
      ],
      "metadata": {
        "id": "LhOl-yAa7ejw"
      }
    },
    {
      "cell_type": "code",
      "source": [
        "# code here"
      ],
      "metadata": {
        "id": "JRGP0m0q7fLt"
      },
      "execution_count": null,
      "outputs": []
    },
    {
      "cell_type": "markdown",
      "source": [
        "### `Problem-8` Create a 3-D Scatter Plot using `time,x,y` on below synthetic data. and give color gradiant on `z`\n",
        "```\n",
        "# Create a 3D dataset\n",
        "time = np.linspace(0, 10, 100)\n",
        "x = np.sin(time)\n",
        "y = np.cos(time)\n",
        "z = time\n",
        "\n",
        "# Create a DataFrame from the dataset\n",
        "data = pd.DataFrame({'time': time, 'x': x, 'y': y, 'z': z})\n",
        "```"
      ],
      "metadata": {
        "id": "ZBt0PHRq7g_-"
      }
    },
    {
      "cell_type": "code",
      "source": [
        "# code here"
      ],
      "metadata": {
        "id": "sVTi-RNl7kLs"
      },
      "execution_count": null,
      "outputs": []
    },
    {
      "cell_type": "markdown",
      "source": [
        "### `Problem 9:` Create a surface plot and the 2 types of the contour plots of the below equation.\n",
        "\n",
        "$$z = sin(\\sqrt{x^2 + y^2})$$\n"
      ],
      "metadata": {
        "id": "x1se2uXc7mZV"
      }
    },
    {
      "cell_type": "code",
      "source": [
        "# code here"
      ],
      "metadata": {
        "id": "G-oDKAZO7p5D"
      },
      "execution_count": null,
      "outputs": []
    },
    {
      "cell_type": "markdown",
      "source": [
        "### `Problem 10:` Create a surface plot and the 2 types of the contour plots of the below equation.\n",
        "\n",
        "$$z = tan(\\log_2({x^2 + y^2})$$"
      ],
      "metadata": {
        "id": "FGcw71nR7rgH"
      }
    },
    {
      "cell_type": "code",
      "source": [
        "# code here"
      ],
      "metadata": {
        "id": "4lzu6AHn7vyw"
      },
      "execution_count": null,
      "outputs": []
    }
  ]
}