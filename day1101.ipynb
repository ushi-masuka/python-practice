{
  "cells": [
    {
      "cell_type": "code",
      "execution_count": 11,
      "metadata": {},
      "outputs": [
        {
          "name": "stdout",
          "output_type": "stream",
          "text": [
            "amnt cant be negative\n",
            "10000\n"
          ]
        }
      ],
      "source": [
        "#experimenting \n",
        "class bank:\n",
        "\n",
        "    def __init__(self,balance):\n",
        "        self.balance=balance\n",
        "\n",
        "    def withdraw(self,amt):\n",
        "        if amt<0:\n",
        "            raise Exception(\"amnt cant be negative\")\n",
        "        else:\n",
        "            self.balance=self.balance-amt\n",
        "\n",
        "    def display(self):\n",
        "        return(self.balance)\n",
        "\n",
        "\n",
        "obj=bank(10000)\n",
        "try:\n",
        "    obj.withdraw(-3000)\n",
        "except Exception as e:\n",
        "    print(e)\n",
        "finally:\n",
        "    print(obj.display())\n"
      ]
    },
    {
      "cell_type": "markdown",
      "metadata": {
        "id": "ajVfqio_GinI"
      },
      "source": [
        "## Exception Handling\n"
      ]
    },
    {
      "cell_type": "markdown",
      "metadata": {
        "id": "0qnQkJtnGozz"
      },
      "source": [
        "###`Q-1`: You are given a function definition. There might be several issues on execution of this function. You are asked to do exception handling for diffrent errors that this function goes in to `without altering this function`. And print error text.\n",
        "\n"
      ]
    },
    {
      "cell_type": "markdown",
      "metadata": {
        "id": "2no_EB2fGyGq"
      },
      "source": [
        "Function parameters `l -> list, s -> could be anything`\n",
        "\n",
        "```\n",
        "def function(l: list, s, **args):\n",
        "    last_element = l[-1]\n",
        "    \n",
        "    l[int(s)]=10\n",
        "    any_element = l[int(s)+10]\n",
        "    l[s]=10\n",
        "    \n",
        "    res = sum(l)\n",
        "    \n",
        "    p = args['p']\n",
        "    # print(p)\n",
        "    return res/last_element * p + any_element\n",
        "\n",
        "```\n",
        "Check for different function calls:- \n",
        "\n",
        "```\n",
        "function([1,2,1], 12)\n",
        "function([1,2,1]*9, '1-2')\n",
        "function([1,'2',1]*9, 12)\n",
        "function([1,'2',1]*9, 12)\n",
        "function([1,2,0]*9, 12  )\n",
        "function([1,2,1]*9, 12, p=None)\n",
        "function([1,2,0]*9, 12, p=10)\n",
        "```"
      ]
    },
    {
      "cell_type": "code",
      "execution_count": 2,
      "metadata": {},
      "outputs": [],
      "source": [
        "def function(l: list, s, **args):\n",
        "    last_element = l[-1]\n",
        "    \n",
        "    l[int(s)]=10\n",
        "    any_element = l[int(s)+10]\n",
        "    l[s]=10\n",
        "    \n",
        "    res = sum(l)\n",
        "    \n",
        "    p = args['p']\n",
        "    # print(p)\n",
        "    return res/last_element * p + any_element"
      ]
    },
    {
      "cell_type": "code",
      "execution_count": 19,
      "metadata": {
        "id": "VoaL4_9eGjFU"
      },
      "outputs": [
        {
          "name": "stdout",
          "output_type": "stream",
          "text": [
            "IndexError\n"
          ]
        }
      ],
      "source": [
        "\n",
        "try:\n",
        "    print([function([1,2,1], 12),function([1,2,1]*9, '1-2'),function([1,'2',1]*9, 12),function([1,'2',1]*9, 12),function([1,2,0]*9, 12  ),function([1,2,1]*9, 12, p=None),function([1,2,0]*9, 12, p=10)])\n",
        "except IndexError as e:\n",
        "    print(\"IndexError\")\n",
        "except TypeError as e:\n",
        "    print(\"TypeError\")\n",
        "except ValueError as e:\n",
        "    print(\"ValueError\")\n",
        "except KeyError as e:\n",
        "    print(\"Keyerror\")\n",
        "except ZeroDivisionError as e:\n",
        "    print(\"cant divide by zero\")\n",
        "    "
      ]
    },
    {
      "cell_type": "markdown",
      "metadata": {
        "id": "HuLMy2fVG9sL"
      },
      "source": [
        "###`Q-2:` You are given a code snippet. There might be several issues on execution of this code. You are asked to do exception handling for diffrent errors, condition is what ever happens we need to execute last line printing correct result of `sum of elements`.\n",
        "\n",
        "List have elemnts as any no of  `key-pair dict with key as list index and value as any integer`, `integers` and `numeric-strings`. There is always only one element in the dict.\n",
        "\n",
        "\n",
        "```\n",
        "l = [{0:2},2,3,4,'5', {5:10}]\n",
        "# For calculating sum of above list\n",
        "s=0\n",
        "for i in range(len(l)):\n",
        "    #You can Edit code from here\n",
        "    s += l[i].get(i)\n",
        "    s += l[i]\n",
        "    s += int(l[i])\n",
        "\n",
        "\n",
        "print(s)\n",
        "```"
      ]
    },
    {
      "cell_type": "code",
      "execution_count": 7,
      "metadata": {
        "id": "pEP8JU0qHAf8"
      },
      "outputs": [
        {
          "name": "stdout",
          "output_type": "stream",
          "text": [
            "26\n"
          ]
        }
      ],
      "source": [
        "l = [{0:2},2,3,4,'5', {5:10}]\n",
        "# For calculating sum of above list\n",
        "s=0\n",
        "for i in range(len(l)):\n",
        "    #You can Edit code from here\n",
        "    try:\n",
        "        s += l[i].get(i)\n",
        "    except Exception:\n",
        "        pass\n",
        "    try:\n",
        "        s += int(l[i])\n",
        "    except Exception:\n",
        "        pass\n",
        "\n",
        "print(s)"
      ]
    },
    {
      "cell_type": "markdown",
      "metadata": {
        "id": "ohE2fDTXHIan"
      },
      "source": [
        "### `Q-3:`: File Handling with Exception handling\n",
        "\n",
        "Write a program that opens a text file and write data to it as \"Hello, Good Morning!!!\". Handle exceptions that can be generated during the I/O operations. Do not show the success message on the main exception handling block (write inside the else block)."
      ]
    },
    {
      "cell_type": "code",
      "execution_count": 13,
      "metadata": {
        "id": "iOeiWrcIHPlY"
      },
      "outputs": [
        {
          "name": "stdout",
          "output_type": "stream",
          "text": [
            "file successfully made\n"
          ]
        }
      ],
      "source": [
        "try:\n",
        "    with open(\"day1102.txt\",\"w\") as f:\n",
        "        f.write(\"Hello goodmorning!!!\")\n",
        "except Exception as e:\n",
        "    print(e)\n",
        "else:\n",
        "    print(\"file successfully made\")"
      ]
    },
    {
      "cell_type": "markdown",
      "metadata": {
        "id": "ru8g8-_bHTUf"
      },
      "source": [
        "### `Q-4`: Number game program.\n",
        "\n",
        "Write a number game program. Ask the user to enter a number. If the number is greater than number to be guessed, raise a **ValueTooLarge** exception. If the value is smaller the number to be guessed the, raise a **ValueTooSmall** exception and prompt the user to enter again. Quit the program only when the user enters the correct number. Also raise **GuessError** if user guess a number less than 1."
      ]
    },
    {
      "cell_type": "code",
      "execution_count": 35,
      "metadata": {
        "id": "QftlN5LJHZSX"
      },
      "outputs": [],
      "source": [
        "import random\n",
        "\n",
        "class ValueTooLarge(Exception):\n",
        "    pass\n",
        "\n",
        "class ValueTooSmall(Exception):\n",
        "    pass\n",
        "\n",
        "class GuessError(Exception):\n",
        "    pass\n",
        "\n",
        "\n",
        "def StartGame():\n",
        "    jackpot=random.randint(1,1001)\n",
        "\n",
        "    while True:\n",
        "        try:  \n",
        "            num=int(input(\"please enter the number: \"))\n",
        "            if num>jackpot:\n",
        "                raise ValueTooLarge(\"guess lower\")\n",
        "            elif num<jackpot:\n",
        "                raise ValueTooSmall(\"guess higher\")\n",
        "            elif num<1:\n",
        "                raise GuessError(\"jackpot is between 1-1000\")\n",
        "            else:\n",
        "                print(\"congrats\")\n",
        "                break\n",
        "        except ValueTooLarge as e:\n",
        "            print(e)\n",
        "        except ValueTooSmall as e:\n",
        "            print(e)\n",
        "        except GuessError as e:\n",
        "            print(e)\n",
        "        except Exception as e:\n",
        "            print(e)\n",
        "    \n",
        "\n"
      ]
    },
    {
      "cell_type": "code",
      "execution_count": 36,
      "metadata": {},
      "outputs": [
        {
          "name": "stdout",
          "output_type": "stream",
          "text": [
            "guess lower\n",
            "guess higher\n",
            "guess lower\n",
            "guess higher\n",
            "guess lower\n",
            "guess higher\n",
            "guess higher\n",
            "guess lower\n",
            "guess lower\n",
            "guess higher\n",
            "guess higher\n",
            "congrats\n"
          ]
        }
      ],
      "source": [
        "StartGame()"
      ]
    },
    {
      "cell_type": "markdown",
      "metadata": {
        "id": "ZsGI_40fHcsd"
      },
      "source": [
        "### `Q-5:` Cast vote\n",
        "\n",
        "Write a program that validate name and age as entered by the user to determine whether the person can cast vote or not. To handle the age, create **InvalidAge** exception and for name, create **InvalidName** exception. The name will be invalid when the string will be empty or name has only one word.\n",
        "\n",
        "Example 1:\n",
        "\n",
        "Input:\n",
        "\n",
        "```bash\n",
        "Enter the name:               goransh singh\n",
        "Enter the age: 25\n",
        "```\n",
        "\n",
        "Output:\n",
        "\n",
        "```bash\n",
        "Goransh Singh  Congratulation !!! You can vote.\n",
        "```"
      ]
    },
    {
      "cell_type": "code",
      "execution_count": 42,
      "metadata": {
        "id": "OHL3UiS4Hi3U"
      },
      "outputs": [
        {
          "name": "stdout",
          "output_type": "stream",
          "text": [
            "voter must be 18 or above.\n"
          ]
        }
      ],
      "source": [
        "class InvalidAge(Exception):\n",
        "    pass\n",
        "class InvalidName(Exception):\n",
        "    pass\n",
        "\n",
        "def Vote():\n",
        "    name=str(input(\"please enter the name: \"))\n",
        "    age=int(input(\"please enter the age: \"))\n",
        "\n",
        "    if len(name.split())<=1:\n",
        "        raise InvalidName(\"name must have more that 1 word\")\n",
        "\n",
        "    if age<18:\n",
        "        raise InvalidAge(\"voter must be 18 or above.\")\n",
        "\n",
        "    else:\n",
        "        print(f\"{name} congrats you can vote\")\n",
        "\n",
        "try:\n",
        "    Vote()\n",
        "except Exception as e:\n",
        "    print(e)\n",
        "\n",
        "\n",
        "\n"
      ]
    },
    {
      "cell_type": "markdown",
      "metadata": {
        "id": "SCvs0QjgHlOG"
      },
      "source": [
        "### `Q-6`: Write a python function which infinitely prints natural numbers in a single line. Raise the **StopIteration** exception after displaying first 20 numnbers to exit from the program."
      ]
    },
    {
      "cell_type": "code",
      "execution_count": 5,
      "metadata": {
        "id": "Lc5ilNgNHoSx"
      },
      "outputs": [],
      "source": [
        "def natnum():\n",
        "    i=1\n",
        "    try:\n",
        "        while True:\n",
        "            print(i,end=\" \")\n",
        "            i+=1\n",
        "            if i==21:\n",
        "                raise StopIteration(\"20 nums printed\")\n",
        "                \n",
        "    except StopIteration as e:\n",
        "        print(e)"
      ]
    },
    {
      "cell_type": "code",
      "execution_count": 6,
      "metadata": {},
      "outputs": [
        {
          "name": "stdout",
          "output_type": "stream",
          "text": [
            "1 2 3 4 5 6 7 8 9 10 11 12 13 14 15 16 17 18 19 20 20 nums printed\n"
          ]
        }
      ],
      "source": [
        "natnum()"
      ]
    },
    {
      "cell_type": "code",
      "execution_count": 8,
      "metadata": {},
      "outputs": [],
      "source": [
        "#using generator:\n",
        "\n",
        "def nat_num_generator():\n",
        "    num=1\n",
        "    while True:\n",
        "        yield num\n",
        "        num+=1\n",
        "\n",
        "nums=nat_num_generator()\n",
        "\n"
      ]
    },
    {
      "cell_type": "code",
      "execution_count": 9,
      "metadata": {},
      "outputs": [
        {
          "name": "stdout",
          "output_type": "stream",
          "text": [
            "1 2 3 4 5 6 7 8 9 10 11 12 13 14 15 16 17 18 19 20 \n",
            "\n",
            "20 nums printed\n"
          ]
        }
      ],
      "source": [
        "try:\n",
        "    for num in nums:\n",
        "        print(num,end=\" \")\n",
        "        if num>=20:\n",
        "            raise StopIteration \n",
        "except StopIteration:\n",
        "    print(\"\\n\\n20 nums printed\")"
      ]
    },
    {
      "cell_type": "code",
      "execution_count": null,
      "metadata": {},
      "outputs": [],
      "source": []
    }
  ],
  "metadata": {
    "colab": {
      "provenance": []
    },
    "kernelspec": {
      "display_name": ".venv (3.13.5)",
      "language": "python",
      "name": "python3"
    },
    "language_info": {
      "codemirror_mode": {
        "name": "ipython",
        "version": 3
      },
      "file_extension": ".py",
      "mimetype": "text/x-python",
      "name": "python",
      "nbconvert_exporter": "python",
      "pygments_lexer": "ipython3",
      "version": "3.13.5"
    }
  },
  "nbformat": 4,
  "nbformat_minor": 0
}
