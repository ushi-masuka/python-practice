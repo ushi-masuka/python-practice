{
  "cells": [
    {
      "cell_type": "code",
      "execution_count": 11,
      "metadata": {},
      "outputs": [
        {
          "name": "stdout",
          "output_type": "stream",
          "text": [
            "amnt cant be negative\n",
            "10000\n"
          ]
        }
      ],
      "source": [
        "#experimenting \n",
        "class bank:\n",
        "\n",
        "    def __init__(self,balance):\n",
        "        self.balance=balance\n",
        "\n",
        "    def withdraw(self,amt):\n",
        "        if amt<0:\n",
        "            raise Exception(\"amnt cant be negative\")\n",
        "        else:\n",
        "            self.balance=self.balance-amt\n",
        "\n",
        "    def display(self):\n",
        "        return(self.balance)\n",
        "\n",
        "\n",
        "obj=bank(10000)\n",
        "try:\n",
        "    obj.withdraw(-3000)\n",
        "except Exception as e:\n",
        "    print(e)\n",
        "finally:\n",
        "    print(obj.display())\n"
      ]
    },
    {
      "cell_type": "markdown",
      "metadata": {
        "id": "ajVfqio_GinI"
      },
      "source": [
        "## Exception Handling\n"
      ]
    },
    {
      "cell_type": "markdown",
      "metadata": {
        "id": "0qnQkJtnGozz"
      },
      "source": [
        "###`Q-1`: You are given a function definition. There might be several issues on execution of this function. You are asked to do exception handling for diffrent errors that this function goes in to `without altering this function`. And print error text.\n",
        "\n"
      ]
    },
    {
      "cell_type": "markdown",
      "metadata": {
        "id": "2no_EB2fGyGq"
      },
      "source": [
        "Function parameters `l -> list, s -> could be anything`\n",
        "\n",
        "```\n",
        "def function(l: list, s, **args):\n",
        "    last_element = l[-1]\n",
        "    \n",
        "    l[int(s)]=10\n",
        "    any_element = l[int(s)+10]\n",
        "    l[s]=10\n",
        "    \n",
        "    res = sum(l)\n",
        "    \n",
        "    p = args['p']\n",
        "    # print(p)\n",
        "    return res/last_element * p + any_element\n",
        "\n",
        "```\n",
        "Check for different function calls:- \n",
        "\n",
        "```\n",
        "function([1,2,1], 12)\n",
        "function([1,2,1]*9, '1-2')\n",
        "function([1,'2',1]*9, 12)\n",
        "function([1,'2',1]*9, 12)\n",
        "function([1,2,0]*9, 12  )\n",
        "function([1,2,1]*9, 12, p=None)\n",
        "function([1,2,0]*9, 12, p=10)\n",
        "```"
      ]
    },
    {
      "cell_type": "code",
      "execution_count": 2,
      "metadata": {},
      "outputs": [],
      "source": [
        "def function(l: list, s, **args):\n",
        "    last_element = l[-1]\n",
        "    \n",
        "    l[int(s)]=10\n",
        "    any_element = l[int(s)+10]\n",
        "    l[s]=10\n",
        "    \n",
        "    res = sum(l)\n",
        "    \n",
        "    p = args['p']\n",
        "    # print(p)\n",
        "    return res/last_element * p + any_element"
      ]
    },
    {
      "cell_type": "code",
      "execution_count": null,
      "metadata": {},
      "outputs": [
        {
          "ename": "IndexError",
          "evalue": "list assignment index out of range",
          "output_type": "error",
          "traceback": [
            "\u001b[31m---------------------------------------------------------------------------\u001b[39m",
            "\u001b[31mIndexError\u001b[39m                                Traceback (most recent call last)",
            "\u001b[36mCell\u001b[39m\u001b[36m \u001b[39m\u001b[32mIn[17]\u001b[39m\u001b[32m, line 1\u001b[39m\n\u001b[32m----> \u001b[39m\u001b[32m1\u001b[39m fl=[\u001b[43mfunction\u001b[49m\u001b[43m(\u001b[49m\u001b[43m[\u001b[49m\u001b[32;43m1\u001b[39;49m\u001b[43m,\u001b[49m\u001b[32;43m2\u001b[39;49m\u001b[43m,\u001b[49m\u001b[32;43m1\u001b[39;49m\u001b[43m]\u001b[49m\u001b[43m,\u001b[49m\u001b[43m \u001b[49m\u001b[32;43m12\u001b[39;49m\u001b[43m)\u001b[49m,function([\u001b[32m1\u001b[39m,\u001b[32m2\u001b[39m,\u001b[32m1\u001b[39m]*\u001b[32m9\u001b[39m, \u001b[33m'\u001b[39m\u001b[33m1-2\u001b[39m\u001b[33m'\u001b[39m),function([\u001b[32m1\u001b[39m,\u001b[33m'\u001b[39m\u001b[33m2\u001b[39m\u001b[33m'\u001b[39m,\u001b[32m1\u001b[39m]*\u001b[32m9\u001b[39m, \u001b[32m12\u001b[39m),function([\u001b[32m1\u001b[39m,\u001b[33m'\u001b[39m\u001b[33m2\u001b[39m\u001b[33m'\u001b[39m,\u001b[32m1\u001b[39m]*\u001b[32m9\u001b[39m, \u001b[32m12\u001b[39m),function([\u001b[32m1\u001b[39m,\u001b[32m2\u001b[39m,\u001b[32m0\u001b[39m]*\u001b[32m9\u001b[39m, \u001b[32m12\u001b[39m  ),function([\u001b[32m1\u001b[39m,\u001b[32m2\u001b[39m,\u001b[32m1\u001b[39m]*\u001b[32m9\u001b[39m, \u001b[32m12\u001b[39m, p=\u001b[38;5;28;01mNone\u001b[39;00m),function([\u001b[32m1\u001b[39m,\u001b[32m2\u001b[39m,\u001b[32m0\u001b[39m]*\u001b[32m9\u001b[39m, \u001b[32m12\u001b[39m, p=\u001b[32m10\u001b[39m)]\n",
            "\u001b[36mCell\u001b[39m\u001b[36m \u001b[39m\u001b[32mIn[2]\u001b[39m\u001b[32m, line 4\u001b[39m, in \u001b[36mfunction\u001b[39m\u001b[34m(l, s, **args)\u001b[39m\n\u001b[32m      1\u001b[39m \u001b[38;5;28;01mdef\u001b[39;00m\u001b[38;5;250m \u001b[39m\u001b[34mfunction\u001b[39m(l: \u001b[38;5;28mlist\u001b[39m, s, **args):\n\u001b[32m      2\u001b[39m     last_element = l[-\u001b[32m1\u001b[39m]\n\u001b[32m----> \u001b[39m\u001b[32m4\u001b[39m     \u001b[43ml\u001b[49m\u001b[43m[\u001b[49m\u001b[38;5;28;43mint\u001b[39;49m\u001b[43m(\u001b[49m\u001b[43ms\u001b[49m\u001b[43m)\u001b[49m\u001b[43m]\u001b[49m=\u001b[32m10\u001b[39m\n\u001b[32m      5\u001b[39m     any_element = l[\u001b[38;5;28mint\u001b[39m(s)+\u001b[32m10\u001b[39m]\n\u001b[32m      6\u001b[39m     l[s]=\u001b[32m10\u001b[39m\n",
            "\u001b[31mIndexError\u001b[39m: list assignment index out of range"
          ]
        }
      ],
      "source": []
    },
    {
      "cell_type": "code",
      "execution_count": 19,
      "metadata": {
        "id": "VoaL4_9eGjFU"
      },
      "outputs": [
        {
          "name": "stdout",
          "output_type": "stream",
          "text": [
            "IndexError\n"
          ]
        }
      ],
      "source": [
        "\n",
        "try:\n",
        "    print([function([1,2,1], 12),function([1,2,1]*9, '1-2'),function([1,'2',1]*9, 12),function([1,'2',1]*9, 12),function([1,2,0]*9, 12  ),function([1,2,1]*9, 12, p=None),function([1,2,0]*9, 12, p=10)])\n",
        "except IndexError as e:\n",
        "    print(\"IndexError\")\n",
        "except TypeError as e:\n",
        "    print(\"TypeError\")\n",
        "except ValueError as e:\n",
        "    print(\"ValueError\")\n",
        "except KeyError as e:\n",
        "    print(\"Keyerror\")\n",
        "except ZeroDivisionError as e:\n",
        "    print(\"cant divide by zero\")\n",
        "    "
      ]
    },
    {
      "cell_type": "markdown",
      "metadata": {
        "id": "HuLMy2fVG9sL"
      },
      "source": [
        "###`Q-2:` You are given a code snippet. There might be several issues on execution of this code. You are asked to do exception handling for diffrent errors, condition is what ever happens we need to execute last line printing correct result of `sum of elements`.\n",
        "\n",
        "List have elemnts as any no of  `key-pair dict with key as list index and value as any integer`, `integers` and `numeric-strings`. There is always only one element in the dict.\n",
        "\n",
        "\n",
        "```\n",
        "l = [{0:2},2,3,4,'5', {5:10}]\n",
        "# For calculating sum of above list\n",
        "s=0\n",
        "for i in range(len(l)):\n",
        "    #You can Edit code from here\n",
        "    s += l[i].get(i)\n",
        "    s += l[i]\n",
        "    s += int(l[i])\n",
        "\n",
        "\n",
        "print(s)\n",
        "```"
      ]
    },
    {
      "cell_type": "code",
      "execution_count": null,
      "metadata": {
        "id": "pEP8JU0qHAf8"
      },
      "outputs": [],
      "source": [
        "# Write code here"
      ]
    },
    {
      "cell_type": "markdown",
      "metadata": {
        "id": "ohE2fDTXHIan"
      },
      "source": [
        "### `Q-3:`: File Handling with Exception handling\n",
        "\n",
        "Write a program that opens a text file and write data to it as \"Hello, Good Morning!!!\". Handle exceptions that can be generated during the I/O operations. Do not show the success message on the main exception handling block (write inside the else block)."
      ]
    },
    {
      "cell_type": "code",
      "execution_count": null,
      "metadata": {
        "id": "iOeiWrcIHPlY"
      },
      "outputs": [],
      "source": [
        "# write code here"
      ]
    },
    {
      "cell_type": "markdown",
      "metadata": {
        "id": "ru8g8-_bHTUf"
      },
      "source": [
        "### `Q-4`: Number game program.\n",
        "\n",
        "Write a number game program. Ask the user to enter a number. If the number is greater than number to be guessed, raise a **ValueTooLarge** exception. If the value is smaller the number to be guessed the, raise a **ValueTooSmall** exception and prompt the user to enter again. Quit the program only when the user enters the correct number. Also raise **GuessError** if user guess a number less than 1."
      ]
    },
    {
      "cell_type": "code",
      "execution_count": null,
      "metadata": {
        "id": "QftlN5LJHZSX"
      },
      "outputs": [],
      "source": [
        "# Write code here"
      ]
    },
    {
      "cell_type": "markdown",
      "metadata": {
        "id": "ZsGI_40fHcsd"
      },
      "source": [
        "### `Q-5:` Cast vote\n",
        "\n",
        "Write a program that validate name and age as entered by the user to determine whether the person can cast vote or not. To handle the age, create **InvalidAge** exception and for name, create **InvalidName** exception. The name will be invalid when the string will be empty or name has only one word.\n",
        "\n",
        "Example 1:\n",
        "\n",
        "Input:\n",
        "\n",
        "```bash\n",
        "Enter the name:               goransh singh\n",
        "Enter the age: 25\n",
        "```\n",
        "\n",
        "Output:\n",
        "\n",
        "```bash\n",
        "Goransh Singh  Congratulation !!! You can vote.\n",
        "```"
      ]
    },
    {
      "cell_type": "code",
      "execution_count": null,
      "metadata": {
        "id": "OHL3UiS4Hi3U"
      },
      "outputs": [],
      "source": [
        "# Write code here"
      ]
    },
    {
      "cell_type": "markdown",
      "metadata": {
        "id": "SCvs0QjgHlOG"
      },
      "source": [
        "### `Q-6`: Write a python function which infinitely prints natural numbers in a single line. Raise the **StopIteration** exception after displaying first 20 numnbers to exit from the program."
      ]
    },
    {
      "cell_type": "code",
      "execution_count": null,
      "metadata": {
        "id": "Lc5ilNgNHoSx"
      },
      "outputs": [],
      "source": [
        "# Write code here"
      ]
    }
  ],
  "metadata": {
    "colab": {
      "provenance": []
    },
    "kernelspec": {
      "display_name": ".venv (3.13.5)",
      "language": "python",
      "name": "python3"
    },
    "language_info": {
      "codemirror_mode": {
        "name": "ipython",
        "version": 3
      },
      "file_extension": ".py",
      "mimetype": "text/x-python",
      "name": "python",
      "nbconvert_exporter": "python",
      "pygments_lexer": "ipython3",
      "version": "3.13.5"
    }
  },
  "nbformat": 4,
  "nbformat_minor": 0
}
